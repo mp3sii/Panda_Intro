{
 "cells": [
  {
   "cell_type": "markdown",
   "metadata": {},
   "source": [
    "# Pandas\n",
    "Pandas is an open source, BSD-licensed library providing high-performance, easy-to-use data structures and data analysis tools for the Python programming language."
   ]
  },
  {
   "cell_type": "code",
   "execution_count": 289,
   "metadata": {},
   "outputs": [],
   "source": [
    "import pandas as pd\n",
    "import numpy as np\n",
    "import os"
   ]
  },
  {
   "cell_type": "markdown",
   "metadata": {},
   "source": [
    "## Data Types\n",
    "### Numpy Array\n",
    "A Numpy array is a 1 row array."
   ]
  },
  {
   "cell_type": "code",
   "execution_count": 290,
   "metadata": {},
   "outputs": [
    {
     "data": {
      "text/plain": [
       "array([1, 2, 3])"
      ]
     },
     "execution_count": 290,
     "metadata": {},
     "output_type": "execute_result"
    }
   ],
   "source": [
    "np.random.rand(3)\n",
    "np.array([1,2,3])"
   ]
  },
  {
   "cell_type": "markdown",
   "metadata": {},
   "source": [
    "### Series\n",
    "Series is a one-dimensional labeled array (column) capable of holding any data type (integers, strings, floating point numbers, Python objects, etc.). The axis labels are collectively referred to as the index. The basic method to create a Series is to call:"
   ]
  },
  {
   "cell_type": "code",
   "execution_count": 291,
   "metadata": {},
   "outputs": [
    {
     "data": {
      "text/plain": [
       "a    5.1\n",
       "b    5.1\n",
       "c    5.1\n",
       "dtype: float64"
      ]
     },
     "execution_count": 291,
     "metadata": {},
     "output_type": "execute_result"
    }
   ],
   "source": [
    "pd.Series({'a1': 2, 'a2': 'b'}) # Using Dictionary\n",
    "pd.Series([1, 'b'], index=['a1', 'a2']) # Using List of values and list index\n",
    "pd.Series(5.1, index=['a', 'b', 'c']) # Using scalar"
   ]
  },
  {
   "cell_type": "markdown",
   "metadata": {},
   "source": [
    "#### Slicing \n",
    "A series can be sliced"
   ]
  },
  {
   "cell_type": "code",
   "execution_count": 292,
   "metadata": {},
   "outputs": [
    {
     "data": {
      "text/plain": [
       "a    1\n",
       "b    2\n",
       "dtype: int64"
      ]
     },
     "execution_count": 292,
     "metadata": {},
     "output_type": "execute_result"
    }
   ],
   "source": [
    "pd.Series([1,2,3], index=['a', 'b', 'c'])[0:2]"
   ]
  },
  {
   "cell_type": "markdown",
   "metadata": {},
   "source": [
    "As the series is indexed, it also behaves like a dictionary"
   ]
  },
  {
   "cell_type": "code",
   "execution_count": 293,
   "metadata": {},
   "outputs": [
    {
     "data": {
      "text/plain": [
       "2"
      ]
     },
     "execution_count": 293,
     "metadata": {},
     "output_type": "execute_result"
    }
   ],
   "source": [
    "pd.Series([1,2,3], index=['a', 'b', 'c'])['b']\n",
    "pd.Series([1,2,3], index=['a', 'b', 'c']).get('d', np.NaN)\n",
    "pd.Series([1,2,3], index=['a', 'b', 'c']).get('b')"
   ]
  },
  {
   "cell_type": "markdown",
   "metadata": {},
   "source": [
    "#### Basic Operations\n",
    "Basic operations can be done in series without the need of iterating through each element. This operations allow both for using scalars as well as another series.\n",
    "* Additions of a series with an scalar or another series\n",
    "* Multiplication of a series with an scalar or another series"
   ]
  },
  {
   "cell_type": "code",
   "execution_count": 294,
   "metadata": {},
   "outputs": [
    {
     "data": {
      "text/plain": [
       "a    2.0\n",
       "b    4.0\n",
       "c    6.0\n",
       "d    NaN\n",
       "dtype: float64"
      ]
     },
     "execution_count": 294,
     "metadata": {},
     "output_type": "execute_result"
    }
   ],
   "source": [
    "# Additions\n",
    "pd.Series([1,2,3], index=['a', 'b', 'c']) + pd.Series([1,2,3,5], index=['a', 'b', 'c', 'd'])"
   ]
  },
  {
   "cell_type": "code",
   "execution_count": 295,
   "metadata": {},
   "outputs": [
    {
     "data": {
      "text/plain": [
       "a    1\n",
       "b    4\n",
       "c    9\n",
       "dtype: int64"
      ]
     },
     "execution_count": 295,
     "metadata": {},
     "output_type": "execute_result"
    }
   ],
   "source": [
    "# Multiplication \n",
    "pd.Series([1,2,3], index=['a', 'b', 'c']) * pd.Series([1,2,3], index=['a', 'b', 'c'])"
   ]
  },
  {
   "cell_type": "markdown",
   "metadata": {},
   "source": [
    "___\n",
    "## Data Types\n",
    "### Pandas DataFrame\n",
    "DataFrame is a 2-dimensional labeled data structure with columns of potentially different types. You can think of it like a spreadsheet or SQL table, or a dict of Series objects. It is generally the most commonly used pandas object. Like Series, DataFrame accepts many different kinds of input:\n",
    "\n",
    "Dict of 1D ndarrays, lists, dicts, or Series\n",
    "- 2-D numpy.ndarray\n",
    "- Structured or record ndarray\n",
    "- A Series\n",
    "- Another DataFrame\n",
    "Along with the data, you can optionally pass index (row labels) and columns (column labels) arguments. If you pass an index and / or columns, you are guaranteeing the index and / or columns of the resulting DataFrame. Thus, a dict of Series plus a specific index will discard all data not matching up to the passed index.\n"
   ]
  },
  {
   "cell_type": "code",
   "execution_count": 296,
   "metadata": {},
   "outputs": [
    {
     "data": {
      "text/html": [
       "<div>\n",
       "<style scoped>\n",
       "    .dataframe tbody tr th:only-of-type {\n",
       "        vertical-align: middle;\n",
       "    }\n",
       "\n",
       "    .dataframe tbody tr th {\n",
       "        vertical-align: top;\n",
       "    }\n",
       "\n",
       "    .dataframe thead th {\n",
       "        text-align: right;\n",
       "    }\n",
       "</style>\n",
       "<table border=\"1\" class=\"dataframe\">\n",
       "  <thead>\n",
       "    <tr style=\"text-align: right;\">\n",
       "      <th></th>\n",
       "      <th>one</th>\n",
       "      <th>two</th>\n",
       "    </tr>\n",
       "  </thead>\n",
       "  <tbody>\n",
       "    <tr>\n",
       "      <th>a</th>\n",
       "      <td>1.0</td>\n",
       "      <td>1.0</td>\n",
       "    </tr>\n",
       "    <tr>\n",
       "      <th>b</th>\n",
       "      <td>2.0</td>\n",
       "      <td>2.0</td>\n",
       "    </tr>\n",
       "    <tr>\n",
       "      <th>c</th>\n",
       "      <td>3.0</td>\n",
       "      <td>3.0</td>\n",
       "    </tr>\n",
       "    <tr>\n",
       "      <th>d</th>\n",
       "      <td>NaN</td>\n",
       "      <td>4.0</td>\n",
       "    </tr>\n",
       "  </tbody>\n",
       "</table>\n",
       "</div>"
      ],
      "text/plain": [
       "   one  two\n",
       "a  1.0  1.0\n",
       "b  2.0  2.0\n",
       "c  3.0  3.0\n",
       "d  NaN  4.0"
      ]
     },
     "execution_count": 296,
     "metadata": {},
     "output_type": "execute_result"
    }
   ],
   "source": [
    "# Union of 2 dict of Series \n",
    "d = {\n",
    "    'one': pd.Series([1., 2., 3.], index=['a', 'b', 'c']),\n",
    "    'two': pd.Series([1., 2., 3., 4.], index=['a', 'b', 'c', 'd'])\n",
    "}\n",
    "pd.DataFrame(d)"
   ]
  },
  {
   "cell_type": "code",
   "execution_count": 297,
   "metadata": {},
   "outputs": [
    {
     "data": {
      "text/html": [
       "<div>\n",
       "<style scoped>\n",
       "    .dataframe tbody tr th:only-of-type {\n",
       "        vertical-align: middle;\n",
       "    }\n",
       "\n",
       "    .dataframe tbody tr th {\n",
       "        vertical-align: top;\n",
       "    }\n",
       "\n",
       "    .dataframe thead th {\n",
       "        text-align: right;\n",
       "    }\n",
       "</style>\n",
       "<table border=\"1\" class=\"dataframe\">\n",
       "  <thead>\n",
       "    <tr style=\"text-align: right;\">\n",
       "      <th></th>\n",
       "      <th>one</th>\n",
       "      <th>two</th>\n",
       "    </tr>\n",
       "  </thead>\n",
       "  <tbody>\n",
       "    <tr>\n",
       "      <th>a</th>\n",
       "      <td>1.0</td>\n",
       "      <td>1</td>\n",
       "    </tr>\n",
       "    <tr>\n",
       "      <th>b</th>\n",
       "      <td>2.0</td>\n",
       "      <td>NaN</td>\n",
       "    </tr>\n",
       "    <tr>\n",
       "      <th>c</th>\n",
       "      <td>NaN</td>\n",
       "      <td>d</td>\n",
       "    </tr>\n",
       "  </tbody>\n",
       "</table>\n",
       "</div>"
      ],
      "text/plain": [
       "   one  two\n",
       "a  1.0    1\n",
       "b  2.0  NaN\n",
       "c  NaN    d"
      ]
     },
     "execution_count": 297,
     "metadata": {},
     "output_type": "execute_result"
    }
   ],
   "source": [
    "# Union of 2 Dict of dicts\n",
    "d = {\n",
    "    'one': {'a':1, 'b':2}, \n",
    "    'two': {'a':1, 'c':'d'}\n",
    "}\n",
    "pd.DataFrame(d)"
   ]
  },
  {
   "cell_type": "markdown",
   "metadata": {},
   "source": [
    "#### Getting data\n",
    "Data can be obtained by using built-in functions such as:\n",
    "* `pd.read_csv()`\n",
    "* `pd_read_excel()`\n",
    "* `pd_read_sql`\n",
    "\n",
    "more info on <https://pandas.pydata.org/pandas-docs/stable/reference/io.html>"
   ]
  },
  {
   "cell_type": "code",
   "execution_count": 298,
   "metadata": {},
   "outputs": [
    {
     "data": {
      "text/html": [
       "<div>\n",
       "<style scoped>\n",
       "    .dataframe tbody tr th:only-of-type {\n",
       "        vertical-align: middle;\n",
       "    }\n",
       "\n",
       "    .dataframe tbody tr th {\n",
       "        vertical-align: top;\n",
       "    }\n",
       "\n",
       "    .dataframe thead th {\n",
       "        text-align: right;\n",
       "    }\n",
       "</style>\n",
       "<table border=\"1\" class=\"dataframe\">\n",
       "  <thead>\n",
       "    <tr style=\"text-align: right;\">\n",
       "      <th></th>\n",
       "      <th>playerID</th>\n",
       "      <th>coachID</th>\n",
       "      <th>hofID</th>\n",
       "      <th>firstName</th>\n",
       "      <th>lastName</th>\n",
       "      <th>nameNote</th>\n",
       "      <th>nameGiven</th>\n",
       "      <th>nameNick</th>\n",
       "      <th>height</th>\n",
       "      <th>weight</th>\n",
       "      <th>...</th>\n",
       "      <th>birthDay</th>\n",
       "      <th>birthCountry</th>\n",
       "      <th>birthState</th>\n",
       "      <th>birthCity</th>\n",
       "      <th>deathYear</th>\n",
       "      <th>deathMon</th>\n",
       "      <th>deathDay</th>\n",
       "      <th>deathCountry</th>\n",
       "      <th>deathState</th>\n",
       "      <th>deathCity</th>\n",
       "    </tr>\n",
       "  </thead>\n",
       "  <tbody>\n",
       "    <tr>\n",
       "      <th>0</th>\n",
       "      <td>aaltoan01</td>\n",
       "      <td>NaN</td>\n",
       "      <td>NaN</td>\n",
       "      <td>Antti</td>\n",
       "      <td>Aalto</td>\n",
       "      <td>NaN</td>\n",
       "      <td>Antti</td>\n",
       "      <td>NaN</td>\n",
       "      <td>73.0</td>\n",
       "      <td>210.0</td>\n",
       "      <td>...</td>\n",
       "      <td>4.0</td>\n",
       "      <td>Finland</td>\n",
       "      <td>NaN</td>\n",
       "      <td>Lappeenranta</td>\n",
       "      <td>NaN</td>\n",
       "      <td>NaN</td>\n",
       "      <td>NaN</td>\n",
       "      <td>NaN</td>\n",
       "      <td>NaN</td>\n",
       "      <td>NaN</td>\n",
       "    </tr>\n",
       "    <tr>\n",
       "      <th>1</th>\n",
       "      <td>abbeybr01</td>\n",
       "      <td>NaN</td>\n",
       "      <td>NaN</td>\n",
       "      <td>Bruce</td>\n",
       "      <td>Abbey</td>\n",
       "      <td>NaN</td>\n",
       "      <td>Bruce</td>\n",
       "      <td>NaN</td>\n",
       "      <td>73.0</td>\n",
       "      <td>185.0</td>\n",
       "      <td>...</td>\n",
       "      <td>18.0</td>\n",
       "      <td>Canada</td>\n",
       "      <td>ON</td>\n",
       "      <td>Toronto</td>\n",
       "      <td>NaN</td>\n",
       "      <td>NaN</td>\n",
       "      <td>NaN</td>\n",
       "      <td>NaN</td>\n",
       "      <td>NaN</td>\n",
       "      <td>NaN</td>\n",
       "    </tr>\n",
       "  </tbody>\n",
       "</table>\n",
       "<p>2 rows × 31 columns</p>\n",
       "</div>"
      ],
      "text/plain": [
       "    playerID coachID hofID firstName lastName nameNote nameGiven nameNick  \\\n",
       "0  aaltoan01     NaN   NaN     Antti    Aalto      NaN     Antti      NaN   \n",
       "1  abbeybr01     NaN   NaN     Bruce    Abbey      NaN     Bruce      NaN   \n",
       "\n",
       "   height  weight  ... birthDay birthCountry  birthState     birthCity  \\\n",
       "0    73.0   210.0  ...      4.0      Finland         NaN  Lappeenranta   \n",
       "1    73.0   185.0  ...     18.0       Canada          ON       Toronto   \n",
       "\n",
       "   deathYear  deathMon  deathDay  deathCountry deathState  deathCity  \n",
       "0        NaN       NaN       NaN           NaN        NaN        NaN  \n",
       "1        NaN       NaN       NaN           NaN        NaN        NaN  \n",
       "\n",
       "[2 rows x 31 columns]"
      ]
     },
     "execution_count": 298,
     "metadata": {},
     "output_type": "execute_result"
    }
   ],
   "source": [
    "players_df = pd.read_csv('./data/Master.csv')\n",
    "# columns_to_use = ['id', 'title', 'artist', 'medium']\n",
    "'''\n",
    "df_sample_c =pd.read_csv(os.path.join('.', 'collection-master', 'artwork_data.csv'), \n",
    "    nrows=5, index_col='id', usecols=columns_to_use)\n",
    "'''\n",
    "players_df.head(2)"
   ]
  },
  {
   "cell_type": "markdown",
   "metadata": {},
   "source": [
    "#### Getting basic information on dataframe\n",
    "* **Shape** gives the number of rows x columns in a tuple\n",
    "* **Info** gives detailed info on each label\n",
    "* **Describe** gives basic statistics on numeric columns"
   ]
  },
  {
   "cell_type": "code",
   "execution_count": 299,
   "metadata": {},
   "outputs": [
    {
     "data": {
      "text/plain": [
       "(7761, 31)"
      ]
     },
     "execution_count": 299,
     "metadata": {},
     "output_type": "execute_result"
    }
   ],
   "source": [
    "players_df.shape"
   ]
  },
  {
   "cell_type": "code",
   "execution_count": 300,
   "metadata": {},
   "outputs": [
    {
     "name": "stdout",
     "output_type": "stream",
     "text": [
      "<class 'pandas.core.frame.DataFrame'>\n",
      "RangeIndex: 7761 entries, 0 to 7760\n",
      "Data columns (total 31 columns):\n",
      "playerID        7520 non-null object\n",
      "coachID         395 non-null object\n",
      "hofID           366 non-null object\n",
      "firstName       7748 non-null object\n",
      "lastName        7761 non-null object\n",
      "nameNote        18 non-null object\n",
      "nameGiven       5985 non-null object\n",
      "nameNick        1306 non-null object\n",
      "height          7334 non-null float64\n",
      "weight          7336 non-null float64\n",
      "shootCatch      7048 non-null object\n",
      "legendsID       6577 non-null object\n",
      "ihdbID          7125 non-null float64\n",
      "hrefID          7457 non-null object\n",
      "firstNHL        6851 non-null float64\n",
      "lastNHL         6851 non-null float64\n",
      "firstWHA        903 non-null float64\n",
      "lastWHA         903 non-null float64\n",
      "pos             7447 non-null object\n",
      "birthYear       7543 non-null float64\n",
      "birthMon        7506 non-null float64\n",
      "birthDay        7504 non-null float64\n",
      "birthCountry    7396 non-null object\n",
      "birthState      6324 non-null object\n",
      "birthCity       7388 non-null object\n",
      "deathYear       1320 non-null float64\n",
      "deathMon        1173 non-null float64\n",
      "deathDay        1168 non-null float64\n",
      "deathCountry    498 non-null object\n",
      "deathState      471 non-null object\n",
      "deathCity       483 non-null object\n",
      "dtypes: float64(13), object(18)\n",
      "memory usage: 1.8+ MB\n"
     ]
    }
   ],
   "source": [
    "players_df.info()"
   ]
  },
  {
   "cell_type": "code",
   "execution_count": 301,
   "metadata": {},
   "outputs": [
    {
     "data": {
      "text/html": [
       "<div>\n",
       "<style scoped>\n",
       "    .dataframe tbody tr th:only-of-type {\n",
       "        vertical-align: middle;\n",
       "    }\n",
       "\n",
       "    .dataframe tbody tr th {\n",
       "        vertical-align: top;\n",
       "    }\n",
       "\n",
       "    .dataframe thead th {\n",
       "        text-align: right;\n",
       "    }\n",
       "</style>\n",
       "<table border=\"1\" class=\"dataframe\">\n",
       "  <thead>\n",
       "    <tr style=\"text-align: right;\">\n",
       "      <th></th>\n",
       "      <th>height</th>\n",
       "      <th>weight</th>\n",
       "      <th>ihdbID</th>\n",
       "      <th>firstNHL</th>\n",
       "      <th>lastNHL</th>\n",
       "      <th>firstWHA</th>\n",
       "      <th>lastWHA</th>\n",
       "      <th>birthYear</th>\n",
       "      <th>birthMon</th>\n",
       "      <th>birthDay</th>\n",
       "      <th>deathYear</th>\n",
       "      <th>deathMon</th>\n",
       "      <th>deathDay</th>\n",
       "    </tr>\n",
       "  </thead>\n",
       "  <tbody>\n",
       "    <tr>\n",
       "      <th>count</th>\n",
       "      <td>7334.000000</td>\n",
       "      <td>7336.000000</td>\n",
       "      <td>7125.000000</td>\n",
       "      <td>6851.000000</td>\n",
       "      <td>6851.000000</td>\n",
       "      <td>903.000000</td>\n",
       "      <td>903.000000</td>\n",
       "      <td>7543.000000</td>\n",
       "      <td>7506.000000</td>\n",
       "      <td>7504.000000</td>\n",
       "      <td>1320.000000</td>\n",
       "      <td>1173.000000</td>\n",
       "      <td>1168.000000</td>\n",
       "    </tr>\n",
       "    <tr>\n",
       "      <th>mean</th>\n",
       "      <td>71.904418</td>\n",
       "      <td>189.503953</td>\n",
       "      <td>18159.395930</td>\n",
       "      <td>1979.898555</td>\n",
       "      <td>1985.173551</td>\n",
       "      <td>1974.256921</td>\n",
       "      <td>1975.746401</td>\n",
       "      <td>1955.170091</td>\n",
       "      <td>6.056088</td>\n",
       "      <td>15.605144</td>\n",
       "      <td>2547.587121</td>\n",
       "      <td>6.670929</td>\n",
       "      <td>15.244863</td>\n",
       "    </tr>\n",
       "    <tr>\n",
       "      <th>std</th>\n",
       "      <td>2.328650</td>\n",
       "      <td>18.341611</td>\n",
       "      <td>22852.778006</td>\n",
       "      <td>24.150092</td>\n",
       "      <td>24.359206</td>\n",
       "      <td>2.123774</td>\n",
       "      <td>1.947460</td>\n",
       "      <td>26.379075</td>\n",
       "      <td>3.434267</td>\n",
       "      <td>8.917103</td>\n",
       "      <td>2052.311223</td>\n",
       "      <td>3.484605</td>\n",
       "      <td>8.601029</td>\n",
       "    </tr>\n",
       "    <tr>\n",
       "      <th>min</th>\n",
       "      <td>63.000000</td>\n",
       "      <td>125.000000</td>\n",
       "      <td>45.000000</td>\n",
       "      <td>1917.000000</td>\n",
       "      <td>1917.000000</td>\n",
       "      <td>1972.000000</td>\n",
       "      <td>1972.000000</td>\n",
       "      <td>1841.000000</td>\n",
       "      <td>1.000000</td>\n",
       "      <td>1.000000</td>\n",
       "      <td>1907.000000</td>\n",
       "      <td>1.000000</td>\n",
       "      <td>1.000000</td>\n",
       "    </tr>\n",
       "    <tr>\n",
       "      <th>25%</th>\n",
       "      <td>70.000000</td>\n",
       "      <td>178.000000</td>\n",
       "      <td>3339.000000</td>\n",
       "      <td>1968.000000</td>\n",
       "      <td>1974.000000</td>\n",
       "      <td>1972.000000</td>\n",
       "      <td>1974.000000</td>\n",
       "      <td>1943.000000</td>\n",
       "      <td>3.000000</td>\n",
       "      <td>8.000000</td>\n",
       "      <td>1970.000000</td>\n",
       "      <td>4.000000</td>\n",
       "      <td>8.000000</td>\n",
       "    </tr>\n",
       "    <tr>\n",
       "      <th>50%</th>\n",
       "      <td>72.000000</td>\n",
       "      <td>190.000000</td>\n",
       "      <td>7500.000000</td>\n",
       "      <td>1985.000000</td>\n",
       "      <td>1991.000000</td>\n",
       "      <td>1974.000000</td>\n",
       "      <td>1976.000000</td>\n",
       "      <td>1961.000000</td>\n",
       "      <td>6.000000</td>\n",
       "      <td>15.000000</td>\n",
       "      <td>1989.000000</td>\n",
       "      <td>7.000000</td>\n",
       "      <td>15.000000</td>\n",
       "    </tr>\n",
       "    <tr>\n",
       "      <th>75%</th>\n",
       "      <td>73.000000</td>\n",
       "      <td>200.000000</td>\n",
       "      <td>23463.000000</td>\n",
       "      <td>1999.000000</td>\n",
       "      <td>2006.000000</td>\n",
       "      <td>1976.000000</td>\n",
       "      <td>1978.000000</td>\n",
       "      <td>1975.000000</td>\n",
       "      <td>9.000000</td>\n",
       "      <td>23.000000</td>\n",
       "      <td>2002.000000</td>\n",
       "      <td>10.000000</td>\n",
       "      <td>23.000000</td>\n",
       "    </tr>\n",
       "    <tr>\n",
       "      <th>max</th>\n",
       "      <td>81.000000</td>\n",
       "      <td>265.000000</td>\n",
       "      <td>118280.000000</td>\n",
       "      <td>2011.000000</td>\n",
       "      <td>2011.000000</td>\n",
       "      <td>1978.000000</td>\n",
       "      <td>1978.000000</td>\n",
       "      <td>1993.000000</td>\n",
       "      <td>12.000000</td>\n",
       "      <td>31.000000</td>\n",
       "      <td>9999.000000</td>\n",
       "      <td>12.000000</td>\n",
       "      <td>31.000000</td>\n",
       "    </tr>\n",
       "  </tbody>\n",
       "</table>\n",
       "</div>"
      ],
      "text/plain": [
       "            height       weight         ihdbID     firstNHL      lastNHL  \\\n",
       "count  7334.000000  7336.000000    7125.000000  6851.000000  6851.000000   \n",
       "mean     71.904418   189.503953   18159.395930  1979.898555  1985.173551   \n",
       "std       2.328650    18.341611   22852.778006    24.150092    24.359206   \n",
       "min      63.000000   125.000000      45.000000  1917.000000  1917.000000   \n",
       "25%      70.000000   178.000000    3339.000000  1968.000000  1974.000000   \n",
       "50%      72.000000   190.000000    7500.000000  1985.000000  1991.000000   \n",
       "75%      73.000000   200.000000   23463.000000  1999.000000  2006.000000   \n",
       "max      81.000000   265.000000  118280.000000  2011.000000  2011.000000   \n",
       "\n",
       "          firstWHA      lastWHA    birthYear     birthMon     birthDay  \\\n",
       "count   903.000000   903.000000  7543.000000  7506.000000  7504.000000   \n",
       "mean   1974.256921  1975.746401  1955.170091     6.056088    15.605144   \n",
       "std       2.123774     1.947460    26.379075     3.434267     8.917103   \n",
       "min    1972.000000  1972.000000  1841.000000     1.000000     1.000000   \n",
       "25%    1972.000000  1974.000000  1943.000000     3.000000     8.000000   \n",
       "50%    1974.000000  1976.000000  1961.000000     6.000000    15.000000   \n",
       "75%    1976.000000  1978.000000  1975.000000     9.000000    23.000000   \n",
       "max    1978.000000  1978.000000  1993.000000    12.000000    31.000000   \n",
       "\n",
       "         deathYear     deathMon     deathDay  \n",
       "count  1320.000000  1173.000000  1168.000000  \n",
       "mean   2547.587121     6.670929    15.244863  \n",
       "std    2052.311223     3.484605     8.601029  \n",
       "min    1907.000000     1.000000     1.000000  \n",
       "25%    1970.000000     4.000000     8.000000  \n",
       "50%    1989.000000     7.000000    15.000000  \n",
       "75%    2002.000000    10.000000    23.000000  \n",
       "max    9999.000000    12.000000    31.000000  "
      ]
     },
     "execution_count": 301,
     "metadata": {},
     "output_type": "execute_result"
    }
   ],
   "source": [
    "players_df.describe()"
   ]
  },
  {
   "cell_type": "markdown",
   "metadata": {},
   "source": [
    "### Get basic info on a label\n",
    "\n",
    "Obtain unique values per label\n",
    "* Get unique values\n",
    "* Count unique values\n",
    "* Get statistics on a numeric column\n",
    "* Get statistics values of other cols grouped by that column"
   ]
  },
  {
   "cell_type": "code",
   "execution_count": 302,
   "metadata": {},
   "outputs": [
    {
     "data": {
      "text/plain": [
       "19"
      ]
     },
     "execution_count": 302,
     "metadata": {},
     "output_type": "execute_result"
    }
   ],
   "source": [
    "len(players_df['pos'].unique())\t"
   ]
  },
  {
   "cell_type": "markdown",
   "metadata": {},
   "source": [
    "Count of unique per column"
   ]
  },
  {
   "cell_type": "code",
   "execution_count": 303,
   "metadata": {},
   "outputs": [
    {
     "data": {
      "text/plain": [
       "pos\n",
       "C      1605\n",
       "C/D       3\n",
       "C/L       2\n",
       "C/R       2\n",
       "D      2218\n",
       "D/C       1\n",
       "D/L       2\n",
       "D/R       1\n",
       "F        43\n",
       "G       761\n",
       "L      1450\n",
       "L/C       2\n",
       "L/D       1\n",
       "R      1348\n",
       "R/C       5\n",
       "R/D       1\n",
       "R/L       1\n",
       "W         1\n",
       "dtype: int64"
      ]
     },
     "execution_count": 303,
     "metadata": {},
     "output_type": "execute_result"
    }
   ],
   "source": [
    "players_df.groupby('pos').size()"
   ]
  },
  {
   "cell_type": "code",
   "execution_count": 304,
   "metadata": {},
   "outputs": [
    {
     "data": {
      "text/plain": [
       "count    7334.000000\n",
       "mean       71.904418\n",
       "std         2.328650\n",
       "min        63.000000\n",
       "25%        70.000000\n",
       "50%        72.000000\n",
       "75%        73.000000\n",
       "max        81.000000\n",
       "Name: height, dtype: float64"
      ]
     },
     "execution_count": 304,
     "metadata": {},
     "output_type": "execute_result"
    }
   ],
   "source": [
    "players_df['height'].describe()"
   ]
  },
  {
   "cell_type": "code",
   "execution_count": 305,
   "metadata": {},
   "outputs": [
    {
     "data": {
      "text/html": [
       "<div>\n",
       "<style scoped>\n",
       "    .dataframe tbody tr th:only-of-type {\n",
       "        vertical-align: middle;\n",
       "    }\n",
       "\n",
       "    .dataframe tbody tr th {\n",
       "        vertical-align: top;\n",
       "    }\n",
       "\n",
       "    .dataframe thead tr th {\n",
       "        text-align: left;\n",
       "    }\n",
       "\n",
       "    .dataframe thead tr:last-of-type th {\n",
       "        text-align: right;\n",
       "    }\n",
       "</style>\n",
       "<table border=\"1\" class=\"dataframe\">\n",
       "  <thead>\n",
       "    <tr>\n",
       "      <th></th>\n",
       "      <th colspan=\"8\" halign=\"left\">height</th>\n",
       "      <th colspan=\"2\" halign=\"left\">weight</th>\n",
       "      <th>...</th>\n",
       "      <th colspan=\"2\" halign=\"left\">deathMon</th>\n",
       "      <th colspan=\"8\" halign=\"left\">deathDay</th>\n",
       "    </tr>\n",
       "    <tr>\n",
       "      <th></th>\n",
       "      <th>count</th>\n",
       "      <th>mean</th>\n",
       "      <th>std</th>\n",
       "      <th>min</th>\n",
       "      <th>25%</th>\n",
       "      <th>50%</th>\n",
       "      <th>75%</th>\n",
       "      <th>max</th>\n",
       "      <th>count</th>\n",
       "      <th>mean</th>\n",
       "      <th>...</th>\n",
       "      <th>75%</th>\n",
       "      <th>max</th>\n",
       "      <th>count</th>\n",
       "      <th>mean</th>\n",
       "      <th>std</th>\n",
       "      <th>min</th>\n",
       "      <th>25%</th>\n",
       "      <th>50%</th>\n",
       "      <th>75%</th>\n",
       "      <th>max</th>\n",
       "    </tr>\n",
       "    <tr>\n",
       "      <th>pos</th>\n",
       "      <th></th>\n",
       "      <th></th>\n",
       "      <th></th>\n",
       "      <th></th>\n",
       "      <th></th>\n",
       "      <th></th>\n",
       "      <th></th>\n",
       "      <th></th>\n",
       "      <th></th>\n",
       "      <th></th>\n",
       "      <th></th>\n",
       "      <th></th>\n",
       "      <th></th>\n",
       "      <th></th>\n",
       "      <th></th>\n",
       "      <th></th>\n",
       "      <th></th>\n",
       "      <th></th>\n",
       "      <th></th>\n",
       "      <th></th>\n",
       "      <th></th>\n",
       "    </tr>\n",
       "  </thead>\n",
       "  <tbody>\n",
       "    <tr>\n",
       "      <th>C</th>\n",
       "      <td>1585.0</td>\n",
       "      <td>71.446057</td>\n",
       "      <td>2.262401</td>\n",
       "      <td>65.0</td>\n",
       "      <td>70.00</td>\n",
       "      <td>71.0</td>\n",
       "      <td>73.00</td>\n",
       "      <td>78.0</td>\n",
       "      <td>1585.0</td>\n",
       "      <td>184.956467</td>\n",
       "      <td>...</td>\n",
       "      <td>10.0</td>\n",
       "      <td>12.0</td>\n",
       "      <td>222.0</td>\n",
       "      <td>15.936937</td>\n",
       "      <td>8.634645</td>\n",
       "      <td>1.0</td>\n",
       "      <td>9.00</td>\n",
       "      <td>15.0</td>\n",
       "      <td>23.00</td>\n",
       "      <td>31.0</td>\n",
       "    </tr>\n",
       "    <tr>\n",
       "      <th>C/D</th>\n",
       "      <td>3.0</td>\n",
       "      <td>69.000000</td>\n",
       "      <td>2.000000</td>\n",
       "      <td>67.0</td>\n",
       "      <td>68.00</td>\n",
       "      <td>69.0</td>\n",
       "      <td>70.00</td>\n",
       "      <td>71.0</td>\n",
       "      <td>3.0</td>\n",
       "      <td>170.000000</td>\n",
       "      <td>...</td>\n",
       "      <td>NaN</td>\n",
       "      <td>NaN</td>\n",
       "      <td>0.0</td>\n",
       "      <td>NaN</td>\n",
       "      <td>NaN</td>\n",
       "      <td>NaN</td>\n",
       "      <td>NaN</td>\n",
       "      <td>NaN</td>\n",
       "      <td>NaN</td>\n",
       "      <td>NaN</td>\n",
       "    </tr>\n",
       "    <tr>\n",
       "      <th>C/L</th>\n",
       "      <td>2.0</td>\n",
       "      <td>70.500000</td>\n",
       "      <td>0.707107</td>\n",
       "      <td>70.0</td>\n",
       "      <td>70.25</td>\n",
       "      <td>70.5</td>\n",
       "      <td>70.75</td>\n",
       "      <td>71.0</td>\n",
       "      <td>2.0</td>\n",
       "      <td>175.000000</td>\n",
       "      <td>...</td>\n",
       "      <td>NaN</td>\n",
       "      <td>NaN</td>\n",
       "      <td>0.0</td>\n",
       "      <td>NaN</td>\n",
       "      <td>NaN</td>\n",
       "      <td>NaN</td>\n",
       "      <td>NaN</td>\n",
       "      <td>NaN</td>\n",
       "      <td>NaN</td>\n",
       "      <td>NaN</td>\n",
       "    </tr>\n",
       "    <tr>\n",
       "      <th>C/R</th>\n",
       "      <td>2.0</td>\n",
       "      <td>70.000000</td>\n",
       "      <td>0.000000</td>\n",
       "      <td>70.0</td>\n",
       "      <td>70.00</td>\n",
       "      <td>70.0</td>\n",
       "      <td>70.00</td>\n",
       "      <td>70.0</td>\n",
       "      <td>2.0</td>\n",
       "      <td>182.500000</td>\n",
       "      <td>...</td>\n",
       "      <td>10.0</td>\n",
       "      <td>10.0</td>\n",
       "      <td>1.0</td>\n",
       "      <td>22.000000</td>\n",
       "      <td>NaN</td>\n",
       "      <td>22.0</td>\n",
       "      <td>22.00</td>\n",
       "      <td>22.0</td>\n",
       "      <td>22.00</td>\n",
       "      <td>22.0</td>\n",
       "    </tr>\n",
       "    <tr>\n",
       "      <th>D</th>\n",
       "      <td>2183.0</td>\n",
       "      <td>72.727897</td>\n",
       "      <td>2.146595</td>\n",
       "      <td>65.0</td>\n",
       "      <td>71.00</td>\n",
       "      <td>73.0</td>\n",
       "      <td>74.00</td>\n",
       "      <td>81.0</td>\n",
       "      <td>2183.0</td>\n",
       "      <td>196.961521</td>\n",
       "      <td>...</td>\n",
       "      <td>10.0</td>\n",
       "      <td>12.0</td>\n",
       "      <td>319.0</td>\n",
       "      <td>15.557994</td>\n",
       "      <td>8.682860</td>\n",
       "      <td>1.0</td>\n",
       "      <td>8.00</td>\n",
       "      <td>15.0</td>\n",
       "      <td>23.50</td>\n",
       "      <td>31.0</td>\n",
       "    </tr>\n",
       "    <tr>\n",
       "      <th>D/C</th>\n",
       "      <td>1.0</td>\n",
       "      <td>66.000000</td>\n",
       "      <td>NaN</td>\n",
       "      <td>66.0</td>\n",
       "      <td>66.00</td>\n",
       "      <td>66.0</td>\n",
       "      <td>66.00</td>\n",
       "      <td>66.0</td>\n",
       "      <td>1.0</td>\n",
       "      <td>150.000000</td>\n",
       "      <td>...</td>\n",
       "      <td>9.0</td>\n",
       "      <td>9.0</td>\n",
       "      <td>1.0</td>\n",
       "      <td>16.000000</td>\n",
       "      <td>NaN</td>\n",
       "      <td>16.0</td>\n",
       "      <td>16.00</td>\n",
       "      <td>16.0</td>\n",
       "      <td>16.00</td>\n",
       "      <td>16.0</td>\n",
       "    </tr>\n",
       "    <tr>\n",
       "      <th>D/L</th>\n",
       "      <td>2.0</td>\n",
       "      <td>71.500000</td>\n",
       "      <td>0.707107</td>\n",
       "      <td>71.0</td>\n",
       "      <td>71.25</td>\n",
       "      <td>71.5</td>\n",
       "      <td>71.75</td>\n",
       "      <td>72.0</td>\n",
       "      <td>2.0</td>\n",
       "      <td>192.500000</td>\n",
       "      <td>...</td>\n",
       "      <td>7.0</td>\n",
       "      <td>7.0</td>\n",
       "      <td>1.0</td>\n",
       "      <td>23.000000</td>\n",
       "      <td>NaN</td>\n",
       "      <td>23.0</td>\n",
       "      <td>23.00</td>\n",
       "      <td>23.0</td>\n",
       "      <td>23.00</td>\n",
       "      <td>23.0</td>\n",
       "    </tr>\n",
       "    <tr>\n",
       "      <th>D/R</th>\n",
       "      <td>1.0</td>\n",
       "      <td>74.000000</td>\n",
       "      <td>NaN</td>\n",
       "      <td>74.0</td>\n",
       "      <td>74.00</td>\n",
       "      <td>74.0</td>\n",
       "      <td>74.00</td>\n",
       "      <td>74.0</td>\n",
       "      <td>1.0</td>\n",
       "      <td>195.000000</td>\n",
       "      <td>...</td>\n",
       "      <td>NaN</td>\n",
       "      <td>NaN</td>\n",
       "      <td>0.0</td>\n",
       "      <td>NaN</td>\n",
       "      <td>NaN</td>\n",
       "      <td>NaN</td>\n",
       "      <td>NaN</td>\n",
       "      <td>NaN</td>\n",
       "      <td>NaN</td>\n",
       "      <td>NaN</td>\n",
       "    </tr>\n",
       "    <tr>\n",
       "      <th>F</th>\n",
       "      <td>41.0</td>\n",
       "      <td>72.024390</td>\n",
       "      <td>1.981007</td>\n",
       "      <td>67.0</td>\n",
       "      <td>71.00</td>\n",
       "      <td>72.0</td>\n",
       "      <td>73.00</td>\n",
       "      <td>76.0</td>\n",
       "      <td>41.0</td>\n",
       "      <td>186.951220</td>\n",
       "      <td>...</td>\n",
       "      <td>11.0</td>\n",
       "      <td>12.0</td>\n",
       "      <td>6.0</td>\n",
       "      <td>21.000000</td>\n",
       "      <td>9.859006</td>\n",
       "      <td>2.0</td>\n",
       "      <td>20.50</td>\n",
       "      <td>25.0</td>\n",
       "      <td>25.75</td>\n",
       "      <td>29.0</td>\n",
       "    </tr>\n",
       "    <tr>\n",
       "      <th>G</th>\n",
       "      <td>730.0</td>\n",
       "      <td>71.295890</td>\n",
       "      <td>2.492812</td>\n",
       "      <td>63.0</td>\n",
       "      <td>70.00</td>\n",
       "      <td>71.0</td>\n",
       "      <td>73.00</td>\n",
       "      <td>79.0</td>\n",
       "      <td>730.0</td>\n",
       "      <td>180.931507</td>\n",
       "      <td>...</td>\n",
       "      <td>10.0</td>\n",
       "      <td>12.0</td>\n",
       "      <td>94.0</td>\n",
       "      <td>15.042553</td>\n",
       "      <td>9.213028</td>\n",
       "      <td>1.0</td>\n",
       "      <td>7.25</td>\n",
       "      <td>13.0</td>\n",
       "      <td>23.75</td>\n",
       "      <td>31.0</td>\n",
       "    </tr>\n",
       "    <tr>\n",
       "      <th>L</th>\n",
       "      <td>1430.0</td>\n",
       "      <td>71.820280</td>\n",
       "      <td>2.260937</td>\n",
       "      <td>65.0</td>\n",
       "      <td>70.00</td>\n",
       "      <td>72.0</td>\n",
       "      <td>73.00</td>\n",
       "      <td>80.0</td>\n",
       "      <td>1431.0</td>\n",
       "      <td>189.272537</td>\n",
       "      <td>...</td>\n",
       "      <td>10.0</td>\n",
       "      <td>12.0</td>\n",
       "      <td>227.0</td>\n",
       "      <td>14.242291</td>\n",
       "      <td>8.662214</td>\n",
       "      <td>1.0</td>\n",
       "      <td>7.00</td>\n",
       "      <td>14.0</td>\n",
       "      <td>21.50</td>\n",
       "      <td>31.0</td>\n",
       "    </tr>\n",
       "    <tr>\n",
       "      <th>L/C</th>\n",
       "      <td>2.0</td>\n",
       "      <td>68.500000</td>\n",
       "      <td>3.535534</td>\n",
       "      <td>66.0</td>\n",
       "      <td>67.25</td>\n",
       "      <td>68.5</td>\n",
       "      <td>69.75</td>\n",
       "      <td>71.0</td>\n",
       "      <td>2.0</td>\n",
       "      <td>182.500000</td>\n",
       "      <td>...</td>\n",
       "      <td>NaN</td>\n",
       "      <td>NaN</td>\n",
       "      <td>0.0</td>\n",
       "      <td>NaN</td>\n",
       "      <td>NaN</td>\n",
       "      <td>NaN</td>\n",
       "      <td>NaN</td>\n",
       "      <td>NaN</td>\n",
       "      <td>NaN</td>\n",
       "      <td>NaN</td>\n",
       "    </tr>\n",
       "    <tr>\n",
       "      <th>L/D</th>\n",
       "      <td>1.0</td>\n",
       "      <td>70.000000</td>\n",
       "      <td>NaN</td>\n",
       "      <td>70.0</td>\n",
       "      <td>70.00</td>\n",
       "      <td>70.0</td>\n",
       "      <td>70.00</td>\n",
       "      <td>70.0</td>\n",
       "      <td>1.0</td>\n",
       "      <td>180.000000</td>\n",
       "      <td>...</td>\n",
       "      <td>9.0</td>\n",
       "      <td>9.0</td>\n",
       "      <td>1.0</td>\n",
       "      <td>15.000000</td>\n",
       "      <td>NaN</td>\n",
       "      <td>15.0</td>\n",
       "      <td>15.00</td>\n",
       "      <td>15.0</td>\n",
       "      <td>15.00</td>\n",
       "      <td>15.0</td>\n",
       "    </tr>\n",
       "    <tr>\n",
       "      <th>R</th>\n",
       "      <td>1336.0</td>\n",
       "      <td>71.582335</td>\n",
       "      <td>2.280506</td>\n",
       "      <td>65.0</td>\n",
       "      <td>70.00</td>\n",
       "      <td>72.0</td>\n",
       "      <td>73.00</td>\n",
       "      <td>79.0</td>\n",
       "      <td>1337.0</td>\n",
       "      <td>188.183994</td>\n",
       "      <td>...</td>\n",
       "      <td>9.0</td>\n",
       "      <td>12.0</td>\n",
       "      <td>202.0</td>\n",
       "      <td>14.712871</td>\n",
       "      <td>8.439232</td>\n",
       "      <td>1.0</td>\n",
       "      <td>8.00</td>\n",
       "      <td>15.0</td>\n",
       "      <td>21.00</td>\n",
       "      <td>31.0</td>\n",
       "    </tr>\n",
       "    <tr>\n",
       "      <th>R/C</th>\n",
       "      <td>4.0</td>\n",
       "      <td>69.250000</td>\n",
       "      <td>1.892969</td>\n",
       "      <td>68.0</td>\n",
       "      <td>68.00</td>\n",
       "      <td>68.5</td>\n",
       "      <td>69.75</td>\n",
       "      <td>72.0</td>\n",
       "      <td>4.0</td>\n",
       "      <td>164.500000</td>\n",
       "      <td>...</td>\n",
       "      <td>11.0</td>\n",
       "      <td>11.0</td>\n",
       "      <td>1.0</td>\n",
       "      <td>5.000000</td>\n",
       "      <td>NaN</td>\n",
       "      <td>5.0</td>\n",
       "      <td>5.00</td>\n",
       "      <td>5.0</td>\n",
       "      <td>5.00</td>\n",
       "      <td>5.0</td>\n",
       "    </tr>\n",
       "    <tr>\n",
       "      <th>R/D</th>\n",
       "      <td>1.0</td>\n",
       "      <td>68.000000</td>\n",
       "      <td>NaN</td>\n",
       "      <td>68.0</td>\n",
       "      <td>68.00</td>\n",
       "      <td>68.0</td>\n",
       "      <td>68.00</td>\n",
       "      <td>68.0</td>\n",
       "      <td>1.0</td>\n",
       "      <td>154.000000</td>\n",
       "      <td>...</td>\n",
       "      <td>NaN</td>\n",
       "      <td>NaN</td>\n",
       "      <td>0.0</td>\n",
       "      <td>NaN</td>\n",
       "      <td>NaN</td>\n",
       "      <td>NaN</td>\n",
       "      <td>NaN</td>\n",
       "      <td>NaN</td>\n",
       "      <td>NaN</td>\n",
       "      <td>NaN</td>\n",
       "    </tr>\n",
       "    <tr>\n",
       "      <th>R/L</th>\n",
       "      <td>0.0</td>\n",
       "      <td>NaN</td>\n",
       "      <td>NaN</td>\n",
       "      <td>NaN</td>\n",
       "      <td>NaN</td>\n",
       "      <td>NaN</td>\n",
       "      <td>NaN</td>\n",
       "      <td>NaN</td>\n",
       "      <td>0.0</td>\n",
       "      <td>NaN</td>\n",
       "      <td>...</td>\n",
       "      <td>NaN</td>\n",
       "      <td>NaN</td>\n",
       "      <td>0.0</td>\n",
       "      <td>NaN</td>\n",
       "      <td>NaN</td>\n",
       "      <td>NaN</td>\n",
       "      <td>NaN</td>\n",
       "      <td>NaN</td>\n",
       "      <td>NaN</td>\n",
       "      <td>NaN</td>\n",
       "    </tr>\n",
       "    <tr>\n",
       "      <th>W</th>\n",
       "      <td>0.0</td>\n",
       "      <td>NaN</td>\n",
       "      <td>NaN</td>\n",
       "      <td>NaN</td>\n",
       "      <td>NaN</td>\n",
       "      <td>NaN</td>\n",
       "      <td>NaN</td>\n",
       "      <td>NaN</td>\n",
       "      <td>0.0</td>\n",
       "      <td>NaN</td>\n",
       "      <td>...</td>\n",
       "      <td>6.0</td>\n",
       "      <td>6.0</td>\n",
       "      <td>1.0</td>\n",
       "      <td>4.000000</td>\n",
       "      <td>NaN</td>\n",
       "      <td>4.0</td>\n",
       "      <td>4.00</td>\n",
       "      <td>4.0</td>\n",
       "      <td>4.00</td>\n",
       "      <td>4.0</td>\n",
       "    </tr>\n",
       "  </tbody>\n",
       "</table>\n",
       "<p>18 rows × 104 columns</p>\n",
       "</div>"
      ],
      "text/plain": [
       "     height                                                       weight  \\\n",
       "      count       mean       std   min    25%   50%    75%   max   count   \n",
       "pos                                                                        \n",
       "C    1585.0  71.446057  2.262401  65.0  70.00  71.0  73.00  78.0  1585.0   \n",
       "C/D     3.0  69.000000  2.000000  67.0  68.00  69.0  70.00  71.0     3.0   \n",
       "C/L     2.0  70.500000  0.707107  70.0  70.25  70.5  70.75  71.0     2.0   \n",
       "C/R     2.0  70.000000  0.000000  70.0  70.00  70.0  70.00  70.0     2.0   \n",
       "D    2183.0  72.727897  2.146595  65.0  71.00  73.0  74.00  81.0  2183.0   \n",
       "D/C     1.0  66.000000       NaN  66.0  66.00  66.0  66.00  66.0     1.0   \n",
       "D/L     2.0  71.500000  0.707107  71.0  71.25  71.5  71.75  72.0     2.0   \n",
       "D/R     1.0  74.000000       NaN  74.0  74.00  74.0  74.00  74.0     1.0   \n",
       "F      41.0  72.024390  1.981007  67.0  71.00  72.0  73.00  76.0    41.0   \n",
       "G     730.0  71.295890  2.492812  63.0  70.00  71.0  73.00  79.0   730.0   \n",
       "L    1430.0  71.820280  2.260937  65.0  70.00  72.0  73.00  80.0  1431.0   \n",
       "L/C     2.0  68.500000  3.535534  66.0  67.25  68.5  69.75  71.0     2.0   \n",
       "L/D     1.0  70.000000       NaN  70.0  70.00  70.0  70.00  70.0     1.0   \n",
       "R    1336.0  71.582335  2.280506  65.0  70.00  72.0  73.00  79.0  1337.0   \n",
       "R/C     4.0  69.250000  1.892969  68.0  68.00  68.5  69.75  72.0     4.0   \n",
       "R/D     1.0  68.000000       NaN  68.0  68.00  68.0  68.00  68.0     1.0   \n",
       "R/L     0.0        NaN       NaN   NaN    NaN   NaN    NaN   NaN     0.0   \n",
       "W       0.0        NaN       NaN   NaN    NaN   NaN    NaN   NaN     0.0   \n",
       "\n",
       "                 ... deathMon       deathDay                             \\\n",
       "           mean  ...      75%   max    count       mean       std   min   \n",
       "pos              ...                                                      \n",
       "C    184.956467  ...     10.0  12.0    222.0  15.936937  8.634645   1.0   \n",
       "C/D  170.000000  ...      NaN   NaN      0.0        NaN       NaN   NaN   \n",
       "C/L  175.000000  ...      NaN   NaN      0.0        NaN       NaN   NaN   \n",
       "C/R  182.500000  ...     10.0  10.0      1.0  22.000000       NaN  22.0   \n",
       "D    196.961521  ...     10.0  12.0    319.0  15.557994  8.682860   1.0   \n",
       "D/C  150.000000  ...      9.0   9.0      1.0  16.000000       NaN  16.0   \n",
       "D/L  192.500000  ...      7.0   7.0      1.0  23.000000       NaN  23.0   \n",
       "D/R  195.000000  ...      NaN   NaN      0.0        NaN       NaN   NaN   \n",
       "F    186.951220  ...     11.0  12.0      6.0  21.000000  9.859006   2.0   \n",
       "G    180.931507  ...     10.0  12.0     94.0  15.042553  9.213028   1.0   \n",
       "L    189.272537  ...     10.0  12.0    227.0  14.242291  8.662214   1.0   \n",
       "L/C  182.500000  ...      NaN   NaN      0.0        NaN       NaN   NaN   \n",
       "L/D  180.000000  ...      9.0   9.0      1.0  15.000000       NaN  15.0   \n",
       "R    188.183994  ...      9.0  12.0    202.0  14.712871  8.439232   1.0   \n",
       "R/C  164.500000  ...     11.0  11.0      1.0   5.000000       NaN   5.0   \n",
       "R/D  154.000000  ...      NaN   NaN      0.0        NaN       NaN   NaN   \n",
       "R/L         NaN  ...      NaN   NaN      0.0        NaN       NaN   NaN   \n",
       "W           NaN  ...      6.0   6.0      1.0   4.000000       NaN   4.0   \n",
       "\n",
       "                               \n",
       "       25%   50%    75%   max  \n",
       "pos                            \n",
       "C     9.00  15.0  23.00  31.0  \n",
       "C/D    NaN   NaN    NaN   NaN  \n",
       "C/L    NaN   NaN    NaN   NaN  \n",
       "C/R  22.00  22.0  22.00  22.0  \n",
       "D     8.00  15.0  23.50  31.0  \n",
       "D/C  16.00  16.0  16.00  16.0  \n",
       "D/L  23.00  23.0  23.00  23.0  \n",
       "D/R    NaN   NaN    NaN   NaN  \n",
       "F    20.50  25.0  25.75  29.0  \n",
       "G     7.25  13.0  23.75  31.0  \n",
       "L     7.00  14.0  21.50  31.0  \n",
       "L/C    NaN   NaN    NaN   NaN  \n",
       "L/D  15.00  15.0  15.00  15.0  \n",
       "R     8.00  15.0  21.00  31.0  \n",
       "R/C   5.00   5.0   5.00   5.0  \n",
       "R/D    NaN   NaN    NaN   NaN  \n",
       "R/L    NaN   NaN    NaN   NaN  \n",
       "W     4.00   4.0   4.00   4.0  \n",
       "\n",
       "[18 rows x 104 columns]"
      ]
     },
     "execution_count": 305,
     "metadata": {},
     "output_type": "execute_result"
    }
   ],
   "source": [
    "players_df.groupby('pos').describe()"
   ]
  },
  {
   "cell_type": "markdown",
   "metadata": {},
   "source": [
    "## Filtering\n",
    "### Drop Records\n",
    "more details later on loc"
   ]
  },
  {
   "cell_type": "code",
   "execution_count": 319,
   "metadata": {},
   "outputs": [
    {
     "data": {
      "text/plain": [
       "(4627, 31)"
      ]
     },
     "execution_count": 319,
     "metadata": {},
     "output_type": "execute_result"
    }
   ],
   "source": [
    "players_df_trim_df = players_df.loc[players_df['lastNHL']>=1980]\n",
    "players_df_trim_df.shape"
   ]
  },
  {
   "cell_type": "markdown",
   "metadata": {},
   "source": [
    "#### DropNA"
   ]
  },
  {
   "cell_type": "code",
   "execution_count": 328,
   "metadata": {},
   "outputs": [
    {
     "data": {
      "text/plain": [
       "(4627, 10)"
      ]
     },
     "execution_count": 328,
     "metadata": {},
     "output_type": "execute_result"
    }
   ],
   "source": [
    "# records\n",
    "orig_players_df = players_df_trim_df.copy()\n",
    "players_df_trim_df = players_df_trim_df.dropna(subset=['playerID'])\n",
    "players_df_trim_df.shape"
   ]
  },
  {
   "cell_type": "code",
   "execution_count": 31,
   "metadata": {},
   "outputs": [
    {
     "data": {
      "text/plain": [
       "(6851, 31)"
      ]
     },
     "execution_count": 31,
     "metadata": {},
     "output_type": "execute_result"
    }
   ],
   "source": [
    "# how determines only removing those where both are NA\n",
    "players_df = players_df.dropna(subset=['firstNHL', 'lastNHL'], how='all')\n",
    "players_df.shape"
   ]
  },
  {
   "cell_type": "markdown",
   "metadata": {},
   "source": [
    "### Drop columns\n",
    "use `df.filter` with the columns to keep or `drop` witha xis=1"
   ]
  },
  {
   "cell_type": "code",
   "execution_count": null,
   "metadata": {},
   "outputs": [],
   "source": [
    "players_df.drop(labels='birthDay', axis=1, inplace=True, errors='raise')"
   ]
  },
  {
   "cell_type": "code",
   "execution_count": 320,
   "metadata": {},
   "outputs": [
    {
     "name": "stdout",
     "output_type": "stream",
     "text": [
      "<class 'pandas.core.frame.DataFrame'>\n",
      "Int64Index: 4627 entries, 0 to 7760\n",
      "Data columns (total 10 columns):\n",
      "playerID        4627 non-null object\n",
      "firstName       4627 non-null object\n",
      "lastName        4627 non-null object\n",
      "pos             4627 non-null object\n",
      "birthYear       4627 non-null float64\n",
      "birthMon        4627 non-null float64\n",
      "birthDay        4627 non-null float64\n",
      "birthCountry    4490 non-null object\n",
      "birthState      3523 non-null object\n",
      "birthCity       4490 non-null object\n",
      "dtypes: float64(3), object(7)\n",
      "memory usage: 397.6+ KB\n"
     ]
    }
   ],
   "source": [
    "players_df_trim_df = players_df_trim_df.filter(regex='(playerID|pos|^birth)|(Name$)')\n",
    "players_df_trim_df.info()"
   ]
  },
  {
   "cell_type": "markdown",
   "metadata": {},
   "source": [
    "#### Iloc"
   ]
  },
  {
   "cell_type": "markdown",
   "metadata": {},
   "source": [
    "Integer location `iloc` allows to query by row number"
   ]
  },
  {
   "cell_type": "code",
   "execution_count": 321,
   "metadata": {},
   "outputs": [
    {
     "data": {
      "text/html": [
       "<div>\n",
       "<style scoped>\n",
       "    .dataframe tbody tr th:only-of-type {\n",
       "        vertical-align: middle;\n",
       "    }\n",
       "\n",
       "    .dataframe tbody tr th {\n",
       "        vertical-align: top;\n",
       "    }\n",
       "\n",
       "    .dataframe thead th {\n",
       "        text-align: right;\n",
       "    }\n",
       "</style>\n",
       "<table border=\"1\" class=\"dataframe\">\n",
       "  <thead>\n",
       "    <tr style=\"text-align: right;\">\n",
       "      <th></th>\n",
       "      <th>playerID</th>\n",
       "      <th>firstName</th>\n",
       "      <th>lastName</th>\n",
       "      <th>pos</th>\n",
       "      <th>birthYear</th>\n",
       "      <th>birthMon</th>\n",
       "      <th>birthDay</th>\n",
       "      <th>birthCountry</th>\n",
       "      <th>birthState</th>\n",
       "      <th>birthCity</th>\n",
       "    </tr>\n",
       "  </thead>\n",
       "  <tbody>\n",
       "    <tr>\n",
       "      <th>0</th>\n",
       "      <td>aaltoan01</td>\n",
       "      <td>Antti</td>\n",
       "      <td>Aalto</td>\n",
       "      <td>C</td>\n",
       "      <td>1975.0</td>\n",
       "      <td>3.0</td>\n",
       "      <td>4.0</td>\n",
       "      <td>Finland</td>\n",
       "      <td>NaN</td>\n",
       "      <td>Lappeenranta</td>\n",
       "    </tr>\n",
       "    <tr>\n",
       "      <th>4</th>\n",
       "      <td>abdelju01</td>\n",
       "      <td>Justin</td>\n",
       "      <td>Abdelkader</td>\n",
       "      <td>L</td>\n",
       "      <td>1987.0</td>\n",
       "      <td>2.0</td>\n",
       "      <td>25.0</td>\n",
       "      <td>USA</td>\n",
       "      <td>MI</td>\n",
       "      <td>Muskegon</td>\n",
       "    </tr>\n",
       "    <tr>\n",
       "      <th>9</th>\n",
       "      <td>abidra01</td>\n",
       "      <td>Ramzi</td>\n",
       "      <td>Abid</td>\n",
       "      <td>L</td>\n",
       "      <td>1980.0</td>\n",
       "      <td>3.0</td>\n",
       "      <td>24.0</td>\n",
       "      <td>Canada</td>\n",
       "      <td>QC</td>\n",
       "      <td>Montreal</td>\n",
       "    </tr>\n",
       "  </tbody>\n",
       "</table>\n",
       "</div>"
      ],
      "text/plain": [
       "    playerID firstName    lastName pos  birthYear  birthMon  birthDay  \\\n",
       "0  aaltoan01     Antti       Aalto   C     1975.0       3.0       4.0   \n",
       "4  abdelju01    Justin  Abdelkader   L     1987.0       2.0      25.0   \n",
       "9   abidra01     Ramzi        Abid   L     1980.0       3.0      24.0   \n",
       "\n",
       "  birthCountry birthState     birthCity  \n",
       "0      Finland        NaN  Lappeenranta  \n",
       "4          USA         MI      Muskegon  \n",
       "9       Canada         QC      Montreal  "
      ]
     },
     "execution_count": 321,
     "metadata": {},
     "output_type": "execute_result"
    }
   ],
   "source": [
    "players_df_trim_df.iloc[0:3]"
   ]
  },
  {
   "cell_type": "markdown",
   "metadata": {},
   "source": [
    "or using a boolean array (`df.values` returns array)"
   ]
  },
  {
   "cell_type": "code",
   "execution_count": 322,
   "metadata": {},
   "outputs": [
    {
     "data": {
      "text/html": [
       "<div>\n",
       "<style scoped>\n",
       "    .dataframe tbody tr th:only-of-type {\n",
       "        vertical-align: middle;\n",
       "    }\n",
       "\n",
       "    .dataframe tbody tr th {\n",
       "        vertical-align: top;\n",
       "    }\n",
       "\n",
       "    .dataframe thead th {\n",
       "        text-align: right;\n",
       "    }\n",
       "</style>\n",
       "<table border=\"1\" class=\"dataframe\">\n",
       "  <thead>\n",
       "    <tr style=\"text-align: right;\">\n",
       "      <th></th>\n",
       "      <th>playerID</th>\n",
       "      <th>firstName</th>\n",
       "      <th>lastName</th>\n",
       "      <th>pos</th>\n",
       "      <th>birthYear</th>\n",
       "      <th>birthMon</th>\n",
       "      <th>birthDay</th>\n",
       "      <th>birthCountry</th>\n",
       "      <th>birthState</th>\n",
       "      <th>birthCity</th>\n",
       "    </tr>\n",
       "  </thead>\n",
       "  <tbody>\n",
       "    <tr>\n",
       "      <th>174</th>\n",
       "      <td>ashtoca01</td>\n",
       "      <td>Carter</td>\n",
       "      <td>Ashton</td>\n",
       "      <td>R</td>\n",
       "      <td>1991.0</td>\n",
       "      <td>4.0</td>\n",
       "      <td>1.0</td>\n",
       "      <td>NaN</td>\n",
       "      <td>NaN</td>\n",
       "      <td>NaN</td>\n",
       "    </tr>\n",
       "    <tr>\n",
       "      <th>234</th>\n",
       "      <td>baertsv01</td>\n",
       "      <td>Sven</td>\n",
       "      <td>Baertschi</td>\n",
       "      <td>L</td>\n",
       "      <td>1992.0</td>\n",
       "      <td>10.0</td>\n",
       "      <td>5.0</td>\n",
       "      <td>NaN</td>\n",
       "      <td>NaN</td>\n",
       "      <td>NaN</td>\n",
       "    </tr>\n",
       "    <tr>\n",
       "      <th>305</th>\n",
       "      <td>barrity01</td>\n",
       "      <td>Tyson</td>\n",
       "      <td>Barrie</td>\n",
       "      <td>D</td>\n",
       "      <td>1991.0</td>\n",
       "      <td>7.0</td>\n",
       "      <td>26.0</td>\n",
       "      <td>NaN</td>\n",
       "      <td>NaN</td>\n",
       "      <td>NaN</td>\n",
       "    </tr>\n",
       "    <tr>\n",
       "      <th>885</th>\n",
       "      <td>bulmebr01</td>\n",
       "      <td>Brett</td>\n",
       "      <td>Bulmer</td>\n",
       "      <td>R</td>\n",
       "      <td>1992.0</td>\n",
       "      <td>4.0</td>\n",
       "      <td>26.0</td>\n",
       "      <td>NaN</td>\n",
       "      <td>NaN</td>\n",
       "      <td>NaN</td>\n",
       "    </tr>\n",
       "    <tr>\n",
       "      <th>900</th>\n",
       "      <td>burmial01</td>\n",
       "      <td>Alexander</td>\n",
       "      <td>Burmistrov</td>\n",
       "      <td>C</td>\n",
       "      <td>1991.0</td>\n",
       "      <td>10.0</td>\n",
       "      <td>21.0</td>\n",
       "      <td>Russia</td>\n",
       "      <td>NaN</td>\n",
       "      <td>Kazan</td>\n",
       "    </tr>\n",
       "  </tbody>\n",
       "</table>\n",
       "</div>"
      ],
      "text/plain": [
       "      playerID  firstName    lastName pos  birthYear  birthMon  birthDay  \\\n",
       "174  ashtoca01     Carter      Ashton   R     1991.0       4.0       1.0   \n",
       "234  baertsv01       Sven   Baertschi   L     1992.0      10.0       5.0   \n",
       "305  barrity01      Tyson      Barrie   D     1991.0       7.0      26.0   \n",
       "885  bulmebr01      Brett      Bulmer   R     1992.0       4.0      26.0   \n",
       "900  burmial01  Alexander  Burmistrov   C     1991.0      10.0      21.0   \n",
       "\n",
       "    birthCountry birthState birthCity  \n",
       "174          NaN        NaN       NaN  \n",
       "234          NaN        NaN       NaN  \n",
       "305          NaN        NaN       NaN  \n",
       "885          NaN        NaN       NaN  \n",
       "900       Russia        NaN     Kazan  "
      ]
     },
     "execution_count": 322,
     "metadata": {},
     "output_type": "execute_result"
    }
   ],
   "source": [
    "players_df_trim_df.iloc[(players_df_trim_df['birthYear']>1990).values].head()"
   ]
  },
  {
   "cell_type": "markdown",
   "metadata": {},
   "source": [
    "#### LOC\n",
    "location is used to:\n",
    "* filter by the index\n",
    "* or using a boolean array... the later can be used to get reduce the df"
   ]
  },
  {
   "cell_type": "code",
   "execution_count": 323,
   "metadata": {},
   "outputs": [
    {
     "data": {
      "text/plain": [
       "playerID        charazd01\n",
       "firstName           Zdeno\n",
       "lastName            Chara\n",
       "pos                     D\n",
       "birthYear            1977\n",
       "birthMon                3\n",
       "birthDay               18\n",
       "birthCountry     Slovakia\n",
       "birthState            NaN\n",
       "birthCity         Trencin\n",
       "Name: 1106, dtype: object"
      ]
     },
     "execution_count": 323,
     "metadata": {},
     "output_type": "execute_result"
    }
   ],
   "source": [
    "players_df_trim_df.loc[1106]"
   ]
  },
  {
   "cell_type": "code",
   "execution_count": 326,
   "metadata": {},
   "outputs": [
    {
     "data": {
      "text/html": [
       "<div>\n",
       "<style scoped>\n",
       "    .dataframe tbody tr th:only-of-type {\n",
       "        vertical-align: middle;\n",
       "    }\n",
       "\n",
       "    .dataframe tbody tr th {\n",
       "        vertical-align: top;\n",
       "    }\n",
       "\n",
       "    .dataframe thead th {\n",
       "        text-align: right;\n",
       "    }\n",
       "</style>\n",
       "<table border=\"1\" class=\"dataframe\">\n",
       "  <thead>\n",
       "    <tr style=\"text-align: right;\">\n",
       "      <th></th>\n",
       "      <th>playerID</th>\n",
       "      <th>birthYear</th>\n",
       "    </tr>\n",
       "  </thead>\n",
       "  <tbody>\n",
       "    <tr>\n",
       "      <th>5234</th>\n",
       "      <td>nugenry01</td>\n",
       "      <td>1993.0</td>\n",
       "    </tr>\n",
       "    <tr>\n",
       "      <th>6280</th>\n",
       "      <td>scheima01</td>\n",
       "      <td>1993.0</td>\n",
       "    </tr>\n",
       "    <tr>\n",
       "      <th>7737</th>\n",
       "      <td>zibanmi01</td>\n",
       "      <td>1993.0</td>\n",
       "    </tr>\n",
       "  </tbody>\n",
       "</table>\n",
       "</div>"
      ],
      "text/plain": [
       "       playerID  birthYear\n",
       "5234  nugenry01     1993.0\n",
       "6280  scheima01     1993.0\n",
       "7737  zibanmi01     1993.0"
      ]
     },
     "execution_count": 326,
     "metadata": {},
     "output_type": "execute_result"
    }
   ],
   "source": [
    "players_df_trim_df.loc[(players_df['birthYear']>1992), ['playerID', 'birthYear']] "
   ]
  },
  {
   "cell_type": "markdown",
   "metadata": {},
   "source": [
    "### Pipe\n",
    "Applies formula to df"
   ]
  },
  {
   "cell_type": "code",
   "execution_count": 333,
   "metadata": {},
   "outputs": [
    {
     "data": {
      "text/plain": [
       "False    4061\n",
       "True      566\n",
       "Name: birthYear, dtype: int64"
      ]
     },
     "execution_count": 333,
     "metadata": {},
     "output_type": "execute_result"
    }
   ],
   "source": [
    "players_df_trim_df['birthYear'].pipe(lambda a : a > 1985).value_counts()"
   ]
  },
  {
   "cell_type": "code",
   "execution_count": 56,
   "metadata": {},
   "outputs": [],
   "source": [
    "def mem_mib(df):\n",
    "    print('{0:,.2f} MiB'.format(df.memory_usage().sum()/1024**2))"
   ]
  },
  {
   "cell_type": "code",
   "execution_count": 58,
   "metadata": {},
   "outputs": [
    {
     "name": "stdout",
     "output_type": "stream",
     "text": [
      "1.67 MiB\n",
      "0.39 MiB\n"
     ]
    }
   ],
   "source": [
    "mem_mib(players_df)\n",
    "mem_mib(players_df_trim_df)"
   ]
  },
  {
   "cell_type": "markdown",
   "metadata": {},
   "source": [
    "## Categories"
   ]
  },
  {
   "cell_type": "code",
   "execution_count": 338,
   "metadata": {},
   "outputs": [],
   "source": [
    "players_df_trim_df.loc[:, 'pos']= pd.Categorical(players_df_trim_df['pos'])"
   ]
  },
  {
   "cell_type": "code",
   "execution_count": 341,
   "metadata": {},
   "outputs": [
    {
     "data": {
      "text/plain": [
       "Index(['C', 'D', 'F', 'G', 'L', 'L/C', 'R'], dtype='object')"
      ]
     },
     "execution_count": 341,
     "metadata": {},
     "output_type": "execute_result"
    }
   ],
   "source": [
    "players_df_trim_df.loc[:,'pos'].cat.categories"
   ]
  },
  {
   "cell_type": "code",
   "execution_count": 344,
   "metadata": {},
   "outputs": [],
   "source": [
    "players_df_trim_df.loc[:, 'birthCountry']= pd.Categorical(players_df_trim_df['birthCountry'])\n",
    "players_df_trim_df.loc[:, 'birthState']= pd.Categorical(players_df_trim_df['birthState'])"
   ]
  },
  {
   "cell_type": "code",
   "execution_count": 347,
   "metadata": {},
   "outputs": [
    {
     "data": {
      "text/html": [
       "<div>\n",
       "<style scoped>\n",
       "    .dataframe tbody tr th:only-of-type {\n",
       "        vertical-align: middle;\n",
       "    }\n",
       "\n",
       "    .dataframe tbody tr th {\n",
       "        vertical-align: top;\n",
       "    }\n",
       "\n",
       "    .dataframe thead th {\n",
       "        text-align: right;\n",
       "    }\n",
       "</style>\n",
       "<table border=\"1\" class=\"dataframe\">\n",
       "  <thead>\n",
       "    <tr style=\"text-align: right;\">\n",
       "      <th></th>\n",
       "      <th>birthYear</th>\n",
       "      <th>birthMon</th>\n",
       "      <th>birthDay</th>\n",
       "    </tr>\n",
       "  </thead>\n",
       "  <tbody>\n",
       "    <tr>\n",
       "      <th>count</th>\n",
       "      <td>2750.000000</td>\n",
       "      <td>2750.000000</td>\n",
       "      <td>2750.000000</td>\n",
       "    </tr>\n",
       "    <tr>\n",
       "      <th>mean</th>\n",
       "      <td>1969.776000</td>\n",
       "      <td>5.819273</td>\n",
       "      <td>15.597091</td>\n",
       "    </tr>\n",
       "    <tr>\n",
       "      <th>std</th>\n",
       "      <td>10.771039</td>\n",
       "      <td>3.370813</td>\n",
       "      <td>8.924557</td>\n",
       "    </tr>\n",
       "    <tr>\n",
       "      <th>min</th>\n",
       "      <td>1940.000000</td>\n",
       "      <td>1.000000</td>\n",
       "      <td>1.000000</td>\n",
       "    </tr>\n",
       "    <tr>\n",
       "      <th>25%</th>\n",
       "      <td>1961.000000</td>\n",
       "      <td>3.000000</td>\n",
       "      <td>8.000000</td>\n",
       "    </tr>\n",
       "    <tr>\n",
       "      <th>50%</th>\n",
       "      <td>1969.000000</td>\n",
       "      <td>5.000000</td>\n",
       "      <td>15.000000</td>\n",
       "    </tr>\n",
       "    <tr>\n",
       "      <th>75%</th>\n",
       "      <td>1979.000000</td>\n",
       "      <td>9.000000</td>\n",
       "      <td>23.000000</td>\n",
       "    </tr>\n",
       "    <tr>\n",
       "      <th>max</th>\n",
       "      <td>1992.000000</td>\n",
       "      <td>12.000000</td>\n",
       "      <td>31.000000</td>\n",
       "    </tr>\n",
       "  </tbody>\n",
       "</table>\n",
       "</div>"
      ],
      "text/plain": [
       "         birthYear     birthMon     birthDay\n",
       "count  2750.000000  2750.000000  2750.000000\n",
       "mean   1969.776000     5.819273    15.597091\n",
       "std      10.771039     3.370813     8.924557\n",
       "min    1940.000000     1.000000     1.000000\n",
       "25%    1961.000000     3.000000     8.000000\n",
       "50%    1969.000000     5.000000    15.000000\n",
       "75%    1979.000000     9.000000    23.000000\n",
       "max    1992.000000    12.000000    31.000000"
      ]
     },
     "execution_count": 347,
     "metadata": {},
     "output_type": "execute_result"
    }
   ],
   "source": [
    "players_df_trim_df.loc[players_df_trim_df['birthCountry']=='Canada'].describe()"
   ]
  },
  {
   "cell_type": "code",
   "execution_count": 350,
   "metadata": {},
   "outputs": [
    {
     "data": {
      "text/plain": [
       "Canada    2750\n",
       "USA        773\n",
       "Name: birthCountry, dtype: int64"
      ]
     },
     "execution_count": 350,
     "metadata": {},
     "output_type": "execute_result"
    }
   ],
   "source": [
    "players_df_trim_df.loc[:, 'birthCountry'].value_counts().head(2)"
   ]
  },
  {
   "cell_type": "markdown",
   "metadata": {},
   "source": [
    "## Change index"
   ]
  },
  {
   "cell_type": "code",
   "execution_count": 352,
   "metadata": {},
   "outputs": [],
   "source": [
    "players_df_trim_df = players_df_trim_df.set_index('playerID')"
   ]
  },
  {
   "cell_type": "markdown",
   "metadata": {},
   "source": [
    "---\n",
    "# SQL Alchemy\n",
    "This sintax allows for an easier query"
   ]
  },
  {
   "cell_type": "code",
   "execution_count": 246,
   "metadata": {},
   "outputs": [],
   "source": [
    "from sqlalchemy.sql import select\n",
    "from sqlalchemy import create_engine, inspect\n",
    "from sqlalchemy import Table, Column, Integer, String, MetaData, ForeignKey"
   ]
  },
  {
   "cell_type": "code",
   "execution_count": 329,
   "metadata": {},
   "outputs": [],
   "source": [
    "engine = create_engine('sqlite:///test.db')"
   ]
  },
  {
   "cell_type": "markdown",
   "metadata": {},
   "source": [
    "## Create Table and insert"
   ]
  },
  {
   "cell_type": "code",
   "execution_count": 149,
   "metadata": {},
   "outputs": [],
   "source": [
    "conn = engine.connect()"
   ]
  },
  {
   "cell_type": "code",
   "execution_count": 330,
   "metadata": {},
   "outputs": [],
   "source": [
    "metadata = MetaData()\n",
    "users = Table('users', metadata, Column('id', Integer, primary_key=True), Column('name', String),Column('fullname', String))"
   ]
  },
  {
   "cell_type": "code",
   "execution_count": 331,
   "metadata": {},
   "outputs": [],
   "source": [
    "addresses = Table('addresses', metadata, Column('id', Integer, primary_key=True), Column('user_id', None, ForeignKey('users.id')), \n",
    "                  Column('email_address', String, nullable=False))"
   ]
  },
  {
   "cell_type": "code",
   "execution_count": 332,
   "metadata": {},
   "outputs": [],
   "source": [
    "metadata.create_all(engine)"
   ]
  },
  {
   "cell_type": "code",
   "execution_count": 155,
   "metadata": {},
   "outputs": [],
   "source": [
    "ins = users.insert().values(name='jack', fullname='Jack Jones')\n",
    "result = conn.execute(ins)"
   ]
  },
  {
   "cell_type": "code",
   "execution_count": 179,
   "metadata": {},
   "outputs": [
    {
     "data": {
      "text/plain": [
       "<sqlalchemy.engine.result.ResultProxy at 0x11e158e48>"
      ]
     },
     "execution_count": 179,
     "metadata": {},
     "output_type": "execute_result"
    }
   ],
   "source": [
    "ins = users.insert()\n",
    "conn.execute(ins, name='wendy', fullname='Wendy Williams')"
   ]
  },
  {
   "cell_type": "code",
   "execution_count": 157,
   "metadata": {},
   "outputs": [
    {
     "data": {
      "text/plain": [
       "<sqlalchemy.engine.result.ResultProxy at 0x11d7062b0>"
      ]
     },
     "execution_count": 157,
     "metadata": {},
     "output_type": "execute_result"
    }
   ],
   "source": [
    "conn.execute(addresses.insert(), [\n",
    "{'user_id': 1, 'email_address' : 'jack@yahoo.com'},\n",
    "{'user_id': 1, 'email_address' : 'jack@msn.com'},\n",
    "{'user_id': 2, 'email_address' : 'www@www.org'},\n",
    "{'user_id': 2, 'email_address' : 'wendy@aol.com'},\n",
    "])"
   ]
  },
  {
   "cell_type": "code",
   "execution_count": 178,
   "metadata": {},
   "outputs": [
    {
     "data": {
      "text/plain": [
       "<sqlalchemy.engine.result.ResultProxy at 0x11df1a438>"
      ]
     },
     "execution_count": 178,
     "metadata": {},
     "output_type": "execute_result"
    }
   ],
   "source": [
    "conn.execute(users.update().values(name='wendy', fullname='Wendy Jones').where(users.c.id== 2))"
   ]
  },
  {
   "cell_type": "markdown",
   "metadata": {},
   "source": [
    "## Reflecting the Metadata of an existing DB Table\n",
    "<https://docs.sqlalchemy.org/en/latest/core/reflection.html>"
   ]
  },
  {
   "cell_type": "markdown",
   "metadata": {},
   "source": [
    "### Single Table"
   ]
  },
  {
   "cell_type": "code",
   "execution_count": 211,
   "metadata": {},
   "outputs": [],
   "source": [
    "meta = MetaData()"
   ]
  },
  {
   "cell_type": "code",
   "execution_count": 212,
   "metadata": {},
   "outputs": [],
   "source": [
    "users = Table('users', meta, autoload=True, autoload_with=engine)"
   ]
  },
  {
   "cell_type": "code",
   "execution_count": 213,
   "metadata": {},
   "outputs": [
    {
     "data": {
      "text/plain": [
       "['id', 'name', 'fullname']"
      ]
     },
     "execution_count": 213,
     "metadata": {},
     "output_type": "execute_result"
    }
   ],
   "source": [
    "[c.name for c in users.columns]\n",
    "\n",
    "# pprint.pprint(meta)"
   ]
  },
  {
   "cell_type": "markdown",
   "metadata": {},
   "source": [
    "### All Tables"
   ]
  },
  {
   "cell_type": "code",
   "execution_count": 238,
   "metadata": {},
   "outputs": [
    {
     "name": "stdout",
     "output_type": "stream",
     "text": [
      "{   'addresses': Table('addresses', MetaData(bind=None), Column('id', INTEGER(), table=<addresses>, primary_key=True, nullable=False), Column('user_id', INTEGER(), ForeignKey('users.id'), table=<addresses>), Column('email_address', VARCHAR(), table=<addresses>, nullable=False), schema=None),\n",
      "    'users': Table('users', MetaData(bind=None), Column('id', INTEGER(), table=<users>, primary_key=True, nullable=False), Column('name', VARCHAR(), table=<users>), Column('fullname', VARCHAR(), table=<users>), schema=None)}\n"
     ]
    }
   ],
   "source": [
    "meta = MetaData()\n",
    "meta.reflect(bind=engine)\n",
    "pprint.pprint(meta.tables, indent=4, width=80, depth=2)\n",
    "# users_table = meta.tables['users']\n",
    "# addresses_table = meta.tables['addresses']"
   ]
  },
  {
   "cell_type": "code",
   "execution_count": 243,
   "metadata": {},
   "outputs": [
    {
     "data": {
      "text/plain": [
       "2"
      ]
     },
     "execution_count": 243,
     "metadata": {},
     "output_type": "execute_result"
    }
   ],
   "source": [
    "len(meta.sorted_tables)"
   ]
  },
  {
   "cell_type": "markdown",
   "metadata": {},
   "source": [
    "Alternatively an inspector can be used"
   ]
  },
  {
   "cell_type": "code",
   "execution_count": 247,
   "metadata": {},
   "outputs": [],
   "source": [
    "insp = inspect(engine)"
   ]
  },
  {
   "cell_type": "code",
   "execution_count": 261,
   "metadata": {},
   "outputs": [
    {
     "data": {
      "text/plain": [
       "['main']"
      ]
     },
     "execution_count": 261,
     "metadata": {},
     "output_type": "execute_result"
    }
   ],
   "source": [
    "insp.get_columns('users', schema=None)\n",
    "insp.get_foreign_keys('users')\n",
    "insp.get_schema_names()"
   ]
  },
  {
   "cell_type": "code",
   "execution_count": 266,
   "metadata": {},
   "outputs": [
    {
     "name": "stdout",
     "output_type": "stream",
     "text": [
      "['addresses', 'users']\n"
     ]
    }
   ],
   "source": [
    "print(insp.get_table_names())"
   ]
  },
  {
   "cell_type": "code",
   "execution_count": 356,
   "metadata": {},
   "outputs": [
    {
     "data": {
      "text/plain": [
       "{'name': 'id',\n",
       " 'type': INTEGER(),\n",
       " 'nullable': False,\n",
       " 'default': None,\n",
       " 'autoincrement': 'auto',\n",
       " 'primary_key': 1}"
      ]
     },
     "execution_count": 356,
     "metadata": {},
     "output_type": "execute_result"
    }
   ],
   "source": [
    "insp.get_table_names()\n",
    "users_columns  =insp.get_columns('users', schema=None)\n",
    "users_columns[0]"
   ]
  },
  {
   "cell_type": "markdown",
   "metadata": {},
   "source": [
    "## SELECT "
   ]
  },
  {
   "cell_type": "code",
   "execution_count": 135,
   "metadata": {},
   "outputs": [
    {
     "name": "stdout",
     "output_type": "stream",
     "text": [
      "2019-04-07 14:53:01,178 INFO sqlalchemy.engine.base.Engine SELECT users.id, users.name, users.fullname \n",
      "FROM users\n",
      "2019-04-07 14:53:01,180 INFO sqlalchemy.engine.base.Engine ()\n"
     ]
    }
   ],
   "source": [
    "s = select([users])\n",
    "result = conn.execute(s)"
   ]
  },
  {
   "cell_type": "code",
   "execution_count": 136,
   "metadata": {},
   "outputs": [],
   "source": [
    "s = select([users.c.name, users.c.fullname])"
   ]
  },
  {
   "cell_type": "code",
   "execution_count": 137,
   "metadata": {},
   "outputs": [
    {
     "name": "stdout",
     "output_type": "stream",
     "text": [
      "2019-04-07 14:53:06,124 INFO sqlalchemy.engine.base.Engine SELECT users.name, users.fullname \n",
      "FROM users\n",
      "2019-04-07 14:53:06,126 INFO sqlalchemy.engine.base.Engine ()\n"
     ]
    },
    {
     "data": {
      "text/plain": [
       "('jack', 'Jack Jones')"
      ]
     },
     "execution_count": 137,
     "metadata": {},
     "output_type": "execute_result"
    }
   ],
   "source": [
    "conn.execute(s).fetchone()"
   ]
  },
  {
   "cell_type": "code",
   "execution_count": 139,
   "metadata": {},
   "outputs": [],
   "source": [
    "from sqlalchemy.sql import and_, or_, not_"
   ]
  },
  {
   "cell_type": "code",
   "execution_count": 144,
   "metadata": {},
   "outputs": [
    {
     "name": "stdout",
     "output_type": "stream",
     "text": [
      "2019-04-07 14:56:31,980 INFO sqlalchemy.engine.base.Engine SELECT users.name, users.fullname \n",
      "FROM users \n",
      "WHERE users.id < ? AND users.name = ?\n",
      "2019-04-07 14:56:31,982 INFO sqlalchemy.engine.base.Engine (2, 'jack')\n"
     ]
    },
    {
     "data": {
      "text/plain": [
       "[('jack', 'Jack Jones')]"
      ]
     },
     "execution_count": 144,
     "metadata": {},
     "output_type": "execute_result"
    }
   ],
   "source": [
    "# Select name, fullname from users where id <2 and name = 'jack'\n",
    "s = select([users.c.name, users.c.fullname]).where(and_(users.c.id <2, users.c.name =='jack'))\n",
    "conn.execute(s).fetchall()"
   ]
  },
  {
   "cell_type": "markdown",
   "metadata": {},
   "source": [
    "## Joins"
   ]
  },
  {
   "cell_type": "code",
   "execution_count": 140,
   "metadata": {},
   "outputs": [
    {
     "name": "stdout",
     "output_type": "stream",
     "text": [
      "2019-04-07 14:54:26,796 INFO sqlalchemy.engine.base.Engine SELECT users.id, users.name, users.fullname, addresses.id, addresses.user_id, addresses.email_address \n",
      "FROM users, addresses \n",
      "WHERE users.id = addresses.user_id\n",
      "2019-04-07 14:54:26,797 INFO sqlalchemy.engine.base.Engine ()\n"
     ]
    },
    {
     "data": {
      "text/plain": [
       "[(1, 'jack', 'Jack Jones', 1, 1, 'jack@yahoo.com'),\n",
       " (1, 'jack', 'Jack Jones', 2, 1, 'jack@msn.com'),\n",
       " (2, 'wendy', 'Wendy Williams', 3, 2, 'www@www.org'),\n",
       " (2, 'wendy', 'Wendy Williams', 4, 2, 'wendy@aol.com')]"
      ]
     },
     "execution_count": 140,
     "metadata": {},
     "output_type": "execute_result"
    }
   ],
   "source": [
    "s = select([users, addresses]).where(users.c.id == addresses.c.user_id)\n",
    "conn.execute(s).fetchall()"
   ]
  },
  {
   "cell_type": "code",
   "execution_count": 146,
   "metadata": {},
   "outputs": [
    {
     "name": "stdout",
     "output_type": "stream",
     "text": [
      "SELECT users.fullname \n",
      "FROM users LEFT OUTER JOIN addresses ON users.id = addresses.user_id\n"
     ]
    }
   ],
   "source": [
    "s = select([users.c.fullname]).select_from(users.outerjoin(addresses))\n",
    "print(s)"
   ]
  },
  {
   "cell_type": "markdown",
   "metadata": {},
   "source": [
    "<https://mkaz.blog/code/python-string-format-cookbook/>"
   ]
  },
  {
   "cell_type": "markdown",
   "metadata": {},
   "source": [
    "# Scores"
   ]
  },
  {
   "cell_type": "code",
   "execution_count": 359,
   "metadata": {},
   "outputs": [
    {
     "data": {
      "text/html": [
       "<div>\n",
       "<style scoped>\n",
       "    .dataframe tbody tr th:only-of-type {\n",
       "        vertical-align: middle;\n",
       "    }\n",
       "\n",
       "    .dataframe tbody tr th {\n",
       "        vertical-align: top;\n",
       "    }\n",
       "\n",
       "    .dataframe thead th {\n",
       "        text-align: right;\n",
       "    }\n",
       "</style>\n",
       "<table border=\"1\" class=\"dataframe\">\n",
       "  <thead>\n",
       "    <tr style=\"text-align: right;\">\n",
       "      <th></th>\n",
       "      <th>playerID</th>\n",
       "      <th>year</th>\n",
       "      <th>stint</th>\n",
       "      <th>tmID</th>\n",
       "      <th>lgID</th>\n",
       "      <th>pos</th>\n",
       "      <th>GP</th>\n",
       "      <th>G</th>\n",
       "      <th>A</th>\n",
       "      <th>Pts</th>\n",
       "      <th>...</th>\n",
       "      <th>PostA</th>\n",
       "      <th>PostPts</th>\n",
       "      <th>PostPIM</th>\n",
       "      <th>Post+/-</th>\n",
       "      <th>PostPPG</th>\n",
       "      <th>PostPPA</th>\n",
       "      <th>PostSHG</th>\n",
       "      <th>PostSHA</th>\n",
       "      <th>PostGWG</th>\n",
       "      <th>PostSOG</th>\n",
       "    </tr>\n",
       "  </thead>\n",
       "  <tbody>\n",
       "    <tr>\n",
       "      <th>0</th>\n",
       "      <td>aaltoan01</td>\n",
       "      <td>1997</td>\n",
       "      <td>1</td>\n",
       "      <td>ANA</td>\n",
       "      <td>NHL</td>\n",
       "      <td>C</td>\n",
       "      <td>3.0</td>\n",
       "      <td>0.0</td>\n",
       "      <td>0.0</td>\n",
       "      <td>0.0</td>\n",
       "      <td>...</td>\n",
       "      <td>NaN</td>\n",
       "      <td>NaN</td>\n",
       "      <td>NaN</td>\n",
       "      <td>NaN</td>\n",
       "      <td>NaN</td>\n",
       "      <td>NaN</td>\n",
       "      <td>NaN</td>\n",
       "      <td>NaN</td>\n",
       "      <td>NaN</td>\n",
       "      <td>NaN</td>\n",
       "    </tr>\n",
       "    <tr>\n",
       "      <th>1</th>\n",
       "      <td>aaltoan01</td>\n",
       "      <td>1998</td>\n",
       "      <td>1</td>\n",
       "      <td>ANA</td>\n",
       "      <td>NHL</td>\n",
       "      <td>C</td>\n",
       "      <td>73.0</td>\n",
       "      <td>3.0</td>\n",
       "      <td>5.0</td>\n",
       "      <td>8.0</td>\n",
       "      <td>...</td>\n",
       "      <td>0.0</td>\n",
       "      <td>0.0</td>\n",
       "      <td>2.0</td>\n",
       "      <td>0.0</td>\n",
       "      <td>0.0</td>\n",
       "      <td>0.0</td>\n",
       "      <td>0.0</td>\n",
       "      <td>0.0</td>\n",
       "      <td>0.0</td>\n",
       "      <td>0.0</td>\n",
       "    </tr>\n",
       "    <tr>\n",
       "      <th>2</th>\n",
       "      <td>aaltoan01</td>\n",
       "      <td>1999</td>\n",
       "      <td>1</td>\n",
       "      <td>ANA</td>\n",
       "      <td>NHL</td>\n",
       "      <td>C</td>\n",
       "      <td>63.0</td>\n",
       "      <td>7.0</td>\n",
       "      <td>11.0</td>\n",
       "      <td>18.0</td>\n",
       "      <td>...</td>\n",
       "      <td>NaN</td>\n",
       "      <td>NaN</td>\n",
       "      <td>NaN</td>\n",
       "      <td>NaN</td>\n",
       "      <td>NaN</td>\n",
       "      <td>NaN</td>\n",
       "      <td>NaN</td>\n",
       "      <td>NaN</td>\n",
       "      <td>NaN</td>\n",
       "      <td>NaN</td>\n",
       "    </tr>\n",
       "    <tr>\n",
       "      <th>3</th>\n",
       "      <td>aaltoan01</td>\n",
       "      <td>2000</td>\n",
       "      <td>1</td>\n",
       "      <td>ANA</td>\n",
       "      <td>NHL</td>\n",
       "      <td>C</td>\n",
       "      <td>12.0</td>\n",
       "      <td>1.0</td>\n",
       "      <td>1.0</td>\n",
       "      <td>2.0</td>\n",
       "      <td>...</td>\n",
       "      <td>NaN</td>\n",
       "      <td>NaN</td>\n",
       "      <td>NaN</td>\n",
       "      <td>NaN</td>\n",
       "      <td>NaN</td>\n",
       "      <td>NaN</td>\n",
       "      <td>NaN</td>\n",
       "      <td>NaN</td>\n",
       "      <td>NaN</td>\n",
       "      <td>NaN</td>\n",
       "    </tr>\n",
       "    <tr>\n",
       "      <th>4</th>\n",
       "      <td>abbeybr01</td>\n",
       "      <td>1975</td>\n",
       "      <td>1</td>\n",
       "      <td>CIN</td>\n",
       "      <td>WHA</td>\n",
       "      <td>D</td>\n",
       "      <td>17.0</td>\n",
       "      <td>1.0</td>\n",
       "      <td>0.0</td>\n",
       "      <td>1.0</td>\n",
       "      <td>...</td>\n",
       "      <td>NaN</td>\n",
       "      <td>NaN</td>\n",
       "      <td>NaN</td>\n",
       "      <td>NaN</td>\n",
       "      <td>NaN</td>\n",
       "      <td>NaN</td>\n",
       "      <td>NaN</td>\n",
       "      <td>NaN</td>\n",
       "      <td>NaN</td>\n",
       "      <td>NaN</td>\n",
       "    </tr>\n",
       "  </tbody>\n",
       "</table>\n",
       "<p>5 rows × 31 columns</p>\n",
       "</div>"
      ],
      "text/plain": [
       "    playerID  year  stint tmID lgID pos    GP    G     A   Pts  ...  PostA  \\\n",
       "0  aaltoan01  1997      1  ANA  NHL   C   3.0  0.0   0.0   0.0  ...    NaN   \n",
       "1  aaltoan01  1998      1  ANA  NHL   C  73.0  3.0   5.0   8.0  ...    0.0   \n",
       "2  aaltoan01  1999      1  ANA  NHL   C  63.0  7.0  11.0  18.0  ...    NaN   \n",
       "3  aaltoan01  2000      1  ANA  NHL   C  12.0  1.0   1.0   2.0  ...    NaN   \n",
       "4  abbeybr01  1975      1  CIN  WHA   D  17.0  1.0   0.0   1.0  ...    NaN   \n",
       "\n",
       "   PostPts  PostPIM  Post+/-  PostPPG  PostPPA  PostSHG  PostSHA  PostGWG  \\\n",
       "0      NaN      NaN      NaN      NaN      NaN      NaN      NaN      NaN   \n",
       "1      0.0      2.0      0.0      0.0      0.0      0.0      0.0      0.0   \n",
       "2      NaN      NaN      NaN      NaN      NaN      NaN      NaN      NaN   \n",
       "3      NaN      NaN      NaN      NaN      NaN      NaN      NaN      NaN   \n",
       "4      NaN      NaN      NaN      NaN      NaN      NaN      NaN      NaN   \n",
       "\n",
       "   PostSOG  \n",
       "0      NaN  \n",
       "1      0.0  \n",
       "2      NaN  \n",
       "3      NaN  \n",
       "4      NaN  \n",
       "\n",
       "[5 rows x 31 columns]"
      ]
     },
     "execution_count": 359,
     "metadata": {},
     "output_type": "execute_result"
    }
   ],
   "source": [
    "score_df = pd.read_csv('./data/Scoring.csv')\n",
    "score_df.head()"
   ]
  },
  {
   "cell_type": "code",
   "execution_count": null,
   "metadata": {},
   "outputs": [],
   "source": [
    "score_df = score_df.loc[(score_df[\"lgID\"]=='NHL')&(score_df['year']>=1980)]"
   ]
  },
  {
   "cell_type": "code",
   "execution_count": 388,
   "metadata": {},
   "outputs": [
    {
     "name": "stdout",
     "output_type": "stream",
     "text": [
      "<class 'pandas.core.frame.DataFrame'>\n",
      "Int64Index: 28616 entries, 0 to 45966\n",
      "Data columns (total 8 columns):\n",
      "playerID    28616 non-null object\n",
      "year        28616 non-null int64\n",
      "tmID        28616 non-null category\n",
      "GP          28508 non-null float64\n",
      "G           28508 non-null float64\n",
      "A           28508 non-null float64\n",
      "Pts         28508 non-null float64\n",
      "SOG         28508 non-null float64\n",
      "dtypes: category(1), float64(5), int64(1), object(1)\n",
      "memory usage: 1.8+ MB\n"
     ]
    }
   ],
   "source": [
    "score_df = score_df.filter(regex='^(?!(Post|PP|SH)).*')\n",
    "score_df['tmID'] = pd.Categorical(score_df['tmID'])\n",
    "score_df =score_df.loc[:,['playerID', 'year', 'tmID', 'GP', 'G', 'A', 'Pts', 'SOG']]\n",
    "score_df.info()"
   ]
  },
  {
   "cell_type": "code",
   "execution_count": 391,
   "metadata": {},
   "outputs": [
    {
     "data": {
      "text/plain": [
       "Int64Index([    0,     1,     2,     3,     7,     8,     9,    10,    11,\n",
       "               38,\n",
       "            ...\n",
       "            45957, 45958, 45959, 45960, 45961, 45962, 45963, 45964, 45965,\n",
       "            45966],\n",
       "           dtype='int64', length=28616)"
      ]
     },
     "execution_count": 391,
     "metadata": {},
     "output_type": "execute_result"
    }
   ],
   "source": [
    "score_df.index"
   ]
  },
  {
   "cell_type": "markdown",
   "metadata": {},
   "source": [
    "reset index, restarts the index to be a sequence."
   ]
  },
  {
   "cell_type": "code",
   "execution_count": 404,
   "metadata": {},
   "outputs": [],
   "source": [
    "score_df.reset_index(drop=True, inplace=True)"
   ]
  },
  {
   "cell_type": "code",
   "execution_count": 405,
   "metadata": {},
   "outputs": [],
   "source": [
    "teams_df = pd.read_csv('./data/Teams.csv')"
   ]
  },
  {
   "cell_type": "code",
   "execution_count": 406,
   "metadata": {},
   "outputs": [
    {
     "data": {
      "text/plain": [
       "(1519, 27)"
      ]
     },
     "execution_count": 406,
     "metadata": {},
     "output_type": "execute_result"
    }
   ],
   "source": [
    "teams_df.shape"
   ]
  }
 ],
 "metadata": {
  "kernelspec": {
   "display_name": "Python 3",
   "language": "python",
   "name": "python3"
  },
  "language_info": {
   "codemirror_mode": {
    "name": "ipython",
    "version": 3
   },
   "file_extension": ".py",
   "mimetype": "text/x-python",
   "name": "python",
   "nbconvert_exporter": "python",
   "pygments_lexer": "ipython3",
   "version": "3.7.3"
  }
 },
 "nbformat": 4,
 "nbformat_minor": 2
}
