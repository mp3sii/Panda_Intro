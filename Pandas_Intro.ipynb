{
 "cells": [
  {
   "cell_type": "markdown",
   "metadata": {},
   "source": [
    "# Pandas\n",
    "Pandas is an open source, BSD-licensed library providing high-performance, easy-to-use data structures and data analysis tools for the Python programming language."
   ]
  },
  {
   "cell_type": "code",
   "execution_count": 1,
   "metadata": {},
   "outputs": [],
   "source": [
    "import pandas as pd\n",
    "import numpy as np\n",
    "import os"
   ]
  },
  {
   "cell_type": "markdown",
   "metadata": {},
   "source": [
    "## 1. Data Types\n",
    "### 1.1 Numpy Array\n",
    "A Numpy array is a 1 row array."
   ]
  },
  {
   "cell_type": "code",
   "execution_count": 2,
   "metadata": {},
   "outputs": [
    {
     "data": {
      "text/plain": [
       "array([1, 2, 3])"
      ]
     },
     "execution_count": 2,
     "metadata": {},
     "output_type": "execute_result"
    }
   ],
   "source": [
    "np.random.rand(3)\n",
    "np.array([1,2,3])"
   ]
  },
  {
   "cell_type": "markdown",
   "metadata": {},
   "source": [
    "### 1.2 Series\n",
    "Series is a one-dimensional labeled array (column) capable of holding any data type (integers, strings, floating point numbers, Python objects, etc.). The axis labels are collectively referred to as the index.  [Panda Series Documentation][1]\n",
    "\n",
    "The basic method to create a Series is to call:\n",
    "\n",
    "[1]:<https://pandas.pydata.org/pandas-docs/stable/reference/api/pandas.Series.html> \"Pandas Series\" "
   ]
  },
  {
   "cell_type": "code",
   "execution_count": 3,
   "metadata": {},
   "outputs": [
    {
     "data": {
      "text/plain": [
       "a    5.1\n",
       "b    5.1\n",
       "c    5.1\n",
       "dtype: float64"
      ]
     },
     "execution_count": 3,
     "metadata": {},
     "output_type": "execute_result"
    }
   ],
   "source": [
    "pd.Series({'a1': 2, 'a2': 'b'}) # Using Dictionary\n",
    "pd.Series([1, 'b'], index=['a1', 'a2']) # Using List of values and list index\n",
    "pd.Series(5.1, index=['a', 'b', 'c']) # Using scalar"
   ]
  },
  {
   "cell_type": "markdown",
   "metadata": {},
   "source": [
    "#### 1.2.1 Slicing \n",
    "A series can be sliced"
   ]
  },
  {
   "cell_type": "code",
   "execution_count": 4,
   "metadata": {},
   "outputs": [
    {
     "data": {
      "text/plain": [
       "a    1\n",
       "b    2\n",
       "dtype: int64"
      ]
     },
     "execution_count": 4,
     "metadata": {},
     "output_type": "execute_result"
    }
   ],
   "source": [
    "pd.Series([1,2,3], index=['a', 'b', 'c'])[0:2]"
   ]
  },
  {
   "cell_type": "markdown",
   "metadata": {},
   "source": [
    "As the series is indexed, it also behaves like a dictionary"
   ]
  },
  {
   "cell_type": "code",
   "execution_count": 5,
   "metadata": {},
   "outputs": [
    {
     "data": {
      "text/plain": [
       "2"
      ]
     },
     "execution_count": 5,
     "metadata": {},
     "output_type": "execute_result"
    }
   ],
   "source": [
    "pd.Series([1,2,3], index=['a', 'b', 'c'])['b']\n",
    "pd.Series([1,2,3], index=['a', 'b', 'c']).get('d', np.NaN)\n",
    "pd.Series([1,2,3], index=['a', 'b', 'c']).get('b')"
   ]
  },
  {
   "cell_type": "markdown",
   "metadata": {},
   "source": [
    "#### 1.2.2 Basic Operations\n",
    "Basic operations can be done in series without the need of iterating through each element. This operations allow both for using scalars as well as another series.\n",
    "* Additions of a series with an scalar or another series\n",
    "* Multiplication of a series with an scalar or another series"
   ]
  },
  {
   "cell_type": "code",
   "execution_count": 6,
   "metadata": {},
   "outputs": [
    {
     "data": {
      "text/plain": [
       "a    2.0\n",
       "b    4.0\n",
       "c    6.0\n",
       "d    NaN\n",
       "dtype: float64"
      ]
     },
     "execution_count": 6,
     "metadata": {},
     "output_type": "execute_result"
    }
   ],
   "source": [
    "# Additions\n",
    "pd.Series([1,2,3], index=['a', 'b', 'c']) + pd.Series([1,2,3,5], index=['a', 'b', 'c', 'd'])"
   ]
  },
  {
   "cell_type": "code",
   "execution_count": 7,
   "metadata": {},
   "outputs": [
    {
     "data": {
      "text/plain": [
       "a    1\n",
       "b    4\n",
       "c    9\n",
       "dtype: int64"
      ]
     },
     "execution_count": 7,
     "metadata": {},
     "output_type": "execute_result"
    }
   ],
   "source": [
    "# Multiplication \n",
    "pd.Series([1,2,3], index=['a', 'b', 'c']) * pd.Series([1,2,3], index=['a', 'b', 'c'])"
   ]
  },
  {
   "cell_type": "markdown",
   "metadata": {},
   "source": [
    "### 1.3 Pandas DataFrame\n",
    "DataFrame is a 2-dimensional labeled data structure with columns of potentially different types. You can think of it like a spreadsheet or SQL table, or a dict of Series objects. It is generally the most commonly used pandas object. Like Series, \n",
    "\n",
    "DataFrame accepts many different kinds of input:\n",
    "\n",
    "- Dict of 1D ndarrays, lists, dicts, or Series\n",
    "- 2-D numpy.ndarray\n",
    "- Structured or record ndarray\n",
    "- A Series\n",
    "- Another DataFrame\n",
    "Along with the data, you can optionally pass index (row labels) and columns (column labels) arguments. If you pass an index and / or columns, you are guaranteeing the index and / or columns of the resulting DataFrame. Thus, a dict of Series plus a specific index will discard all data not matching up to the passed index.\n",
    "\n",
    "[DataFrame Documentation][1]\n",
    "\n",
    "[1]:<https://pandas.pydata.org/pandas-docs/stable/reference/api/pandas.DataFrame.html> \"Pandas DataFrame\"\n"
   ]
  },
  {
   "cell_type": "code",
   "execution_count": 8,
   "metadata": {},
   "outputs": [
    {
     "data": {
      "text/html": [
       "<div>\n",
       "<style scoped>\n",
       "    .dataframe tbody tr th:only-of-type {\n",
       "        vertical-align: middle;\n",
       "    }\n",
       "\n",
       "    .dataframe tbody tr th {\n",
       "        vertical-align: top;\n",
       "    }\n",
       "\n",
       "    .dataframe thead th {\n",
       "        text-align: right;\n",
       "    }\n",
       "</style>\n",
       "<table border=\"1\" class=\"dataframe\">\n",
       "  <thead>\n",
       "    <tr style=\"text-align: right;\">\n",
       "      <th></th>\n",
       "      <th>one</th>\n",
       "      <th>two</th>\n",
       "    </tr>\n",
       "  </thead>\n",
       "  <tbody>\n",
       "    <tr>\n",
       "      <th>a</th>\n",
       "      <td>1.0</td>\n",
       "      <td>1.0</td>\n",
       "    </tr>\n",
       "    <tr>\n",
       "      <th>b</th>\n",
       "      <td>2.0</td>\n",
       "      <td>2.0</td>\n",
       "    </tr>\n",
       "    <tr>\n",
       "      <th>c</th>\n",
       "      <td>3.0</td>\n",
       "      <td>3.0</td>\n",
       "    </tr>\n",
       "    <tr>\n",
       "      <th>d</th>\n",
       "      <td>NaN</td>\n",
       "      <td>4.0</td>\n",
       "    </tr>\n",
       "  </tbody>\n",
       "</table>\n",
       "</div>"
      ],
      "text/plain": [
       "   one  two\n",
       "a  1.0  1.0\n",
       "b  2.0  2.0\n",
       "c  3.0  3.0\n",
       "d  NaN  4.0"
      ]
     },
     "execution_count": 8,
     "metadata": {},
     "output_type": "execute_result"
    }
   ],
   "source": [
    "# Union of 2 dict of Series \n",
    "d = {\n",
    "    'one': pd.Series([1., 2., 3.], index=['a', 'b', 'c']),\n",
    "    'two': pd.Series([1., 2., 3., 4.], index=['a', 'b', 'c', 'd'])\n",
    "}\n",
    "pd.DataFrame(d)"
   ]
  },
  {
   "cell_type": "code",
   "execution_count": 9,
   "metadata": {},
   "outputs": [
    {
     "data": {
      "text/html": [
       "<div>\n",
       "<style scoped>\n",
       "    .dataframe tbody tr th:only-of-type {\n",
       "        vertical-align: middle;\n",
       "    }\n",
       "\n",
       "    .dataframe tbody tr th {\n",
       "        vertical-align: top;\n",
       "    }\n",
       "\n",
       "    .dataframe thead th {\n",
       "        text-align: right;\n",
       "    }\n",
       "</style>\n",
       "<table border=\"1\" class=\"dataframe\">\n",
       "  <thead>\n",
       "    <tr style=\"text-align: right;\">\n",
       "      <th></th>\n",
       "      <th>one</th>\n",
       "      <th>two</th>\n",
       "    </tr>\n",
       "  </thead>\n",
       "  <tbody>\n",
       "    <tr>\n",
       "      <th>a</th>\n",
       "      <td>1.0</td>\n",
       "      <td>1</td>\n",
       "    </tr>\n",
       "    <tr>\n",
       "      <th>b</th>\n",
       "      <td>2.0</td>\n",
       "      <td>NaN</td>\n",
       "    </tr>\n",
       "    <tr>\n",
       "      <th>c</th>\n",
       "      <td>NaN</td>\n",
       "      <td>d</td>\n",
       "    </tr>\n",
       "  </tbody>\n",
       "</table>\n",
       "</div>"
      ],
      "text/plain": [
       "   one  two\n",
       "a  1.0    1\n",
       "b  2.0  NaN\n",
       "c  NaN    d"
      ]
     },
     "execution_count": 9,
     "metadata": {},
     "output_type": "execute_result"
    }
   ],
   "source": [
    "# Union of 2 Dict of dicts\n",
    "d = {\n",
    "    'one': {'a':1, 'b':2}, \n",
    "    'two': {'a':1, 'c':'d'}\n",
    "}\n",
    "pd.DataFrame(d)"
   ]
  },
  {
   "cell_type": "markdown",
   "metadata": {},
   "source": [
    "## 2. Getting data\n",
    "Data can be obtained by using built-in functions such as:\n",
    "* `pd.read_csv()`\n",
    "* `pd_read_excel()`\n",
    "* `pd_read_sql`\n",
    "\n",
    "[IO documentation][1]  \n",
    "\n",
    "[1]: <https://pandas.pydata.org/pandas-docs/stable/reference/io.html>"
   ]
  },
  {
   "cell_type": "code",
   "execution_count": 10,
   "metadata": {},
   "outputs": [
    {
     "data": {
      "text/html": [
       "<div>\n",
       "<style scoped>\n",
       "    .dataframe tbody tr th:only-of-type {\n",
       "        vertical-align: middle;\n",
       "    }\n",
       "\n",
       "    .dataframe tbody tr th {\n",
       "        vertical-align: top;\n",
       "    }\n",
       "\n",
       "    .dataframe thead th {\n",
       "        text-align: right;\n",
       "    }\n",
       "</style>\n",
       "<table border=\"1\" class=\"dataframe\">\n",
       "  <thead>\n",
       "    <tr style=\"text-align: right;\">\n",
       "      <th></th>\n",
       "      <th>playerID</th>\n",
       "      <th>coachID</th>\n",
       "      <th>hofID</th>\n",
       "      <th>firstName</th>\n",
       "      <th>lastName</th>\n",
       "      <th>nameNote</th>\n",
       "      <th>nameGiven</th>\n",
       "      <th>nameNick</th>\n",
       "      <th>height</th>\n",
       "      <th>weight</th>\n",
       "      <th>...</th>\n",
       "      <th>birthDay</th>\n",
       "      <th>birthCountry</th>\n",
       "      <th>birthState</th>\n",
       "      <th>birthCity</th>\n",
       "      <th>deathYear</th>\n",
       "      <th>deathMon</th>\n",
       "      <th>deathDay</th>\n",
       "      <th>deathCountry</th>\n",
       "      <th>deathState</th>\n",
       "      <th>deathCity</th>\n",
       "    </tr>\n",
       "  </thead>\n",
       "  <tbody>\n",
       "    <tr>\n",
       "      <th>0</th>\n",
       "      <td>aaltoan01</td>\n",
       "      <td>NaN</td>\n",
       "      <td>NaN</td>\n",
       "      <td>Antti</td>\n",
       "      <td>Aalto</td>\n",
       "      <td>NaN</td>\n",
       "      <td>Antti</td>\n",
       "      <td>NaN</td>\n",
       "      <td>73.0</td>\n",
       "      <td>210.0</td>\n",
       "      <td>...</td>\n",
       "      <td>4.0</td>\n",
       "      <td>Finland</td>\n",
       "      <td>NaN</td>\n",
       "      <td>Lappeenranta</td>\n",
       "      <td>NaN</td>\n",
       "      <td>NaN</td>\n",
       "      <td>NaN</td>\n",
       "      <td>NaN</td>\n",
       "      <td>NaN</td>\n",
       "      <td>NaN</td>\n",
       "    </tr>\n",
       "    <tr>\n",
       "      <th>1</th>\n",
       "      <td>abbeybr01</td>\n",
       "      <td>NaN</td>\n",
       "      <td>NaN</td>\n",
       "      <td>Bruce</td>\n",
       "      <td>Abbey</td>\n",
       "      <td>NaN</td>\n",
       "      <td>Bruce</td>\n",
       "      <td>NaN</td>\n",
       "      <td>73.0</td>\n",
       "      <td>185.0</td>\n",
       "      <td>...</td>\n",
       "      <td>18.0</td>\n",
       "      <td>Canada</td>\n",
       "      <td>ON</td>\n",
       "      <td>Toronto</td>\n",
       "      <td>NaN</td>\n",
       "      <td>NaN</td>\n",
       "      <td>NaN</td>\n",
       "      <td>NaN</td>\n",
       "      <td>NaN</td>\n",
       "      <td>NaN</td>\n",
       "    </tr>\n",
       "  </tbody>\n",
       "</table>\n",
       "<p>2 rows × 31 columns</p>\n",
       "</div>"
      ],
      "text/plain": [
       "    playerID coachID hofID firstName lastName nameNote nameGiven nameNick  \\\n",
       "0  aaltoan01     NaN   NaN     Antti    Aalto      NaN     Antti      NaN   \n",
       "1  abbeybr01     NaN   NaN     Bruce    Abbey      NaN     Bruce      NaN   \n",
       "\n",
       "   height  weight  ... birthDay birthCountry  birthState     birthCity  \\\n",
       "0    73.0   210.0  ...      4.0      Finland         NaN  Lappeenranta   \n",
       "1    73.0   185.0  ...     18.0       Canada          ON       Toronto   \n",
       "\n",
       "   deathYear  deathMon  deathDay  deathCountry deathState  deathCity  \n",
       "0        NaN       NaN       NaN           NaN        NaN        NaN  \n",
       "1        NaN       NaN       NaN           NaN        NaN        NaN  \n",
       "\n",
       "[2 rows x 31 columns]"
      ]
     },
     "execution_count": 10,
     "metadata": {},
     "output_type": "execute_result"
    }
   ],
   "source": [
    "players_df = pd.read_csv('./data/Master.csv')\n",
    "# columns_to_use = ['id', 'title', 'artist', 'medium']\n",
    "'''\n",
    "df_sample_c =pd.read_csv(os.path.join('.', 'collection-master', 'artwork_data.csv'), \n",
    "    nrows=5, index_col='id', usecols=columns_to_use)\n",
    "'''\n",
    "players_df.head(2)"
   ]
  },
  {
   "cell_type": "markdown",
   "metadata": {},
   "source": [
    "## 3. Getting basic information\n",
    "### 3.1 Basic info dataframe\n",
    "* **Shape** gives the number of rows x columns in a tuple [Shape Documentation][1]\n",
    "* **Info** gives detailed info on each label [Info Documentation][2]  \n",
    "* **Describe** gives basic statistics on numeric columns, or all columns if `include='all' `  [Describe Documentation][3]\n",
    "* **nUnique** gives the number of unique records per column [nUnique Docs][4]\n",
    "\n",
    "[1]:<https://pandas.pydata.org/pandas-docs/stable/reference/api/pandas.DataFrame.shape.html> \"Shape Documentation\"\n",
    "[2]:<https://pandas.pydata.org/pandas-docs/stable/reference/api/pandas.DataFrame.info.html> \"Info Documentation\"\n",
    "[3]:<https://pandas.pydata.org/pandas-docs/stable/reference/api/pandas.DataFrame.describe.html> \"Describe Documentation\"\n",
    "[4]:<https://pandas.pydata.org/pandas-docs/stable/reference/api/pandas.DataFrame.nunique.html> \"N unique Documentation\""
   ]
  },
  {
   "cell_type": "code",
   "execution_count": 11,
   "metadata": {},
   "outputs": [
    {
     "data": {
      "text/plain": [
       "(7761, 31)"
      ]
     },
     "execution_count": 11,
     "metadata": {},
     "output_type": "execute_result"
    }
   ],
   "source": [
    "players_df.shape"
   ]
  },
  {
   "cell_type": "code",
   "execution_count": 12,
   "metadata": {},
   "outputs": [
    {
     "data": {
      "text/html": [
       "<div>\n",
       "<style scoped>\n",
       "    .dataframe tbody tr th:only-of-type {\n",
       "        vertical-align: middle;\n",
       "    }\n",
       "\n",
       "    .dataframe tbody tr th {\n",
       "        vertical-align: top;\n",
       "    }\n",
       "\n",
       "    .dataframe thead th {\n",
       "        text-align: right;\n",
       "    }\n",
       "</style>\n",
       "<table border=\"1\" class=\"dataframe\">\n",
       "  <thead>\n",
       "    <tr style=\"text-align: right;\">\n",
       "      <th></th>\n",
       "      <th>height</th>\n",
       "      <th>weight</th>\n",
       "      <th>ihdbID</th>\n",
       "      <th>firstNHL</th>\n",
       "      <th>lastNHL</th>\n",
       "      <th>firstWHA</th>\n",
       "      <th>lastWHA</th>\n",
       "      <th>birthYear</th>\n",
       "      <th>birthMon</th>\n",
       "      <th>birthDay</th>\n",
       "      <th>deathYear</th>\n",
       "      <th>deathMon</th>\n",
       "      <th>deathDay</th>\n",
       "    </tr>\n",
       "  </thead>\n",
       "  <tbody>\n",
       "    <tr>\n",
       "      <th>count</th>\n",
       "      <td>7334.000000</td>\n",
       "      <td>7336.000000</td>\n",
       "      <td>7125.000000</td>\n",
       "      <td>6851.000000</td>\n",
       "      <td>6851.000000</td>\n",
       "      <td>903.000000</td>\n",
       "      <td>903.000000</td>\n",
       "      <td>7543.000000</td>\n",
       "      <td>7506.000000</td>\n",
       "      <td>7504.000000</td>\n",
       "      <td>1320.000000</td>\n",
       "      <td>1173.000000</td>\n",
       "      <td>1168.000000</td>\n",
       "    </tr>\n",
       "    <tr>\n",
       "      <th>mean</th>\n",
       "      <td>71.904418</td>\n",
       "      <td>189.503953</td>\n",
       "      <td>18159.395930</td>\n",
       "      <td>1979.898555</td>\n",
       "      <td>1985.173551</td>\n",
       "      <td>1974.256921</td>\n",
       "      <td>1975.746401</td>\n",
       "      <td>1955.170091</td>\n",
       "      <td>6.056088</td>\n",
       "      <td>15.605144</td>\n",
       "      <td>2547.587121</td>\n",
       "      <td>6.670929</td>\n",
       "      <td>15.244863</td>\n",
       "    </tr>\n",
       "    <tr>\n",
       "      <th>std</th>\n",
       "      <td>2.328650</td>\n",
       "      <td>18.341611</td>\n",
       "      <td>22852.778006</td>\n",
       "      <td>24.150092</td>\n",
       "      <td>24.359206</td>\n",
       "      <td>2.123774</td>\n",
       "      <td>1.947460</td>\n",
       "      <td>26.379075</td>\n",
       "      <td>3.434267</td>\n",
       "      <td>8.917103</td>\n",
       "      <td>2052.311223</td>\n",
       "      <td>3.484605</td>\n",
       "      <td>8.601029</td>\n",
       "    </tr>\n",
       "    <tr>\n",
       "      <th>min</th>\n",
       "      <td>63.000000</td>\n",
       "      <td>125.000000</td>\n",
       "      <td>45.000000</td>\n",
       "      <td>1917.000000</td>\n",
       "      <td>1917.000000</td>\n",
       "      <td>1972.000000</td>\n",
       "      <td>1972.000000</td>\n",
       "      <td>1841.000000</td>\n",
       "      <td>1.000000</td>\n",
       "      <td>1.000000</td>\n",
       "      <td>1907.000000</td>\n",
       "      <td>1.000000</td>\n",
       "      <td>1.000000</td>\n",
       "    </tr>\n",
       "    <tr>\n",
       "      <th>25%</th>\n",
       "      <td>70.000000</td>\n",
       "      <td>178.000000</td>\n",
       "      <td>3339.000000</td>\n",
       "      <td>1968.000000</td>\n",
       "      <td>1974.000000</td>\n",
       "      <td>1972.000000</td>\n",
       "      <td>1974.000000</td>\n",
       "      <td>1943.000000</td>\n",
       "      <td>3.000000</td>\n",
       "      <td>8.000000</td>\n",
       "      <td>1970.000000</td>\n",
       "      <td>4.000000</td>\n",
       "      <td>8.000000</td>\n",
       "    </tr>\n",
       "    <tr>\n",
       "      <th>50%</th>\n",
       "      <td>72.000000</td>\n",
       "      <td>190.000000</td>\n",
       "      <td>7500.000000</td>\n",
       "      <td>1985.000000</td>\n",
       "      <td>1991.000000</td>\n",
       "      <td>1974.000000</td>\n",
       "      <td>1976.000000</td>\n",
       "      <td>1961.000000</td>\n",
       "      <td>6.000000</td>\n",
       "      <td>15.000000</td>\n",
       "      <td>1989.000000</td>\n",
       "      <td>7.000000</td>\n",
       "      <td>15.000000</td>\n",
       "    </tr>\n",
       "    <tr>\n",
       "      <th>75%</th>\n",
       "      <td>73.000000</td>\n",
       "      <td>200.000000</td>\n",
       "      <td>23463.000000</td>\n",
       "      <td>1999.000000</td>\n",
       "      <td>2006.000000</td>\n",
       "      <td>1976.000000</td>\n",
       "      <td>1978.000000</td>\n",
       "      <td>1975.000000</td>\n",
       "      <td>9.000000</td>\n",
       "      <td>23.000000</td>\n",
       "      <td>2002.000000</td>\n",
       "      <td>10.000000</td>\n",
       "      <td>23.000000</td>\n",
       "    </tr>\n",
       "    <tr>\n",
       "      <th>max</th>\n",
       "      <td>81.000000</td>\n",
       "      <td>265.000000</td>\n",
       "      <td>118280.000000</td>\n",
       "      <td>2011.000000</td>\n",
       "      <td>2011.000000</td>\n",
       "      <td>1978.000000</td>\n",
       "      <td>1978.000000</td>\n",
       "      <td>1993.000000</td>\n",
       "      <td>12.000000</td>\n",
       "      <td>31.000000</td>\n",
       "      <td>9999.000000</td>\n",
       "      <td>12.000000</td>\n",
       "      <td>31.000000</td>\n",
       "    </tr>\n",
       "  </tbody>\n",
       "</table>\n",
       "</div>"
      ],
      "text/plain": [
       "            height       weight         ihdbID     firstNHL      lastNHL  \\\n",
       "count  7334.000000  7336.000000    7125.000000  6851.000000  6851.000000   \n",
       "mean     71.904418   189.503953   18159.395930  1979.898555  1985.173551   \n",
       "std       2.328650    18.341611   22852.778006    24.150092    24.359206   \n",
       "min      63.000000   125.000000      45.000000  1917.000000  1917.000000   \n",
       "25%      70.000000   178.000000    3339.000000  1968.000000  1974.000000   \n",
       "50%      72.000000   190.000000    7500.000000  1985.000000  1991.000000   \n",
       "75%      73.000000   200.000000   23463.000000  1999.000000  2006.000000   \n",
       "max      81.000000   265.000000  118280.000000  2011.000000  2011.000000   \n",
       "\n",
       "          firstWHA      lastWHA    birthYear     birthMon     birthDay  \\\n",
       "count   903.000000   903.000000  7543.000000  7506.000000  7504.000000   \n",
       "mean   1974.256921  1975.746401  1955.170091     6.056088    15.605144   \n",
       "std       2.123774     1.947460    26.379075     3.434267     8.917103   \n",
       "min    1972.000000  1972.000000  1841.000000     1.000000     1.000000   \n",
       "25%    1972.000000  1974.000000  1943.000000     3.000000     8.000000   \n",
       "50%    1974.000000  1976.000000  1961.000000     6.000000    15.000000   \n",
       "75%    1976.000000  1978.000000  1975.000000     9.000000    23.000000   \n",
       "max    1978.000000  1978.000000  1993.000000    12.000000    31.000000   \n",
       "\n",
       "         deathYear     deathMon     deathDay  \n",
       "count  1320.000000  1173.000000  1168.000000  \n",
       "mean   2547.587121     6.670929    15.244863  \n",
       "std    2052.311223     3.484605     8.601029  \n",
       "min    1907.000000     1.000000     1.000000  \n",
       "25%    1970.000000     4.000000     8.000000  \n",
       "50%    1989.000000     7.000000    15.000000  \n",
       "75%    2002.000000    10.000000    23.000000  \n",
       "max    9999.000000    12.000000    31.000000  "
      ]
     },
     "execution_count": 12,
     "metadata": {},
     "output_type": "execute_result"
    }
   ],
   "source": [
    "players_df.describe()"
   ]
  },
  {
   "cell_type": "code",
   "execution_count": 13,
   "metadata": {},
   "outputs": [
    {
     "data": {
      "text/plain": [
       "playerID     7520\n",
       "coachID       395\n",
       "hofID         366\n",
       "firstName    1241\n",
       "lastName     5075\n",
       "dtype: int64"
      ]
     },
     "execution_count": 13,
     "metadata": {},
     "output_type": "execute_result"
    }
   ],
   "source": [
    "players_df.nunique().head()"
   ]
  },
  {
   "cell_type": "markdown",
   "metadata": {},
   "source": [
    "### 3.2 Get basic info on a label\n",
    "\n",
    "Obtain unique values per label\n",
    "* Get unique values\n",
    "* Count unique values\n",
    "* Get statistics on a numeric column use `describe` on that column\n",
    "* Get statistics values of other cols grouped by that column"
   ]
  },
  {
   "cell_type": "code",
   "execution_count": 14,
   "metadata": {},
   "outputs": [
    {
     "data": {
      "text/plain": [
       "19"
      ]
     },
     "execution_count": 14,
     "metadata": {},
     "output_type": "execute_result"
    }
   ],
   "source": [
    "len(players_df['pos'].unique())\t"
   ]
  },
  {
   "cell_type": "markdown",
   "metadata": {},
   "source": [
    "Count of unique per column (alternative to `nunique`)"
   ]
  },
  {
   "cell_type": "code",
   "execution_count": 15,
   "metadata": {},
   "outputs": [
    {
     "data": {
      "text/plain": [
       "pos\n",
       "C      1605\n",
       "C/D       3\n",
       "C/L       2\n",
       "C/R       2\n",
       "D      2218\n",
       "D/C       1\n",
       "D/L       2\n",
       "D/R       1\n",
       "F        43\n",
       "G       761\n",
       "L      1450\n",
       "L/C       2\n",
       "L/D       1\n",
       "R      1348\n",
       "R/C       5\n",
       "R/D       1\n",
       "R/L       1\n",
       "W         1\n",
       "dtype: int64"
      ]
     },
     "execution_count": 15,
     "metadata": {},
     "output_type": "execute_result"
    }
   ],
   "source": [
    "players_df.groupby('pos').size()"
   ]
  },
  {
   "cell_type": "code",
   "execution_count": 16,
   "metadata": {},
   "outputs": [
    {
     "data": {
      "text/plain": [
       "count    7334.000000\n",
       "mean       71.904418\n",
       "std         2.328650\n",
       "min        63.000000\n",
       "25%        70.000000\n",
       "50%        72.000000\n",
       "75%        73.000000\n",
       "max        81.000000\n",
       "Name: height, dtype: float64"
      ]
     },
     "execution_count": 16,
     "metadata": {},
     "output_type": "execute_result"
    }
   ],
   "source": [
    "players_df['height'].describe()"
   ]
  },
  {
   "cell_type": "markdown",
   "metadata": {},
   "source": [
    "## 4. Indexing and Filtering\n",
    "### 4.1 Drop Records\n",
    "#### 4.1.1 Based on a condition\n",
    "\n",
    "* Using boolean condition either with [], or loc filtering"
   ]
  },
  {
   "cell_type": "code",
   "execution_count": 37,
   "metadata": {},
   "outputs": [
    {
     "data": {
      "text/plain": [
       "(4627, 31)"
      ]
     },
     "execution_count": 37,
     "metadata": {},
     "output_type": "execute_result"
    }
   ],
   "source": [
    "players_df_trim_df = players_df.loc[players_df['lastNHL']>=1980]\n",
    "players_df_trim_df.shape"
   ]
  },
  {
   "cell_type": "code",
   "execution_count": 38,
   "metadata": {},
   "outputs": [
    {
     "data": {
      "text/html": [
       "<div>\n",
       "<style scoped>\n",
       "    .dataframe tbody tr th:only-of-type {\n",
       "        vertical-align: middle;\n",
       "    }\n",
       "\n",
       "    .dataframe tbody tr th {\n",
       "        vertical-align: top;\n",
       "    }\n",
       "\n",
       "    .dataframe thead th {\n",
       "        text-align: right;\n",
       "    }\n",
       "</style>\n",
       "<table border=\"1\" class=\"dataframe\">\n",
       "  <thead>\n",
       "    <tr style=\"text-align: right;\">\n",
       "      <th></th>\n",
       "      <th>playerID</th>\n",
       "      <th>coachID</th>\n",
       "      <th>hofID</th>\n",
       "      <th>firstName</th>\n",
       "      <th>lastName</th>\n",
       "      <th>nameNote</th>\n",
       "      <th>nameGiven</th>\n",
       "      <th>nameNick</th>\n",
       "      <th>height</th>\n",
       "      <th>weight</th>\n",
       "      <th>...</th>\n",
       "      <th>birthDay</th>\n",
       "      <th>birthCountry</th>\n",
       "      <th>birthState</th>\n",
       "      <th>birthCity</th>\n",
       "      <th>deathYear</th>\n",
       "      <th>deathMon</th>\n",
       "      <th>deathDay</th>\n",
       "      <th>deathCountry</th>\n",
       "      <th>deathState</th>\n",
       "      <th>deathCity</th>\n",
       "    </tr>\n",
       "  </thead>\n",
       "  <tbody>\n",
       "    <tr>\n",
       "      <th>0</th>\n",
       "      <td>aaltoan01</td>\n",
       "      <td>NaN</td>\n",
       "      <td>NaN</td>\n",
       "      <td>Antti</td>\n",
       "      <td>Aalto</td>\n",
       "      <td>NaN</td>\n",
       "      <td>Antti</td>\n",
       "      <td>NaN</td>\n",
       "      <td>73.0</td>\n",
       "      <td>210.0</td>\n",
       "      <td>...</td>\n",
       "      <td>4.0</td>\n",
       "      <td>Finland</td>\n",
       "      <td>NaN</td>\n",
       "      <td>Lappeenranta</td>\n",
       "      <td>NaN</td>\n",
       "      <td>NaN</td>\n",
       "      <td>NaN</td>\n",
       "      <td>NaN</td>\n",
       "      <td>NaN</td>\n",
       "      <td>NaN</td>\n",
       "    </tr>\n",
       "    <tr>\n",
       "      <th>37</th>\n",
       "      <td>afinoma01</td>\n",
       "      <td>NaN</td>\n",
       "      <td>NaN</td>\n",
       "      <td>Maxim</td>\n",
       "      <td>Afinogenov</td>\n",
       "      <td>NaN</td>\n",
       "      <td>Maxim Sergeyevich</td>\n",
       "      <td>NaN</td>\n",
       "      <td>72.0</td>\n",
       "      <td>191.0</td>\n",
       "      <td>...</td>\n",
       "      <td>4.0</td>\n",
       "      <td>Russia</td>\n",
       "      <td>NaN</td>\n",
       "      <td>Moscow</td>\n",
       "      <td>NaN</td>\n",
       "      <td>NaN</td>\n",
       "      <td>NaN</td>\n",
       "      <td>NaN</td>\n",
       "      <td>NaN</td>\n",
       "      <td>NaN</td>\n",
       "    </tr>\n",
       "    <tr>\n",
       "      <th>53</th>\n",
       "      <td>aivazmi01</td>\n",
       "      <td>NaN</td>\n",
       "      <td>NaN</td>\n",
       "      <td>Micah</td>\n",
       "      <td>Aivazoff</td>\n",
       "      <td>NaN</td>\n",
       "      <td>Micah</td>\n",
       "      <td>NaN</td>\n",
       "      <td>72.0</td>\n",
       "      <td>195.0</td>\n",
       "      <td>...</td>\n",
       "      <td>4.0</td>\n",
       "      <td>Canada</td>\n",
       "      <td>BC</td>\n",
       "      <td>Powell River</td>\n",
       "      <td>NaN</td>\n",
       "      <td>NaN</td>\n",
       "      <td>NaN</td>\n",
       "      <td>NaN</td>\n",
       "      <td>NaN</td>\n",
       "      <td>NaN</td>\n",
       "    </tr>\n",
       "    <tr>\n",
       "      <th>79</th>\n",
       "      <td>allisra01</td>\n",
       "      <td>NaN</td>\n",
       "      <td>NaN</td>\n",
       "      <td>Ray</td>\n",
       "      <td>Allison</td>\n",
       "      <td>NaN</td>\n",
       "      <td>Raymond Peter</td>\n",
       "      <td>NaN</td>\n",
       "      <td>70.0</td>\n",
       "      <td>195.0</td>\n",
       "      <td>...</td>\n",
       "      <td>4.0</td>\n",
       "      <td>Canada</td>\n",
       "      <td>BC</td>\n",
       "      <td>Cranbrook</td>\n",
       "      <td>NaN</td>\n",
       "      <td>NaN</td>\n",
       "      <td>NaN</td>\n",
       "      <td>NaN</td>\n",
       "      <td>NaN</td>\n",
       "      <td>NaN</td>\n",
       "    </tr>\n",
       "    <tr>\n",
       "      <th>164</th>\n",
       "      <td>artyuev01</td>\n",
       "      <td>NaN</td>\n",
       "      <td>NaN</td>\n",
       "      <td>Evgeny</td>\n",
       "      <td>Artyukhin</td>\n",
       "      <td>NaN</td>\n",
       "      <td>NaN</td>\n",
       "      <td>NaN</td>\n",
       "      <td>77.0</td>\n",
       "      <td>254.0</td>\n",
       "      <td>...</td>\n",
       "      <td>4.0</td>\n",
       "      <td>Russia</td>\n",
       "      <td>NaN</td>\n",
       "      <td>Moscow</td>\n",
       "      <td>NaN</td>\n",
       "      <td>NaN</td>\n",
       "      <td>NaN</td>\n",
       "      <td>NaN</td>\n",
       "      <td>NaN</td>\n",
       "      <td>NaN</td>\n",
       "    </tr>\n",
       "  </tbody>\n",
       "</table>\n",
       "<p>5 rows × 31 columns</p>\n",
       "</div>"
      ],
      "text/plain": [
       "      playerID coachID hofID firstName    lastName nameNote  \\\n",
       "0    aaltoan01     NaN   NaN     Antti       Aalto      NaN   \n",
       "37   afinoma01     NaN   NaN     Maxim  Afinogenov      NaN   \n",
       "53   aivazmi01     NaN   NaN     Micah    Aivazoff      NaN   \n",
       "79   allisra01     NaN   NaN       Ray     Allison      NaN   \n",
       "164  artyuev01     NaN   NaN    Evgeny   Artyukhin      NaN   \n",
       "\n",
       "             nameGiven nameNick  height  weight  ... birthDay birthCountry  \\\n",
       "0                Antti      NaN    73.0   210.0  ...      4.0      Finland   \n",
       "37   Maxim Sergeyevich      NaN    72.0   191.0  ...      4.0       Russia   \n",
       "53               Micah      NaN    72.0   195.0  ...      4.0       Canada   \n",
       "79       Raymond Peter      NaN    70.0   195.0  ...      4.0       Canada   \n",
       "164                NaN      NaN    77.0   254.0  ...      4.0       Russia   \n",
       "\n",
       "     birthState     birthCity  deathYear  deathMon  deathDay  deathCountry  \\\n",
       "0           NaN  Lappeenranta        NaN       NaN       NaN           NaN   \n",
       "37          NaN        Moscow        NaN       NaN       NaN           NaN   \n",
       "53           BC  Powell River        NaN       NaN       NaN           NaN   \n",
       "79           BC     Cranbrook        NaN       NaN       NaN           NaN   \n",
       "164         NaN        Moscow        NaN       NaN       NaN           NaN   \n",
       "\n",
       "    deathState  deathCity  \n",
       "0          NaN        NaN  \n",
       "37         NaN        NaN  \n",
       "53         NaN        NaN  \n",
       "79         NaN        NaN  \n",
       "164        NaN        NaN  \n",
       "\n",
       "[5 rows x 31 columns]"
      ]
     },
     "execution_count": 38,
     "metadata": {},
     "output_type": "execute_result"
    }
   ],
   "source": [
    "players_df_trim_df[players_df_trim_df['birthDay']==4].head()"
   ]
  },
  {
   "cell_type": "code",
   "execution_count": 39,
   "metadata": {},
   "outputs": [
    {
     "data": {
      "text/plain": [
       "(4627, 31)"
      ]
     },
     "execution_count": 39,
     "metadata": {},
     "output_type": "execute_result"
    }
   ],
   "source": [
    "players_df_trim_df = players_df.loc[players_df['lastNHL']>=1980]\n",
    "players_df_trim_df.shape"
   ]
  },
  {
   "cell_type": "markdown",
   "metadata": {},
   "source": [
    "#### 4.1.2 DropNA"
   ]
  },
  {
   "cell_type": "code",
   "execution_count": 40,
   "metadata": {},
   "outputs": [
    {
     "data": {
      "text/plain": [
       "(4627, 31)"
      ]
     },
     "execution_count": 40,
     "metadata": {},
     "output_type": "execute_result"
    }
   ],
   "source": [
    "# records\n",
    "orig_players_df = players_df_trim_df.copy()\n",
    "players_df_trim_df = players_df_trim_df.dropna(subset=['playerID'])\n",
    "players_df_trim_df.shape"
   ]
  },
  {
   "cell_type": "code",
   "execution_count": 41,
   "metadata": {},
   "outputs": [
    {
     "data": {
      "text/plain": [
       "(6851, 31)"
      ]
     },
     "execution_count": 41,
     "metadata": {},
     "output_type": "execute_result"
    }
   ],
   "source": [
    "# how determines only removing those where both are NA\n",
    "players_df = players_df.dropna(subset=['firstNHL', 'lastNHL'], how='all')\n",
    "players_df.shape"
   ]
  },
  {
   "cell_type": "markdown",
   "metadata": {},
   "source": [
    "### 4.3 Drop columns\n",
    "There are multiple ways to drop columns:\n",
    "* By selecting the columns to drop with the [Drop](https://pandas.pydata.org/pandas-docs/stable/reference/api/pandas.DataFrame.drop.html) function\n",
    "* By filtering the columns to retain:\n",
    "    * Using simple selection syntax, `df = df[[columns_to_keep]]` or `df=df.loc[:, [columns_to_keep]]`\n",
    "    * use [filter](https://pandas.pydata.org/pandas-docs/stable/reference/api/pandas.DataFrame.filter.html) "
   ]
  },
  {
   "cell_type": "code",
   "execution_count": 42,
   "metadata": {},
   "outputs": [],
   "source": [
    "players_df.drop(columns='birthDay', axis=1, inplace=True, errors='ignore')"
   ]
  },
  {
   "cell_type": "markdown",
   "metadata": {},
   "source": [
    "### 4.4 Record Selection\n",
    "#### 4.4.1 Iloc\n",
    "Integer location `iloc` allows to query by row number. [Iloc Documentation][1]\n",
    "\n",
    "[1]:<https://pandas.pydata.org/pandas-docs/stable/reference/api/pandas.DataFrame.iloc.html>  \"Iloc Documentation\""
   ]
  },
  {
   "cell_type": "code",
   "execution_count": 43,
   "metadata": {},
   "outputs": [
    {
     "data": {
      "text/html": [
       "<div>\n",
       "<style scoped>\n",
       "    .dataframe tbody tr th:only-of-type {\n",
       "        vertical-align: middle;\n",
       "    }\n",
       "\n",
       "    .dataframe tbody tr th {\n",
       "        vertical-align: top;\n",
       "    }\n",
       "\n",
       "    .dataframe thead th {\n",
       "        text-align: right;\n",
       "    }\n",
       "</style>\n",
       "<table border=\"1\" class=\"dataframe\">\n",
       "  <thead>\n",
       "    <tr style=\"text-align: right;\">\n",
       "      <th></th>\n",
       "      <th>playerID</th>\n",
       "      <th>coachID</th>\n",
       "      <th>hofID</th>\n",
       "      <th>firstName</th>\n",
       "      <th>lastName</th>\n",
       "      <th>nameNote</th>\n",
       "      <th>nameGiven</th>\n",
       "      <th>nameNick</th>\n",
       "      <th>height</th>\n",
       "      <th>weight</th>\n",
       "      <th>...</th>\n",
       "      <th>birthDay</th>\n",
       "      <th>birthCountry</th>\n",
       "      <th>birthState</th>\n",
       "      <th>birthCity</th>\n",
       "      <th>deathYear</th>\n",
       "      <th>deathMon</th>\n",
       "      <th>deathDay</th>\n",
       "      <th>deathCountry</th>\n",
       "      <th>deathState</th>\n",
       "      <th>deathCity</th>\n",
       "    </tr>\n",
       "  </thead>\n",
       "  <tbody>\n",
       "    <tr>\n",
       "      <th>0</th>\n",
       "      <td>aaltoan01</td>\n",
       "      <td>NaN</td>\n",
       "      <td>NaN</td>\n",
       "      <td>Antti</td>\n",
       "      <td>Aalto</td>\n",
       "      <td>NaN</td>\n",
       "      <td>Antti</td>\n",
       "      <td>NaN</td>\n",
       "      <td>73.0</td>\n",
       "      <td>210.0</td>\n",
       "      <td>...</td>\n",
       "      <td>4.0</td>\n",
       "      <td>Finland</td>\n",
       "      <td>NaN</td>\n",
       "      <td>Lappeenranta</td>\n",
       "      <td>NaN</td>\n",
       "      <td>NaN</td>\n",
       "      <td>NaN</td>\n",
       "      <td>NaN</td>\n",
       "      <td>NaN</td>\n",
       "      <td>NaN</td>\n",
       "    </tr>\n",
       "    <tr>\n",
       "      <th>4</th>\n",
       "      <td>abdelju01</td>\n",
       "      <td>NaN</td>\n",
       "      <td>NaN</td>\n",
       "      <td>Justin</td>\n",
       "      <td>Abdelkader</td>\n",
       "      <td>NaN</td>\n",
       "      <td>NaN</td>\n",
       "      <td>NaN</td>\n",
       "      <td>73.0</td>\n",
       "      <td>195.0</td>\n",
       "      <td>...</td>\n",
       "      <td>25.0</td>\n",
       "      <td>USA</td>\n",
       "      <td>MI</td>\n",
       "      <td>Muskegon</td>\n",
       "      <td>NaN</td>\n",
       "      <td>NaN</td>\n",
       "      <td>NaN</td>\n",
       "      <td>NaN</td>\n",
       "      <td>NaN</td>\n",
       "      <td>NaN</td>\n",
       "    </tr>\n",
       "    <tr>\n",
       "      <th>9</th>\n",
       "      <td>abidra01</td>\n",
       "      <td>NaN</td>\n",
       "      <td>NaN</td>\n",
       "      <td>Ramzi</td>\n",
       "      <td>Abid</td>\n",
       "      <td>NaN</td>\n",
       "      <td>NaN</td>\n",
       "      <td>NaN</td>\n",
       "      <td>74.0</td>\n",
       "      <td>210.0</td>\n",
       "      <td>...</td>\n",
       "      <td>24.0</td>\n",
       "      <td>Canada</td>\n",
       "      <td>QC</td>\n",
       "      <td>Montreal</td>\n",
       "      <td>NaN</td>\n",
       "      <td>NaN</td>\n",
       "      <td>NaN</td>\n",
       "      <td>NaN</td>\n",
       "      <td>NaN</td>\n",
       "      <td>NaN</td>\n",
       "    </tr>\n",
       "  </tbody>\n",
       "</table>\n",
       "<p>3 rows × 31 columns</p>\n",
       "</div>"
      ],
      "text/plain": [
       "    playerID coachID hofID firstName    lastName nameNote nameGiven nameNick  \\\n",
       "0  aaltoan01     NaN   NaN     Antti       Aalto      NaN     Antti      NaN   \n",
       "4  abdelju01     NaN   NaN    Justin  Abdelkader      NaN       NaN      NaN   \n",
       "9   abidra01     NaN   NaN     Ramzi        Abid      NaN       NaN      NaN   \n",
       "\n",
       "   height  weight  ... birthDay birthCountry  birthState     birthCity  \\\n",
       "0    73.0   210.0  ...      4.0      Finland         NaN  Lappeenranta   \n",
       "4    73.0   195.0  ...     25.0          USA          MI      Muskegon   \n",
       "9    74.0   210.0  ...     24.0       Canada          QC      Montreal   \n",
       "\n",
       "   deathYear  deathMon  deathDay  deathCountry deathState  deathCity  \n",
       "0        NaN       NaN       NaN           NaN        NaN        NaN  \n",
       "4        NaN       NaN       NaN           NaN        NaN        NaN  \n",
       "9        NaN       NaN       NaN           NaN        NaN        NaN  \n",
       "\n",
       "[3 rows x 31 columns]"
      ]
     },
     "execution_count": 43,
     "metadata": {},
     "output_type": "execute_result"
    }
   ],
   "source": [
    "players_df_trim_df.iloc[0:3]"
   ]
  },
  {
   "cell_type": "markdown",
   "metadata": {},
   "source": [
    "or using a boolean array (`df.values` returns array)"
   ]
  },
  {
   "cell_type": "code",
   "execution_count": 44,
   "metadata": {},
   "outputs": [
    {
     "data": {
      "text/html": [
       "<div>\n",
       "<style scoped>\n",
       "    .dataframe tbody tr th:only-of-type {\n",
       "        vertical-align: middle;\n",
       "    }\n",
       "\n",
       "    .dataframe tbody tr th {\n",
       "        vertical-align: top;\n",
       "    }\n",
       "\n",
       "    .dataframe thead th {\n",
       "        text-align: right;\n",
       "    }\n",
       "</style>\n",
       "<table border=\"1\" class=\"dataframe\">\n",
       "  <thead>\n",
       "    <tr style=\"text-align: right;\">\n",
       "      <th></th>\n",
       "      <th>playerID</th>\n",
       "      <th>coachID</th>\n",
       "      <th>hofID</th>\n",
       "      <th>firstName</th>\n",
       "      <th>lastName</th>\n",
       "      <th>nameNote</th>\n",
       "      <th>nameGiven</th>\n",
       "      <th>nameNick</th>\n",
       "      <th>height</th>\n",
       "      <th>weight</th>\n",
       "      <th>...</th>\n",
       "      <th>birthDay</th>\n",
       "      <th>birthCountry</th>\n",
       "      <th>birthState</th>\n",
       "      <th>birthCity</th>\n",
       "      <th>deathYear</th>\n",
       "      <th>deathMon</th>\n",
       "      <th>deathDay</th>\n",
       "      <th>deathCountry</th>\n",
       "      <th>deathState</th>\n",
       "      <th>deathCity</th>\n",
       "    </tr>\n",
       "  </thead>\n",
       "  <tbody>\n",
       "    <tr>\n",
       "      <th>174</th>\n",
       "      <td>ashtoca01</td>\n",
       "      <td>NaN</td>\n",
       "      <td>NaN</td>\n",
       "      <td>Carter</td>\n",
       "      <td>Ashton</td>\n",
       "      <td>NaN</td>\n",
       "      <td>NaN</td>\n",
       "      <td>NaN</td>\n",
       "      <td>75.0</td>\n",
       "      <td>215.0</td>\n",
       "      <td>...</td>\n",
       "      <td>1.0</td>\n",
       "      <td>NaN</td>\n",
       "      <td>NaN</td>\n",
       "      <td>NaN</td>\n",
       "      <td>NaN</td>\n",
       "      <td>NaN</td>\n",
       "      <td>NaN</td>\n",
       "      <td>NaN</td>\n",
       "      <td>NaN</td>\n",
       "      <td>NaN</td>\n",
       "    </tr>\n",
       "    <tr>\n",
       "      <th>234</th>\n",
       "      <td>baertsv01</td>\n",
       "      <td>NaN</td>\n",
       "      <td>NaN</td>\n",
       "      <td>Sven</td>\n",
       "      <td>Baertschi</td>\n",
       "      <td>NaN</td>\n",
       "      <td>NaN</td>\n",
       "      <td>NaN</td>\n",
       "      <td>70.0</td>\n",
       "      <td>181.0</td>\n",
       "      <td>...</td>\n",
       "      <td>5.0</td>\n",
       "      <td>NaN</td>\n",
       "      <td>NaN</td>\n",
       "      <td>NaN</td>\n",
       "      <td>NaN</td>\n",
       "      <td>NaN</td>\n",
       "      <td>NaN</td>\n",
       "      <td>NaN</td>\n",
       "      <td>NaN</td>\n",
       "      <td>NaN</td>\n",
       "    </tr>\n",
       "    <tr>\n",
       "      <th>305</th>\n",
       "      <td>barrity01</td>\n",
       "      <td>NaN</td>\n",
       "      <td>NaN</td>\n",
       "      <td>Tyson</td>\n",
       "      <td>Barrie</td>\n",
       "      <td>NaN</td>\n",
       "      <td>NaN</td>\n",
       "      <td>NaN</td>\n",
       "      <td>70.0</td>\n",
       "      <td>190.0</td>\n",
       "      <td>...</td>\n",
       "      <td>26.0</td>\n",
       "      <td>NaN</td>\n",
       "      <td>NaN</td>\n",
       "      <td>NaN</td>\n",
       "      <td>NaN</td>\n",
       "      <td>NaN</td>\n",
       "      <td>NaN</td>\n",
       "      <td>NaN</td>\n",
       "      <td>NaN</td>\n",
       "      <td>NaN</td>\n",
       "    </tr>\n",
       "    <tr>\n",
       "      <th>885</th>\n",
       "      <td>bulmebr01</td>\n",
       "      <td>NaN</td>\n",
       "      <td>NaN</td>\n",
       "      <td>Brett</td>\n",
       "      <td>Bulmer</td>\n",
       "      <td>NaN</td>\n",
       "      <td>NaN</td>\n",
       "      <td>NaN</td>\n",
       "      <td>75.0</td>\n",
       "      <td>185.0</td>\n",
       "      <td>...</td>\n",
       "      <td>26.0</td>\n",
       "      <td>NaN</td>\n",
       "      <td>NaN</td>\n",
       "      <td>NaN</td>\n",
       "      <td>NaN</td>\n",
       "      <td>NaN</td>\n",
       "      <td>NaN</td>\n",
       "      <td>NaN</td>\n",
       "      <td>NaN</td>\n",
       "      <td>NaN</td>\n",
       "    </tr>\n",
       "    <tr>\n",
       "      <th>900</th>\n",
       "      <td>burmial01</td>\n",
       "      <td>NaN</td>\n",
       "      <td>NaN</td>\n",
       "      <td>Alexander</td>\n",
       "      <td>Burmistrov</td>\n",
       "      <td>NaN</td>\n",
       "      <td>NaN</td>\n",
       "      <td>NaN</td>\n",
       "      <td>71.0</td>\n",
       "      <td>170.0</td>\n",
       "      <td>...</td>\n",
       "      <td>21.0</td>\n",
       "      <td>Russia</td>\n",
       "      <td>NaN</td>\n",
       "      <td>Kazan</td>\n",
       "      <td>NaN</td>\n",
       "      <td>NaN</td>\n",
       "      <td>NaN</td>\n",
       "      <td>NaN</td>\n",
       "      <td>NaN</td>\n",
       "      <td>NaN</td>\n",
       "    </tr>\n",
       "  </tbody>\n",
       "</table>\n",
       "<p>5 rows × 31 columns</p>\n",
       "</div>"
      ],
      "text/plain": [
       "      playerID coachID hofID  firstName    lastName nameNote nameGiven  \\\n",
       "174  ashtoca01     NaN   NaN     Carter      Ashton      NaN       NaN   \n",
       "234  baertsv01     NaN   NaN       Sven   Baertschi      NaN       NaN   \n",
       "305  barrity01     NaN   NaN      Tyson      Barrie      NaN       NaN   \n",
       "885  bulmebr01     NaN   NaN      Brett      Bulmer      NaN       NaN   \n",
       "900  burmial01     NaN   NaN  Alexander  Burmistrov      NaN       NaN   \n",
       "\n",
       "    nameNick  height  weight  ... birthDay birthCountry  birthState birthCity  \\\n",
       "174      NaN    75.0   215.0  ...      1.0          NaN         NaN       NaN   \n",
       "234      NaN    70.0   181.0  ...      5.0          NaN         NaN       NaN   \n",
       "305      NaN    70.0   190.0  ...     26.0          NaN         NaN       NaN   \n",
       "885      NaN    75.0   185.0  ...     26.0          NaN         NaN       NaN   \n",
       "900      NaN    71.0   170.0  ...     21.0       Russia         NaN     Kazan   \n",
       "\n",
       "     deathYear  deathMon  deathDay  deathCountry deathState  deathCity  \n",
       "174        NaN       NaN       NaN           NaN        NaN        NaN  \n",
       "234        NaN       NaN       NaN           NaN        NaN        NaN  \n",
       "305        NaN       NaN       NaN           NaN        NaN        NaN  \n",
       "885        NaN       NaN       NaN           NaN        NaN        NaN  \n",
       "900        NaN       NaN       NaN           NaN        NaN        NaN  \n",
       "\n",
       "[5 rows x 31 columns]"
      ]
     },
     "execution_count": 44,
     "metadata": {},
     "output_type": "execute_result"
    }
   ],
   "source": [
    "players_df_trim_df.iloc[(players_df_trim_df['birthYear']>1990).values].head()"
   ]
  },
  {
   "cell_type": "markdown",
   "metadata": {},
   "source": [
    "#### LOC\n",
    "location is used to:\n",
    "* filter by the index\n",
    "* or using a boolean array... the later can be used to get reduce the df"
   ]
  },
  {
   "cell_type": "code",
   "execution_count": 45,
   "metadata": {},
   "outputs": [
    {
     "data": {
      "text/plain": [
       "playerID        charazd01\n",
       "coachID               NaN\n",
       "hofID                 NaN\n",
       "firstName           Zdeno\n",
       "lastName            Chara\n",
       "nameNote              NaN\n",
       "nameGiven           Zdeno\n",
       "nameNick            Big Z\n",
       "height                 81\n",
       "weight                255\n",
       "shootCatch              L\n",
       "legendsID           11560\n",
       "ihdbID              28487\n",
       "hrefID          charazd01\n",
       "firstNHL             1997\n",
       "lastNHL              2011\n",
       "firstWHA              NaN\n",
       "lastWHA               NaN\n",
       "pos                     D\n",
       "birthYear            1977\n",
       "birthMon                3\n",
       "birthDay               18\n",
       "birthCountry     Slovakia\n",
       "birthState            NaN\n",
       "birthCity         Trencin\n",
       "deathYear             NaN\n",
       "deathMon              NaN\n",
       "deathDay              NaN\n",
       "deathCountry          NaN\n",
       "deathState            NaN\n",
       "deathCity             NaN\n",
       "Name: 1106, dtype: object"
      ]
     },
     "execution_count": 45,
     "metadata": {},
     "output_type": "execute_result"
    }
   ],
   "source": [
    "players_df_trim_df.loc[1106]"
   ]
  },
  {
   "cell_type": "code",
   "execution_count": 46,
   "metadata": {},
   "outputs": [
    {
     "data": {
      "text/html": [
       "<div>\n",
       "<style scoped>\n",
       "    .dataframe tbody tr th:only-of-type {\n",
       "        vertical-align: middle;\n",
       "    }\n",
       "\n",
       "    .dataframe tbody tr th {\n",
       "        vertical-align: top;\n",
       "    }\n",
       "\n",
       "    .dataframe thead th {\n",
       "        text-align: right;\n",
       "    }\n",
       "</style>\n",
       "<table border=\"1\" class=\"dataframe\">\n",
       "  <thead>\n",
       "    <tr style=\"text-align: right;\">\n",
       "      <th></th>\n",
       "      <th>playerID</th>\n",
       "      <th>birthYear</th>\n",
       "    </tr>\n",
       "  </thead>\n",
       "  <tbody>\n",
       "    <tr>\n",
       "      <th>5234</th>\n",
       "      <td>nugenry01</td>\n",
       "      <td>1993.0</td>\n",
       "    </tr>\n",
       "    <tr>\n",
       "      <th>6280</th>\n",
       "      <td>scheima01</td>\n",
       "      <td>1993.0</td>\n",
       "    </tr>\n",
       "    <tr>\n",
       "      <th>7737</th>\n",
       "      <td>zibanmi01</td>\n",
       "      <td>1993.0</td>\n",
       "    </tr>\n",
       "  </tbody>\n",
       "</table>\n",
       "</div>"
      ],
      "text/plain": [
       "       playerID  birthYear\n",
       "5234  nugenry01     1993.0\n",
       "6280  scheima01     1993.0\n",
       "7737  zibanmi01     1993.0"
      ]
     },
     "execution_count": 46,
     "metadata": {},
     "output_type": "execute_result"
    }
   ],
   "source": [
    "players_df_trim_df.loc[(players_df['birthYear']>1992), ['playerID', 'birthYear']] "
   ]
  },
  {
   "cell_type": "code",
   "execution_count": 47,
   "metadata": {},
   "outputs": [
    {
     "data": {
      "text/plain": [
       "['playerID',\n",
       " 'firstName',\n",
       " 'lastName',\n",
       " 'pos',\n",
       " 'birthYear',\n",
       " 'birthMon',\n",
       " 'birthDay',\n",
       " 'birthCountry',\n",
       " 'birthState',\n",
       " 'birthCity']"
      ]
     },
     "execution_count": 47,
     "metadata": {},
     "output_type": "execute_result"
    }
   ],
   "source": [
    "players_df_trim_df = players_df_trim_df.filter(regex='(playerID|pos|^birth)|(Name$)', axis=1)\n",
    "list(players_df_trim_df.columns)"
   ]
  },
  {
   "cell_type": "markdown",
   "metadata": {},
   "source": [
    "### Pipe\n",
    "Applies formula to df"
   ]
  },
  {
   "cell_type": "code",
   "execution_count": 48,
   "metadata": {},
   "outputs": [
    {
     "data": {
      "text/plain": [
       "False    4061\n",
       "True      566\n",
       "Name: birthYear, dtype: int64"
      ]
     },
     "execution_count": 48,
     "metadata": {},
     "output_type": "execute_result"
    }
   ],
   "source": [
    "players_df_trim_df['birthYear'].pipe(lambda a : a > 1985).value_counts()"
   ]
  },
  {
   "cell_type": "code",
   "execution_count": 49,
   "metadata": {},
   "outputs": [],
   "source": [
    "def mem_mib(df):\n",
    "    print('{0:,.2f} MiB'.format(df.memory_usage().sum()/1024**2))"
   ]
  },
  {
   "cell_type": "code",
   "execution_count": 50,
   "metadata": {},
   "outputs": [
    {
     "name": "stdout",
     "output_type": "stream",
     "text": [
      "1.93 MiB\n",
      "0.54 MiB\n"
     ]
    }
   ],
   "source": [
    "mem_mib(players_df)\n",
    "\n",
    "mem_mib(players_df_trim_df)"
   ]
  },
  {
   "cell_type": "markdown",
   "metadata": {},
   "source": [
    "## Categories"
   ]
  },
  {
   "cell_type": "code",
   "execution_count": 51,
   "metadata": {},
   "outputs": [],
   "source": [
    "players_df_trim_df.loc[:, 'pos']= pd.Categorical(players_df_trim_df['pos'])"
   ]
  },
  {
   "cell_type": "code",
   "execution_count": 52,
   "metadata": {},
   "outputs": [
    {
     "data": {
      "text/plain": [
       "Index(['C', 'D', 'F', 'G', 'L', 'L/C', 'R'], dtype='object')"
      ]
     },
     "execution_count": 52,
     "metadata": {},
     "output_type": "execute_result"
    }
   ],
   "source": [
    "players_df_trim_df.loc[:,'pos'].cat.categories"
   ]
  },
  {
   "cell_type": "code",
   "execution_count": 53,
   "metadata": {},
   "outputs": [],
   "source": [
    "players_df_trim_df.loc[:, 'birthCountry']= pd.Categorical(players_df_trim_df['birthCountry'])\n",
    "players_df_trim_df.loc[:, 'birthState']= pd.Categorical(players_df_trim_df['birthState'])"
   ]
  },
  {
   "cell_type": "code",
   "execution_count": 54,
   "metadata": {},
   "outputs": [
    {
     "data": {
      "text/html": [
       "<div>\n",
       "<style scoped>\n",
       "    .dataframe tbody tr th:only-of-type {\n",
       "        vertical-align: middle;\n",
       "    }\n",
       "\n",
       "    .dataframe tbody tr th {\n",
       "        vertical-align: top;\n",
       "    }\n",
       "\n",
       "    .dataframe thead th {\n",
       "        text-align: right;\n",
       "    }\n",
       "</style>\n",
       "<table border=\"1\" class=\"dataframe\">\n",
       "  <thead>\n",
       "    <tr style=\"text-align: right;\">\n",
       "      <th></th>\n",
       "      <th>birthYear</th>\n",
       "      <th>birthMon</th>\n",
       "      <th>birthDay</th>\n",
       "    </tr>\n",
       "  </thead>\n",
       "  <tbody>\n",
       "    <tr>\n",
       "      <th>count</th>\n",
       "      <td>2750.000000</td>\n",
       "      <td>2750.000000</td>\n",
       "      <td>2750.000000</td>\n",
       "    </tr>\n",
       "    <tr>\n",
       "      <th>mean</th>\n",
       "      <td>1969.776000</td>\n",
       "      <td>5.819273</td>\n",
       "      <td>15.597091</td>\n",
       "    </tr>\n",
       "    <tr>\n",
       "      <th>std</th>\n",
       "      <td>10.771039</td>\n",
       "      <td>3.370813</td>\n",
       "      <td>8.924557</td>\n",
       "    </tr>\n",
       "    <tr>\n",
       "      <th>min</th>\n",
       "      <td>1940.000000</td>\n",
       "      <td>1.000000</td>\n",
       "      <td>1.000000</td>\n",
       "    </tr>\n",
       "    <tr>\n",
       "      <th>25%</th>\n",
       "      <td>1961.000000</td>\n",
       "      <td>3.000000</td>\n",
       "      <td>8.000000</td>\n",
       "    </tr>\n",
       "    <tr>\n",
       "      <th>50%</th>\n",
       "      <td>1969.000000</td>\n",
       "      <td>5.000000</td>\n",
       "      <td>15.000000</td>\n",
       "    </tr>\n",
       "    <tr>\n",
       "      <th>75%</th>\n",
       "      <td>1979.000000</td>\n",
       "      <td>9.000000</td>\n",
       "      <td>23.000000</td>\n",
       "    </tr>\n",
       "    <tr>\n",
       "      <th>max</th>\n",
       "      <td>1992.000000</td>\n",
       "      <td>12.000000</td>\n",
       "      <td>31.000000</td>\n",
       "    </tr>\n",
       "  </tbody>\n",
       "</table>\n",
       "</div>"
      ],
      "text/plain": [
       "         birthYear     birthMon     birthDay\n",
       "count  2750.000000  2750.000000  2750.000000\n",
       "mean   1969.776000     5.819273    15.597091\n",
       "std      10.771039     3.370813     8.924557\n",
       "min    1940.000000     1.000000     1.000000\n",
       "25%    1961.000000     3.000000     8.000000\n",
       "50%    1969.000000     5.000000    15.000000\n",
       "75%    1979.000000     9.000000    23.000000\n",
       "max    1992.000000    12.000000    31.000000"
      ]
     },
     "execution_count": 54,
     "metadata": {},
     "output_type": "execute_result"
    }
   ],
   "source": [
    "players_df_trim_df.loc[players_df_trim_df['birthCountry']=='Canada'].describe()"
   ]
  },
  {
   "cell_type": "code",
   "execution_count": 55,
   "metadata": {},
   "outputs": [
    {
     "data": {
      "text/plain": [
       "Canada    2750\n",
       "USA        773\n",
       "Name: birthCountry, dtype: int64"
      ]
     },
     "execution_count": 55,
     "metadata": {},
     "output_type": "execute_result"
    }
   ],
   "source": [
    "players_df_trim_df.loc[:, 'birthCountry'].value_counts().head(2)"
   ]
  },
  {
   "cell_type": "markdown",
   "metadata": {},
   "source": [
    "## Change index"
   ]
  },
  {
   "cell_type": "code",
   "execution_count": 56,
   "metadata": {},
   "outputs": [],
   "source": [
    "players_df_trim_df = players_df_trim_df.set_index('playerID')"
   ]
  },
  {
   "cell_type": "markdown",
   "metadata": {},
   "source": [
    "<https://mkaz.blog/code/python-string-format-cookbook/>"
   ]
  },
  {
   "cell_type": "markdown",
   "metadata": {},
   "source": [
    "# Scores"
   ]
  },
  {
   "cell_type": "code",
   "execution_count": 57,
   "metadata": {},
   "outputs": [
    {
     "data": {
      "text/html": [
       "<div>\n",
       "<style scoped>\n",
       "    .dataframe tbody tr th:only-of-type {\n",
       "        vertical-align: middle;\n",
       "    }\n",
       "\n",
       "    .dataframe tbody tr th {\n",
       "        vertical-align: top;\n",
       "    }\n",
       "\n",
       "    .dataframe thead th {\n",
       "        text-align: right;\n",
       "    }\n",
       "</style>\n",
       "<table border=\"1\" class=\"dataframe\">\n",
       "  <thead>\n",
       "    <tr style=\"text-align: right;\">\n",
       "      <th></th>\n",
       "      <th>playerID</th>\n",
       "      <th>year</th>\n",
       "      <th>stint</th>\n",
       "      <th>tmID</th>\n",
       "      <th>lgID</th>\n",
       "      <th>pos</th>\n",
       "      <th>GP</th>\n",
       "      <th>G</th>\n",
       "      <th>A</th>\n",
       "      <th>Pts</th>\n",
       "      <th>...</th>\n",
       "      <th>PostA</th>\n",
       "      <th>PostPts</th>\n",
       "      <th>PostPIM</th>\n",
       "      <th>Post+/-</th>\n",
       "      <th>PostPPG</th>\n",
       "      <th>PostPPA</th>\n",
       "      <th>PostSHG</th>\n",
       "      <th>PostSHA</th>\n",
       "      <th>PostGWG</th>\n",
       "      <th>PostSOG</th>\n",
       "    </tr>\n",
       "  </thead>\n",
       "  <tbody>\n",
       "    <tr>\n",
       "      <th>0</th>\n",
       "      <td>aaltoan01</td>\n",
       "      <td>1997</td>\n",
       "      <td>1</td>\n",
       "      <td>ANA</td>\n",
       "      <td>NHL</td>\n",
       "      <td>C</td>\n",
       "      <td>3.0</td>\n",
       "      <td>0.0</td>\n",
       "      <td>0.0</td>\n",
       "      <td>0.0</td>\n",
       "      <td>...</td>\n",
       "      <td>NaN</td>\n",
       "      <td>NaN</td>\n",
       "      <td>NaN</td>\n",
       "      <td>NaN</td>\n",
       "      <td>NaN</td>\n",
       "      <td>NaN</td>\n",
       "      <td>NaN</td>\n",
       "      <td>NaN</td>\n",
       "      <td>NaN</td>\n",
       "      <td>NaN</td>\n",
       "    </tr>\n",
       "    <tr>\n",
       "      <th>1</th>\n",
       "      <td>aaltoan01</td>\n",
       "      <td>1998</td>\n",
       "      <td>1</td>\n",
       "      <td>ANA</td>\n",
       "      <td>NHL</td>\n",
       "      <td>C</td>\n",
       "      <td>73.0</td>\n",
       "      <td>3.0</td>\n",
       "      <td>5.0</td>\n",
       "      <td>8.0</td>\n",
       "      <td>...</td>\n",
       "      <td>0.0</td>\n",
       "      <td>0.0</td>\n",
       "      <td>2.0</td>\n",
       "      <td>0.0</td>\n",
       "      <td>0.0</td>\n",
       "      <td>0.0</td>\n",
       "      <td>0.0</td>\n",
       "      <td>0.0</td>\n",
       "      <td>0.0</td>\n",
       "      <td>0.0</td>\n",
       "    </tr>\n",
       "    <tr>\n",
       "      <th>2</th>\n",
       "      <td>aaltoan01</td>\n",
       "      <td>1999</td>\n",
       "      <td>1</td>\n",
       "      <td>ANA</td>\n",
       "      <td>NHL</td>\n",
       "      <td>C</td>\n",
       "      <td>63.0</td>\n",
       "      <td>7.0</td>\n",
       "      <td>11.0</td>\n",
       "      <td>18.0</td>\n",
       "      <td>...</td>\n",
       "      <td>NaN</td>\n",
       "      <td>NaN</td>\n",
       "      <td>NaN</td>\n",
       "      <td>NaN</td>\n",
       "      <td>NaN</td>\n",
       "      <td>NaN</td>\n",
       "      <td>NaN</td>\n",
       "      <td>NaN</td>\n",
       "      <td>NaN</td>\n",
       "      <td>NaN</td>\n",
       "    </tr>\n",
       "    <tr>\n",
       "      <th>3</th>\n",
       "      <td>aaltoan01</td>\n",
       "      <td>2000</td>\n",
       "      <td>1</td>\n",
       "      <td>ANA</td>\n",
       "      <td>NHL</td>\n",
       "      <td>C</td>\n",
       "      <td>12.0</td>\n",
       "      <td>1.0</td>\n",
       "      <td>1.0</td>\n",
       "      <td>2.0</td>\n",
       "      <td>...</td>\n",
       "      <td>NaN</td>\n",
       "      <td>NaN</td>\n",
       "      <td>NaN</td>\n",
       "      <td>NaN</td>\n",
       "      <td>NaN</td>\n",
       "      <td>NaN</td>\n",
       "      <td>NaN</td>\n",
       "      <td>NaN</td>\n",
       "      <td>NaN</td>\n",
       "      <td>NaN</td>\n",
       "    </tr>\n",
       "    <tr>\n",
       "      <th>4</th>\n",
       "      <td>abbeybr01</td>\n",
       "      <td>1975</td>\n",
       "      <td>1</td>\n",
       "      <td>CIN</td>\n",
       "      <td>WHA</td>\n",
       "      <td>D</td>\n",
       "      <td>17.0</td>\n",
       "      <td>1.0</td>\n",
       "      <td>0.0</td>\n",
       "      <td>1.0</td>\n",
       "      <td>...</td>\n",
       "      <td>NaN</td>\n",
       "      <td>NaN</td>\n",
       "      <td>NaN</td>\n",
       "      <td>NaN</td>\n",
       "      <td>NaN</td>\n",
       "      <td>NaN</td>\n",
       "      <td>NaN</td>\n",
       "      <td>NaN</td>\n",
       "      <td>NaN</td>\n",
       "      <td>NaN</td>\n",
       "    </tr>\n",
       "  </tbody>\n",
       "</table>\n",
       "<p>5 rows × 31 columns</p>\n",
       "</div>"
      ],
      "text/plain": [
       "    playerID  year  stint tmID lgID pos    GP    G     A   Pts  ...  PostA  \\\n",
       "0  aaltoan01  1997      1  ANA  NHL   C   3.0  0.0   0.0   0.0  ...    NaN   \n",
       "1  aaltoan01  1998      1  ANA  NHL   C  73.0  3.0   5.0   8.0  ...    0.0   \n",
       "2  aaltoan01  1999      1  ANA  NHL   C  63.0  7.0  11.0  18.0  ...    NaN   \n",
       "3  aaltoan01  2000      1  ANA  NHL   C  12.0  1.0   1.0   2.0  ...    NaN   \n",
       "4  abbeybr01  1975      1  CIN  WHA   D  17.0  1.0   0.0   1.0  ...    NaN   \n",
       "\n",
       "   PostPts  PostPIM  Post+/-  PostPPG  PostPPA  PostSHG  PostSHA  PostGWG  \\\n",
       "0      NaN      NaN      NaN      NaN      NaN      NaN      NaN      NaN   \n",
       "1      0.0      2.0      0.0      0.0      0.0      0.0      0.0      0.0   \n",
       "2      NaN      NaN      NaN      NaN      NaN      NaN      NaN      NaN   \n",
       "3      NaN      NaN      NaN      NaN      NaN      NaN      NaN      NaN   \n",
       "4      NaN      NaN      NaN      NaN      NaN      NaN      NaN      NaN   \n",
       "\n",
       "   PostSOG  \n",
       "0      NaN  \n",
       "1      0.0  \n",
       "2      NaN  \n",
       "3      NaN  \n",
       "4      NaN  \n",
       "\n",
       "[5 rows x 31 columns]"
      ]
     },
     "execution_count": 57,
     "metadata": {},
     "output_type": "execute_result"
    }
   ],
   "source": [
    "score_df = pd.read_csv('./data/Scoring.csv')\n",
    "score_df.head()"
   ]
  },
  {
   "cell_type": "code",
   "execution_count": 58,
   "metadata": {},
   "outputs": [],
   "source": [
    "score_df = score_df.loc[(score_df[\"lgID\"]=='NHL')&(score_df['year']>=1980)]"
   ]
  },
  {
   "cell_type": "code",
   "execution_count": 59,
   "metadata": {},
   "outputs": [
    {
     "name": "stdout",
     "output_type": "stream",
     "text": [
      "<class 'pandas.core.frame.DataFrame'>\n",
      "Int64Index: 28616 entries, 0 to 45966\n",
      "Data columns (total 8 columns):\n",
      "playerID    28616 non-null object\n",
      "year        28616 non-null int64\n",
      "tmID        28616 non-null category\n",
      "GP          28508 non-null float64\n",
      "G           28508 non-null float64\n",
      "A           28508 non-null float64\n",
      "Pts         28508 non-null float64\n",
      "SOG         28508 non-null float64\n",
      "dtypes: category(1), float64(5), int64(1), object(1)\n",
      "memory usage: 1.8+ MB\n"
     ]
    }
   ],
   "source": [
    "score_df = score_df.filter(regex='^(?!(Post|PP|SH)).*')\n",
    "score_df['tmID'] = pd.Categorical(score_df['tmID'])\n",
    "score_df =score_df.loc[:,['playerID', 'year', 'tmID', 'GP', 'G', 'A', 'Pts', 'SOG']]\n",
    "score_df.info()"
   ]
  },
  {
   "cell_type": "code",
   "execution_count": 60,
   "metadata": {},
   "outputs": [
    {
     "data": {
      "text/plain": [
       "Int64Index([    0,     1,     2,     3,     7,     8,     9,    10,    11,\n",
       "               38,\n",
       "            ...\n",
       "            45957, 45958, 45959, 45960, 45961, 45962, 45963, 45964, 45965,\n",
       "            45966],\n",
       "           dtype='int64', length=28616)"
      ]
     },
     "execution_count": 60,
     "metadata": {},
     "output_type": "execute_result"
    }
   ],
   "source": [
    "score_df.index"
   ]
  },
  {
   "cell_type": "markdown",
   "metadata": {},
   "source": [
    "reset index, restarts the index to be a sequence."
   ]
  },
  {
   "cell_type": "code",
   "execution_count": 61,
   "metadata": {},
   "outputs": [],
   "source": [
    "score_df.reset_index(drop=True, inplace=True)"
   ]
  },
  {
   "cell_type": "code",
   "execution_count": 62,
   "metadata": {},
   "outputs": [],
   "source": [
    "teams_df = pd.read_csv('./data/Teams.csv')"
   ]
  },
  {
   "cell_type": "code",
   "execution_count": 63,
   "metadata": {},
   "outputs": [],
   "source": [
    "def recent_nhl(df):\n",
    "    return df[(df['lgID']=='NHL')&(df['year']>1980)]\n"
   ]
  },
  {
   "cell_type": "code",
   "execution_count": 64,
   "metadata": {},
   "outputs": [],
   "source": [
    "teams_df = recent_nhl(teams_df)"
   ]
  },
  {
   "cell_type": "code",
   "execution_count": 65,
   "metadata": {},
   "outputs": [],
   "source": [
    "teams_df = teams_df[['year', 'tmID', 'name']]"
   ]
  },
  {
   "cell_type": "code",
   "execution_count": 66,
   "metadata": {},
   "outputs": [
    {
     "data": {
      "text/plain": [
       "year    30\n",
       "tmID    37\n",
       "name    37\n",
       "dtype: int64"
      ]
     },
     "execution_count": 66,
     "metadata": {},
     "output_type": "execute_result"
    }
   ],
   "source": [
    "teams_df.nunique()"
   ]
  },
  {
   "cell_type": "code",
   "execution_count": 67,
   "metadata": {},
   "outputs": [],
   "source": [
    "teams_split_df = pd.read_csv('./data/TeamSplits.csv')"
   ]
  },
  {
   "cell_type": "code",
   "execution_count": 68,
   "metadata": {},
   "outputs": [],
   "source": [
    "teams_split_df = recent_nhl(teams_split_df)"
   ]
  },
  {
   "cell_type": "code",
   "execution_count": 69,
   "metadata": {},
   "outputs": [
    {
     "data": {
      "text/plain": [
       "Index(['year', 'lgID', 'tmID', 'hW', 'hL', 'hT', 'hOTL', 'rW', 'rL', 'rT',\n",
       "       'rOTL', 'SepW', 'SepL', 'SepT', 'SepOL', 'OctW', 'OctL', 'OctT',\n",
       "       'OctOL', 'NovW', 'NovL', 'NovT', 'NovOL', 'DecW', 'DecL', 'DecT',\n",
       "       'DecOL', 'JanW', 'JanL', 'JanT', 'JanOL', 'FebW', 'FebL', 'FebT',\n",
       "       'FebOL', 'MarW', 'MarL', 'MarT', 'MarOL', 'AprW', 'AprL', 'AprT',\n",
       "       'AprOL'],\n",
       "      dtype='object')"
      ]
     },
     "execution_count": 69,
     "metadata": {},
     "output_type": "execute_result"
    }
   ],
   "source": [
    "teams_split_df.columns"
   ]
  },
  {
   "cell_type": "code",
   "execution_count": 70,
   "metadata": {},
   "outputs": [],
   "source": [
    "teams_split_df.columns[3:11]\n",
    "teams_split_df.drop(columns=teams_split_df.columns[3:11], inplace=True)"
   ]
  },
  {
   "cell_type": "code",
   "execution_count": 71,
   "metadata": {},
   "outputs": [],
   "source": [
    "teams_split_df.drop(columns=['lgID'], inplace=True)"
   ]
  },
  {
   "cell_type": "code",
   "execution_count": 72,
   "metadata": {},
   "outputs": [],
   "source": [
    "teams_split_df['tmID'] = pd.Categorical(teams_split_df['tmID'])"
   ]
  },
  {
   "cell_type": "code",
   "execution_count": 73,
   "metadata": {},
   "outputs": [
    {
     "data": {
      "text/html": [
       "<div>\n",
       "<style scoped>\n",
       "    .dataframe tbody tr th:only-of-type {\n",
       "        vertical-align: middle;\n",
       "    }\n",
       "\n",
       "    .dataframe tbody tr th {\n",
       "        vertical-align: top;\n",
       "    }\n",
       "\n",
       "    .dataframe thead th {\n",
       "        text-align: right;\n",
       "    }\n",
       "</style>\n",
       "<table border=\"1\" class=\"dataframe\">\n",
       "  <thead>\n",
       "    <tr style=\"text-align: right;\">\n",
       "      <th></th>\n",
       "      <th>firstName</th>\n",
       "      <th>lastName</th>\n",
       "      <th>pos</th>\n",
       "      <th>birthYear</th>\n",
       "      <th>birthMon</th>\n",
       "      <th>birthDay</th>\n",
       "      <th>birthCountry</th>\n",
       "      <th>birthState</th>\n",
       "      <th>birthCity</th>\n",
       "    </tr>\n",
       "    <tr>\n",
       "      <th>playerID</th>\n",
       "      <th></th>\n",
       "      <th></th>\n",
       "      <th></th>\n",
       "      <th></th>\n",
       "      <th></th>\n",
       "      <th></th>\n",
       "      <th></th>\n",
       "      <th></th>\n",
       "      <th></th>\n",
       "    </tr>\n",
       "  </thead>\n",
       "  <tbody>\n",
       "    <tr>\n",
       "      <th>aaltoan01</th>\n",
       "      <td>Antti</td>\n",
       "      <td>Aalto</td>\n",
       "      <td>C</td>\n",
       "      <td>1975.0</td>\n",
       "      <td>3.0</td>\n",
       "      <td>4.0</td>\n",
       "      <td>Finland</td>\n",
       "      <td>NaN</td>\n",
       "      <td>Lappeenranta</td>\n",
       "    </tr>\n",
       "    <tr>\n",
       "      <th>abdelju01</th>\n",
       "      <td>Justin</td>\n",
       "      <td>Abdelkader</td>\n",
       "      <td>L</td>\n",
       "      <td>1987.0</td>\n",
       "      <td>2.0</td>\n",
       "      <td>25.0</td>\n",
       "      <td>USA</td>\n",
       "      <td>MI</td>\n",
       "      <td>Muskegon</td>\n",
       "    </tr>\n",
       "  </tbody>\n",
       "</table>\n",
       "</div>"
      ],
      "text/plain": [
       "          firstName    lastName pos  birthYear  birthMon  birthDay  \\\n",
       "playerID                                                             \n",
       "aaltoan01     Antti       Aalto   C     1975.0       3.0       4.0   \n",
       "abdelju01    Justin  Abdelkader   L     1987.0       2.0      25.0   \n",
       "\n",
       "          birthCountry birthState     birthCity  \n",
       "playerID                                         \n",
       "aaltoan01      Finland        NaN  Lappeenranta  \n",
       "abdelju01          USA         MI      Muskegon  "
      ]
     },
     "execution_count": 73,
     "metadata": {},
     "output_type": "execute_result"
    }
   ],
   "source": [
    "players_df_trim_df.head(2)"
   ]
  },
  {
   "cell_type": "code",
   "execution_count": 74,
   "metadata": {},
   "outputs": [
    {
     "data": {
      "text/html": [
       "<div>\n",
       "<style scoped>\n",
       "    .dataframe tbody tr th:only-of-type {\n",
       "        vertical-align: middle;\n",
       "    }\n",
       "\n",
       "    .dataframe tbody tr th {\n",
       "        vertical-align: top;\n",
       "    }\n",
       "\n",
       "    .dataframe thead th {\n",
       "        text-align: right;\n",
       "    }\n",
       "</style>\n",
       "<table border=\"1\" class=\"dataframe\">\n",
       "  <thead>\n",
       "    <tr style=\"text-align: right;\">\n",
       "      <th></th>\n",
       "      <th>playerID</th>\n",
       "      <th>year</th>\n",
       "      <th>tmID</th>\n",
       "      <th>GP</th>\n",
       "      <th>G</th>\n",
       "      <th>A</th>\n",
       "      <th>Pts</th>\n",
       "      <th>SOG</th>\n",
       "    </tr>\n",
       "  </thead>\n",
       "  <tbody>\n",
       "    <tr>\n",
       "      <th>0</th>\n",
       "      <td>aaltoan01</td>\n",
       "      <td>1997</td>\n",
       "      <td>ANA</td>\n",
       "      <td>3.0</td>\n",
       "      <td>0.0</td>\n",
       "      <td>0.0</td>\n",
       "      <td>0.0</td>\n",
       "      <td>1.0</td>\n",
       "    </tr>\n",
       "    <tr>\n",
       "      <th>1</th>\n",
       "      <td>aaltoan01</td>\n",
       "      <td>1998</td>\n",
       "      <td>ANA</td>\n",
       "      <td>73.0</td>\n",
       "      <td>3.0</td>\n",
       "      <td>5.0</td>\n",
       "      <td>8.0</td>\n",
       "      <td>61.0</td>\n",
       "    </tr>\n",
       "  </tbody>\n",
       "</table>\n",
       "</div>"
      ],
      "text/plain": [
       "    playerID  year tmID    GP    G    A  Pts   SOG\n",
       "0  aaltoan01  1997  ANA   3.0  0.0  0.0  0.0   1.0\n",
       "1  aaltoan01  1998  ANA  73.0  3.0  5.0  8.0  61.0"
      ]
     },
     "execution_count": 74,
     "metadata": {},
     "output_type": "execute_result"
    }
   ],
   "source": [
    "score_df.head(2)"
   ]
  },
  {
   "cell_type": "code",
   "execution_count": 75,
   "metadata": {},
   "outputs": [],
   "source": [
    "score_df = pd.merge(score_df, players_df_trim_df, how='left', left_on='playerID', right_index=True)"
   ]
  },
  {
   "cell_type": "code",
   "execution_count": 76,
   "metadata": {},
   "outputs": [],
   "source": [
    "three_years = score_df.loc[\n",
    "    (score_df['year']>2000) \n",
    "    & (score_df['year']<2004)]"
   ]
  },
  {
   "cell_type": "code",
   "execution_count": 77,
   "metadata": {},
   "outputs": [
    {
     "data": {
      "text/plain": [
       "(2957, 17)"
      ]
     },
     "execution_count": 77,
     "metadata": {},
     "output_type": "execute_result"
    }
   ],
   "source": [
    "three_years = three_years.drop_duplicates(subset=['playerID', 'year'])\n",
    "three_years.shape"
   ]
  },
  {
   "cell_type": "code",
   "execution_count": 78,
   "metadata": {},
   "outputs": [],
   "source": [
    "counts = three_years['playerID'].value_counts()\n",
    "ids = counts[counts ==3].sample(5).index"
   ]
  },
  {
   "cell_type": "code",
   "execution_count": 79,
   "metadata": {},
   "outputs": [],
   "source": [
    "df3 = three_years.loc[three_years['playerID'].isin(ids)]"
   ]
  },
  {
   "cell_type": "code",
   "execution_count": 80,
   "metadata": {},
   "outputs": [],
   "source": [
    "basic_df3 = df3.loc[:, ['playerID', 'year', 'G']]"
   ]
  },
  {
   "cell_type": "markdown",
   "metadata": {},
   "source": [
    "### Melt and Pivot\n",
    "Pivot allows to convert a long Dataframe into a wider df based on a column (or index). [Docs][1]\n",
    "Melt does the opposite, converts a wide df into a long one\n",
    "\n",
    "[1]:<https://pandas.pydata.org/pandas-docs/stable/reference/api/pandas.DataFrame.pivot.html>"
   ]
  },
  {
   "cell_type": "code",
   "execution_count": 81,
   "metadata": {},
   "outputs": [
    {
     "data": {
      "text/html": [
       "<div>\n",
       "<style scoped>\n",
       "    .dataframe tbody tr th:only-of-type {\n",
       "        vertical-align: middle;\n",
       "    }\n",
       "\n",
       "    .dataframe tbody tr th {\n",
       "        vertical-align: top;\n",
       "    }\n",
       "\n",
       "    .dataframe thead th {\n",
       "        text-align: right;\n",
       "    }\n",
       "</style>\n",
       "<table border=\"1\" class=\"dataframe\">\n",
       "  <thead>\n",
       "    <tr style=\"text-align: right;\">\n",
       "      <th></th>\n",
       "      <th>playerID</th>\n",
       "      <th>year</th>\n",
       "      <th>G</th>\n",
       "    </tr>\n",
       "  </thead>\n",
       "  <tbody>\n",
       "    <tr>\n",
       "      <th>2704</th>\n",
       "      <td>brodema01</td>\n",
       "      <td>2001</td>\n",
       "      <td>0.0</td>\n",
       "    </tr>\n",
       "    <tr>\n",
       "      <th>2705</th>\n",
       "      <td>brodema01</td>\n",
       "      <td>2002</td>\n",
       "      <td>0.0</td>\n",
       "    </tr>\n",
       "    <tr>\n",
       "      <th>2706</th>\n",
       "      <td>brodema01</td>\n",
       "      <td>2003</td>\n",
       "      <td>0.0</td>\n",
       "    </tr>\n",
       "    <tr>\n",
       "      <th>11502</th>\n",
       "      <td>johnsbr02</td>\n",
       "      <td>2001</td>\n",
       "      <td>0.0</td>\n",
       "    </tr>\n",
       "    <tr>\n",
       "      <th>11503</th>\n",
       "      <td>johnsbr02</td>\n",
       "      <td>2002</td>\n",
       "      <td>0.0</td>\n",
       "    </tr>\n",
       "  </tbody>\n",
       "</table>\n",
       "</div>"
      ],
      "text/plain": [
       "        playerID  year    G\n",
       "2704   brodema01  2001  0.0\n",
       "2705   brodema01  2002  0.0\n",
       "2706   brodema01  2003  0.0\n",
       "11502  johnsbr02  2001  0.0\n",
       "11503  johnsbr02  2002  0.0"
      ]
     },
     "execution_count": 81,
     "metadata": {},
     "output_type": "execute_result"
    }
   ],
   "source": [
    "basic_df3.head()"
   ]
  },
  {
   "cell_type": "code",
   "execution_count": 82,
   "metadata": {},
   "outputs": [
    {
     "data": {
      "text/html": [
       "<div>\n",
       "<style scoped>\n",
       "    .dataframe tbody tr th:only-of-type {\n",
       "        vertical-align: middle;\n",
       "    }\n",
       "\n",
       "    .dataframe tbody tr th {\n",
       "        vertical-align: top;\n",
       "    }\n",
       "\n",
       "    .dataframe thead th {\n",
       "        text-align: right;\n",
       "    }\n",
       "</style>\n",
       "<table border=\"1\" class=\"dataframe\">\n",
       "  <thead>\n",
       "    <tr style=\"text-align: right;\">\n",
       "      <th>year</th>\n",
       "      <th>2001</th>\n",
       "      <th>2002</th>\n",
       "      <th>2003</th>\n",
       "    </tr>\n",
       "    <tr>\n",
       "      <th>playerID</th>\n",
       "      <th></th>\n",
       "      <th></th>\n",
       "      <th></th>\n",
       "    </tr>\n",
       "  </thead>\n",
       "  <tbody>\n",
       "    <tr>\n",
       "      <th>brodema01</th>\n",
       "      <td>0.0</td>\n",
       "      <td>0.0</td>\n",
       "      <td>0.0</td>\n",
       "    </tr>\n",
       "    <tr>\n",
       "      <th>johnsbr02</th>\n",
       "      <td>0.0</td>\n",
       "      <td>0.0</td>\n",
       "      <td>0.0</td>\n",
       "    </tr>\n",
       "    <tr>\n",
       "      <th>ozolisa01</th>\n",
       "      <td>4.0</td>\n",
       "      <td>7.0</td>\n",
       "      <td>5.0</td>\n",
       "    </tr>\n",
       "    <tr>\n",
       "      <th>pecami01</th>\n",
       "      <td>25.0</td>\n",
       "      <td>13.0</td>\n",
       "      <td>11.0</td>\n",
       "    </tr>\n",
       "    <tr>\n",
       "      <th>vigiejp01</th>\n",
       "      <td>4.0</td>\n",
       "      <td>0.0</td>\n",
       "      <td>10.0</td>\n",
       "    </tr>\n",
       "  </tbody>\n",
       "</table>\n",
       "</div>"
      ],
      "text/plain": [
       "year       2001  2002  2003\n",
       "playerID                   \n",
       "brodema01   0.0   0.0   0.0\n",
       "johnsbr02   0.0   0.0   0.0\n",
       "ozolisa01   4.0   7.0   5.0\n",
       "pecami01   25.0  13.0  11.0\n",
       "vigiejp01   4.0   0.0  10.0"
      ]
     },
     "execution_count": 82,
     "metadata": {},
     "output_type": "execute_result"
    }
   ],
   "source": [
    "pivot = basic_df3.pivot(index='playerID', columns='year', values='G')\n",
    "pivot.head()"
   ]
  },
  {
   "cell_type": "code",
   "execution_count": 83,
   "metadata": {},
   "outputs": [
    {
     "data": {
      "text/html": [
       "<div>\n",
       "<style scoped>\n",
       "    .dataframe tbody tr th:only-of-type {\n",
       "        vertical-align: middle;\n",
       "    }\n",
       "\n",
       "    .dataframe tbody tr th {\n",
       "        vertical-align: top;\n",
       "    }\n",
       "\n",
       "    .dataframe thead th {\n",
       "        text-align: right;\n",
       "    }\n",
       "</style>\n",
       "<table border=\"1\" class=\"dataframe\">\n",
       "  <thead>\n",
       "    <tr style=\"text-align: right;\">\n",
       "      <th></th>\n",
       "      <th>playerID</th>\n",
       "      <th>year</th>\n",
       "      <th>G</th>\n",
       "    </tr>\n",
       "  </thead>\n",
       "  <tbody>\n",
       "    <tr>\n",
       "      <th>0</th>\n",
       "      <td>brodema01</td>\n",
       "      <td>2001</td>\n",
       "      <td>0.0</td>\n",
       "    </tr>\n",
       "    <tr>\n",
       "      <th>1</th>\n",
       "      <td>johnsbr02</td>\n",
       "      <td>2001</td>\n",
       "      <td>0.0</td>\n",
       "    </tr>\n",
       "    <tr>\n",
       "      <th>2</th>\n",
       "      <td>ozolisa01</td>\n",
       "      <td>2001</td>\n",
       "      <td>4.0</td>\n",
       "    </tr>\n",
       "    <tr>\n",
       "      <th>3</th>\n",
       "      <td>pecami01</td>\n",
       "      <td>2001</td>\n",
       "      <td>25.0</td>\n",
       "    </tr>\n",
       "    <tr>\n",
       "      <th>4</th>\n",
       "      <td>vigiejp01</td>\n",
       "      <td>2001</td>\n",
       "      <td>4.0</td>\n",
       "    </tr>\n",
       "  </tbody>\n",
       "</table>\n",
       "</div>"
      ],
      "text/plain": [
       "    playerID  year     G\n",
       "0  brodema01  2001   0.0\n",
       "1  johnsbr02  2001   0.0\n",
       "2  ozolisa01  2001   4.0\n",
       "3   pecami01  2001  25.0\n",
       "4  vigiejp01  2001   4.0"
      ]
     },
     "execution_count": 83,
     "metadata": {},
     "output_type": "execute_result"
    }
   ],
   "source": [
    "pivot.reset_index(inplace=True) ## As melt does not use the index\n",
    "pivot.melt(id_vars='playerID', value_vars=[2001, 2002, 2003], value_name='G').head()"
   ]
  },
  {
   "cell_type": "code",
   "execution_count": 84,
   "metadata": {},
   "outputs": [],
   "source": [
    "score_df = pd.merge(left=score_df, right=players_df[['playerID', 'firstName', 'lastName']], on='playerID')\n",
    "score_df = score_df.set_index('playerID')"
   ]
  },
  {
   "cell_type": "markdown",
   "metadata": {},
   "source": [
    "## Multi-index\n",
    "Pandas allows for multi index <https://pandas.pydata.org/pandas-docs/stable/user_guide/advanced.html>\n",
    "This multiple indexes allows for some complex calculations, like obtaining the player that scored the most on each year\n",
    "Grouping allows for a quick method to determine"
   ]
  },
  {
   "cell_type": "code",
   "execution_count": 85,
   "metadata": {},
   "outputs": [
    {
     "data": {
      "text/plain": [
       "playerID   year\n",
       "aaltoan01  1997    0.0\n",
       "           1998    3.0\n",
       "           1999    7.0\n",
       "           2000    1.0\n",
       "abdelju01  2007    0.0\n",
       "Name: G, dtype: float64"
      ]
     },
     "execution_count": 85,
     "metadata": {},
     "output_type": "execute_result"
    }
   ],
   "source": [
    "# Obtain the max per player and year\n",
    "score_df.groupby(['playerID', 'year'])['G'].max().head()"
   ]
  },
  {
   "cell_type": "code",
   "execution_count": 86,
   "metadata": {},
   "outputs": [
    {
     "data": {
      "text/plain": [
       "year\n",
       "1980    (bossymi01, 1980)\n",
       "1981    (gretzwa01, 1981)\n",
       "1982    (gretzwa01, 1982)\n",
       "1983    (gretzwa01, 1983)\n",
       "1984    (gretzwa01, 1984)\n",
       "Name: G, dtype: object"
      ]
     },
     "execution_count": 86,
     "metadata": {},
     "output_type": "execute_result"
    }
   ],
   "source": [
    "mi = score_df.reset_index().set_index(['playerID', 'year'])\n",
    "# Obtain the index of the max Goal per year\n",
    "mi.groupby(level='year')['G'].idxmax().head()"
   ]
  },
  {
   "cell_type": "code",
   "execution_count": 87,
   "metadata": {},
   "outputs": [
    {
     "data": {
      "text/html": [
       "<div>\n",
       "<style scoped>\n",
       "    .dataframe tbody tr th:only-of-type {\n",
       "        vertical-align: middle;\n",
       "    }\n",
       "\n",
       "    .dataframe tbody tr th {\n",
       "        vertical-align: top;\n",
       "    }\n",
       "\n",
       "    .dataframe thead th {\n",
       "        text-align: right;\n",
       "    }\n",
       "</style>\n",
       "<table border=\"1\" class=\"dataframe\">\n",
       "  <thead>\n",
       "    <tr style=\"text-align: right;\">\n",
       "      <th></th>\n",
       "      <th></th>\n",
       "      <th>tmID</th>\n",
       "      <th>GP</th>\n",
       "      <th>G</th>\n",
       "      <th>A</th>\n",
       "      <th>Pts</th>\n",
       "      <th>SOG</th>\n",
       "      <th>firstName_x</th>\n",
       "      <th>lastName_x</th>\n",
       "      <th>pos</th>\n",
       "      <th>birthYear</th>\n",
       "      <th>birthMon</th>\n",
       "      <th>birthDay</th>\n",
       "      <th>birthCountry</th>\n",
       "      <th>birthState</th>\n",
       "      <th>birthCity</th>\n",
       "      <th>firstName_y</th>\n",
       "      <th>lastName_y</th>\n",
       "    </tr>\n",
       "    <tr>\n",
       "      <th>playerID</th>\n",
       "      <th>year</th>\n",
       "      <th></th>\n",
       "      <th></th>\n",
       "      <th></th>\n",
       "      <th></th>\n",
       "      <th></th>\n",
       "      <th></th>\n",
       "      <th></th>\n",
       "      <th></th>\n",
       "      <th></th>\n",
       "      <th></th>\n",
       "      <th></th>\n",
       "      <th></th>\n",
       "      <th></th>\n",
       "      <th></th>\n",
       "      <th></th>\n",
       "      <th></th>\n",
       "      <th></th>\n",
       "    </tr>\n",
       "  </thead>\n",
       "  <tbody>\n",
       "    <tr>\n",
       "      <th>gretzwa01</th>\n",
       "      <th>1981</th>\n",
       "      <td>EDM</td>\n",
       "      <td>80.0</td>\n",
       "      <td>92.0</td>\n",
       "      <td>120.0</td>\n",
       "      <td>212.0</td>\n",
       "      <td>369.0</td>\n",
       "      <td>Wayne</td>\n",
       "      <td>Gretzky</td>\n",
       "      <td>C</td>\n",
       "      <td>1961.0</td>\n",
       "      <td>1.0</td>\n",
       "      <td>26.0</td>\n",
       "      <td>Canada</td>\n",
       "      <td>ON</td>\n",
       "      <td>Brantford</td>\n",
       "      <td>Wayne</td>\n",
       "      <td>Gretzky</td>\n",
       "    </tr>\n",
       "  </tbody>\n",
       "</table>\n",
       "</div>"
      ],
      "text/plain": [
       "               tmID    GP     G      A    Pts    SOG firstName_x lastName_x  \\\n",
       "playerID  year                                                                \n",
       "gretzwa01 1981  EDM  80.0  92.0  120.0  212.0  369.0       Wayne    Gretzky   \n",
       "\n",
       "               pos  birthYear  birthMon  birthDay birthCountry birthState  \\\n",
       "playerID  year                                                              \n",
       "gretzwa01 1981   C     1961.0       1.0      26.0       Canada         ON   \n",
       "\n",
       "                birthCity firstName_y lastName_y  \n",
       "playerID  year                                    \n",
       "gretzwa01 1981  Brantford       Wayne    Gretzky  "
      ]
     },
     "execution_count": 87,
     "metadata": {},
     "output_type": "execute_result"
    }
   ],
   "source": [
    "# Query one record\n",
    "mi.loc[('gretzwa01', 1981)]"
   ]
  },
  {
   "cell_type": "code",
   "execution_count": 88,
   "metadata": {},
   "outputs": [
    {
     "data": {
      "text/html": [
       "<div>\n",
       "<style scoped>\n",
       "    .dataframe tbody tr th:only-of-type {\n",
       "        vertical-align: middle;\n",
       "    }\n",
       "\n",
       "    .dataframe tbody tr th {\n",
       "        vertical-align: top;\n",
       "    }\n",
       "\n",
       "    .dataframe thead th {\n",
       "        text-align: right;\n",
       "    }\n",
       "</style>\n",
       "<table border=\"1\" class=\"dataframe\">\n",
       "  <thead>\n",
       "    <tr style=\"text-align: right;\">\n",
       "      <th></th>\n",
       "      <th></th>\n",
       "      <th>tmID</th>\n",
       "      <th>GP</th>\n",
       "      <th>G</th>\n",
       "      <th>A</th>\n",
       "      <th>Pts</th>\n",
       "      <th>SOG</th>\n",
       "      <th>firstName_x</th>\n",
       "      <th>lastName_x</th>\n",
       "      <th>pos</th>\n",
       "      <th>birthYear</th>\n",
       "      <th>birthMon</th>\n",
       "      <th>birthDay</th>\n",
       "      <th>birthCountry</th>\n",
       "      <th>birthState</th>\n",
       "      <th>birthCity</th>\n",
       "      <th>firstName_y</th>\n",
       "      <th>lastName_y</th>\n",
       "    </tr>\n",
       "    <tr>\n",
       "      <th>playerID</th>\n",
       "      <th>year</th>\n",
       "      <th></th>\n",
       "      <th></th>\n",
       "      <th></th>\n",
       "      <th></th>\n",
       "      <th></th>\n",
       "      <th></th>\n",
       "      <th></th>\n",
       "      <th></th>\n",
       "      <th></th>\n",
       "      <th></th>\n",
       "      <th></th>\n",
       "      <th></th>\n",
       "      <th></th>\n",
       "      <th></th>\n",
       "      <th></th>\n",
       "      <th></th>\n",
       "      <th></th>\n",
       "    </tr>\n",
       "  </thead>\n",
       "  <tbody>\n",
       "    <tr>\n",
       "      <th rowspan=\"2\" valign=\"top\">aaltoan01</th>\n",
       "      <th>1997</th>\n",
       "      <td>ANA</td>\n",
       "      <td>3.0</td>\n",
       "      <td>0.0</td>\n",
       "      <td>0.0</td>\n",
       "      <td>0.0</td>\n",
       "      <td>1.0</td>\n",
       "      <td>Antti</td>\n",
       "      <td>Aalto</td>\n",
       "      <td>C</td>\n",
       "      <td>1975.0</td>\n",
       "      <td>3.0</td>\n",
       "      <td>4.0</td>\n",
       "      <td>Finland</td>\n",
       "      <td>NaN</td>\n",
       "      <td>Lappeenranta</td>\n",
       "      <td>Antti</td>\n",
       "      <td>Aalto</td>\n",
       "    </tr>\n",
       "    <tr>\n",
       "      <th>1998</th>\n",
       "      <td>ANA</td>\n",
       "      <td>73.0</td>\n",
       "      <td>3.0</td>\n",
       "      <td>5.0</td>\n",
       "      <td>8.0</td>\n",
       "      <td>61.0</td>\n",
       "      <td>Antti</td>\n",
       "      <td>Aalto</td>\n",
       "      <td>C</td>\n",
       "      <td>1975.0</td>\n",
       "      <td>3.0</td>\n",
       "      <td>4.0</td>\n",
       "      <td>Finland</td>\n",
       "      <td>NaN</td>\n",
       "      <td>Lappeenranta</td>\n",
       "      <td>Antti</td>\n",
       "      <td>Aalto</td>\n",
       "    </tr>\n",
       "    <tr>\n",
       "      <th rowspan=\"2\" valign=\"top\">adamsgr02</th>\n",
       "      <th>1997</th>\n",
       "      <td>DAL</td>\n",
       "      <td>49.0</td>\n",
       "      <td>14.0</td>\n",
       "      <td>18.0</td>\n",
       "      <td>32.0</td>\n",
       "      <td>75.0</td>\n",
       "      <td>Greg</td>\n",
       "      <td>Adams</td>\n",
       "      <td>L</td>\n",
       "      <td>1963.0</td>\n",
       "      <td>8.0</td>\n",
       "      <td>15.0</td>\n",
       "      <td>Canada</td>\n",
       "      <td>BC</td>\n",
       "      <td>Nelson</td>\n",
       "      <td>Greg</td>\n",
       "      <td>Adams</td>\n",
       "    </tr>\n",
       "    <tr>\n",
       "      <th>1998</th>\n",
       "      <td>PHO</td>\n",
       "      <td>75.0</td>\n",
       "      <td>19.0</td>\n",
       "      <td>24.0</td>\n",
       "      <td>43.0</td>\n",
       "      <td>176.0</td>\n",
       "      <td>Greg</td>\n",
       "      <td>Adams</td>\n",
       "      <td>L</td>\n",
       "      <td>1963.0</td>\n",
       "      <td>8.0</td>\n",
       "      <td>15.0</td>\n",
       "      <td>Canada</td>\n",
       "      <td>BC</td>\n",
       "      <td>Nelson</td>\n",
       "      <td>Greg</td>\n",
       "      <td>Adams</td>\n",
       "    </tr>\n",
       "    <tr>\n",
       "      <th>adamske01</th>\n",
       "      <th>1997</th>\n",
       "      <td>TOR</td>\n",
       "      <td>5.0</td>\n",
       "      <td>0.0</td>\n",
       "      <td>0.0</td>\n",
       "      <td>0.0</td>\n",
       "      <td>3.0</td>\n",
       "      <td>Kevyn</td>\n",
       "      <td>Adams</td>\n",
       "      <td>C</td>\n",
       "      <td>1974.0</td>\n",
       "      <td>10.0</td>\n",
       "      <td>8.0</td>\n",
       "      <td>USA</td>\n",
       "      <td>DC</td>\n",
       "      <td>Washington</td>\n",
       "      <td>Kevyn</td>\n",
       "      <td>Adams</td>\n",
       "    </tr>\n",
       "  </tbody>\n",
       "</table>\n",
       "</div>"
      ],
      "text/plain": [
       "               tmID    GP     G     A   Pts    SOG firstName_x lastName_x pos  \\\n",
       "playerID  year                                                                  \n",
       "aaltoan01 1997  ANA   3.0   0.0   0.0   0.0    1.0       Antti      Aalto   C   \n",
       "          1998  ANA  73.0   3.0   5.0   8.0   61.0       Antti      Aalto   C   \n",
       "adamsgr02 1997  DAL  49.0  14.0  18.0  32.0   75.0        Greg      Adams   L   \n",
       "          1998  PHO  75.0  19.0  24.0  43.0  176.0        Greg      Adams   L   \n",
       "adamske01 1997  TOR   5.0   0.0   0.0   0.0    3.0       Kevyn      Adams   C   \n",
       "\n",
       "                birthYear  birthMon  birthDay birthCountry birthState  \\\n",
       "playerID  year                                                          \n",
       "aaltoan01 1997     1975.0       3.0       4.0      Finland        NaN   \n",
       "          1998     1975.0       3.0       4.0      Finland        NaN   \n",
       "adamsgr02 1997     1963.0       8.0      15.0       Canada         BC   \n",
       "          1998     1963.0       8.0      15.0       Canada         BC   \n",
       "adamske01 1997     1974.0      10.0       8.0          USA         DC   \n",
       "\n",
       "                   birthCity firstName_y lastName_y  \n",
       "playerID  year                                       \n",
       "aaltoan01 1997  Lappeenranta       Antti      Aalto  \n",
       "          1998  Lappeenranta       Antti      Aalto  \n",
       "adamsgr02 1997        Nelson        Greg      Adams  \n",
       "          1998        Nelson        Greg      Adams  \n",
       "adamske01 1997    Washington       Kevyn      Adams  "
      ]
     },
     "execution_count": 88,
     "metadata": {},
     "output_type": "execute_result"
    }
   ],
   "source": [
    "# Slicing multiple records (they need to be sorted first)\n",
    "idx = pd.IndexSlice\n",
    "mi2 = mi.sort_index()\n",
    "mi2.loc[idx[:, 1997:1998], :].head() # obtain all records from 1997 to 1998"
   ]
  },
  {
   "cell_type": "code",
   "execution_count": 89,
   "metadata": {},
   "outputs": [
    {
     "data": {
      "text/html": [
       "<div>\n",
       "<style scoped>\n",
       "    .dataframe tbody tr th:only-of-type {\n",
       "        vertical-align: middle;\n",
       "    }\n",
       "\n",
       "    .dataframe tbody tr th {\n",
       "        vertical-align: top;\n",
       "    }\n",
       "\n",
       "    .dataframe thead th {\n",
       "        text-align: right;\n",
       "    }\n",
       "</style>\n",
       "<table border=\"1\" class=\"dataframe\">\n",
       "  <thead>\n",
       "    <tr style=\"text-align: right;\">\n",
       "      <th></th>\n",
       "      <th></th>\n",
       "      <th>tmID</th>\n",
       "      <th>GP</th>\n",
       "      <th>G</th>\n",
       "      <th>A</th>\n",
       "      <th>Pts</th>\n",
       "      <th>SOG</th>\n",
       "      <th>firstName_x</th>\n",
       "      <th>lastName_x</th>\n",
       "      <th>pos</th>\n",
       "      <th>birthYear</th>\n",
       "      <th>birthMon</th>\n",
       "      <th>birthDay</th>\n",
       "      <th>birthCountry</th>\n",
       "      <th>birthState</th>\n",
       "      <th>birthCity</th>\n",
       "      <th>firstName_y</th>\n",
       "      <th>lastName_y</th>\n",
       "    </tr>\n",
       "    <tr>\n",
       "      <th>playerID</th>\n",
       "      <th>year</th>\n",
       "      <th></th>\n",
       "      <th></th>\n",
       "      <th></th>\n",
       "      <th></th>\n",
       "      <th></th>\n",
       "      <th></th>\n",
       "      <th></th>\n",
       "      <th></th>\n",
       "      <th></th>\n",
       "      <th></th>\n",
       "      <th></th>\n",
       "      <th></th>\n",
       "      <th></th>\n",
       "      <th></th>\n",
       "      <th></th>\n",
       "      <th></th>\n",
       "      <th></th>\n",
       "    </tr>\n",
       "  </thead>\n",
       "  <tbody>\n",
       "    <tr>\n",
       "      <th rowspan=\"2\" valign=\"top\">aaltoan01</th>\n",
       "      <th>1997</th>\n",
       "      <td>ANA</td>\n",
       "      <td>3.0</td>\n",
       "      <td>0.0</td>\n",
       "      <td>0.0</td>\n",
       "      <td>0.0</td>\n",
       "      <td>1.0</td>\n",
       "      <td>Antti</td>\n",
       "      <td>Aalto</td>\n",
       "      <td>C</td>\n",
       "      <td>1975.0</td>\n",
       "      <td>3.0</td>\n",
       "      <td>4.0</td>\n",
       "      <td>Finland</td>\n",
       "      <td>NaN</td>\n",
       "      <td>Lappeenranta</td>\n",
       "      <td>Antti</td>\n",
       "      <td>Aalto</td>\n",
       "    </tr>\n",
       "    <tr>\n",
       "      <th>1998</th>\n",
       "      <td>ANA</td>\n",
       "      <td>73.0</td>\n",
       "      <td>3.0</td>\n",
       "      <td>5.0</td>\n",
       "      <td>8.0</td>\n",
       "      <td>61.0</td>\n",
       "      <td>Antti</td>\n",
       "      <td>Aalto</td>\n",
       "      <td>C</td>\n",
       "      <td>1975.0</td>\n",
       "      <td>3.0</td>\n",
       "      <td>4.0</td>\n",
       "      <td>Finland</td>\n",
       "      <td>NaN</td>\n",
       "      <td>Lappeenranta</td>\n",
       "      <td>Antti</td>\n",
       "      <td>Aalto</td>\n",
       "    </tr>\n",
       "    <tr>\n",
       "      <th rowspan=\"2\" valign=\"top\">adamsgr02</th>\n",
       "      <th>1997</th>\n",
       "      <td>DAL</td>\n",
       "      <td>49.0</td>\n",
       "      <td>14.0</td>\n",
       "      <td>18.0</td>\n",
       "      <td>32.0</td>\n",
       "      <td>75.0</td>\n",
       "      <td>Greg</td>\n",
       "      <td>Adams</td>\n",
       "      <td>L</td>\n",
       "      <td>1963.0</td>\n",
       "      <td>8.0</td>\n",
       "      <td>15.0</td>\n",
       "      <td>Canada</td>\n",
       "      <td>BC</td>\n",
       "      <td>Nelson</td>\n",
       "      <td>Greg</td>\n",
       "      <td>Adams</td>\n",
       "    </tr>\n",
       "    <tr>\n",
       "      <th>1998</th>\n",
       "      <td>PHO</td>\n",
       "      <td>75.0</td>\n",
       "      <td>19.0</td>\n",
       "      <td>24.0</td>\n",
       "      <td>43.0</td>\n",
       "      <td>176.0</td>\n",
       "      <td>Greg</td>\n",
       "      <td>Adams</td>\n",
       "      <td>L</td>\n",
       "      <td>1963.0</td>\n",
       "      <td>8.0</td>\n",
       "      <td>15.0</td>\n",
       "      <td>Canada</td>\n",
       "      <td>BC</td>\n",
       "      <td>Nelson</td>\n",
       "      <td>Greg</td>\n",
       "      <td>Adams</td>\n",
       "    </tr>\n",
       "  </tbody>\n",
       "</table>\n",
       "</div>"
      ],
      "text/plain": [
       "               tmID    GP     G     A   Pts    SOG firstName_x lastName_x pos  \\\n",
       "playerID  year                                                                  \n",
       "aaltoan01 1997  ANA   3.0   0.0   0.0   0.0    1.0       Antti      Aalto   C   \n",
       "          1998  ANA  73.0   3.0   5.0   8.0   61.0       Antti      Aalto   C   \n",
       "adamsgr02 1997  DAL  49.0  14.0  18.0  32.0   75.0        Greg      Adams   L   \n",
       "          1998  PHO  75.0  19.0  24.0  43.0  176.0        Greg      Adams   L   \n",
       "\n",
       "                birthYear  birthMon  birthDay birthCountry birthState  \\\n",
       "playerID  year                                                          \n",
       "aaltoan01 1997     1975.0       3.0       4.0      Finland        NaN   \n",
       "          1998     1975.0       3.0       4.0      Finland        NaN   \n",
       "adamsgr02 1997     1963.0       8.0      15.0       Canada         BC   \n",
       "          1998     1963.0       8.0      15.0       Canada         BC   \n",
       "\n",
       "                   birthCity firstName_y lastName_y  \n",
       "playerID  year                                       \n",
       "aaltoan01 1997  Lappeenranta       Antti      Aalto  \n",
       "          1998  Lappeenranta       Antti      Aalto  \n",
       "adamsgr02 1997        Nelson        Greg      Adams  \n",
       "          1998        Nelson        Greg      Adams  "
      ]
     },
     "execution_count": 89,
     "metadata": {},
     "output_type": "execute_result"
    }
   ],
   "source": [
    "mi2.loc[idx['aaltoan01':'adamsgr02', 1997:1998], :].head() # obtain all records from 1997 to 1998 for players from aaltoan01 to 'adamsgr02'"
   ]
  },
  {
   "cell_type": "code",
   "execution_count": 90,
   "metadata": {},
   "outputs": [
    {
     "data": {
      "text/plain": [
       "FrozenList(['playerID', 'year'])"
      ]
     },
     "execution_count": 90,
     "metadata": {},
     "output_type": "execute_result"
    }
   ],
   "source": [
    "mi.index.names"
   ]
  },
  {
   "cell_type": "code",
   "execution_count": 91,
   "metadata": {},
   "outputs": [
    {
     "data": {
      "text/html": [
       "<div>\n",
       "<style scoped>\n",
       "    .dataframe tbody tr th:only-of-type {\n",
       "        vertical-align: middle;\n",
       "    }\n",
       "\n",
       "    .dataframe tbody tr th {\n",
       "        vertical-align: top;\n",
       "    }\n",
       "\n",
       "    .dataframe thead th {\n",
       "        text-align: right;\n",
       "    }\n",
       "</style>\n",
       "<table border=\"1\" class=\"dataframe\">\n",
       "  <thead>\n",
       "    <tr style=\"text-align: right;\">\n",
       "      <th></th>\n",
       "      <th></th>\n",
       "      <th>tmID</th>\n",
       "      <th>GP</th>\n",
       "      <th>G</th>\n",
       "      <th>A</th>\n",
       "      <th>Pts</th>\n",
       "      <th>SOG</th>\n",
       "      <th>firstName_x</th>\n",
       "      <th>lastName_x</th>\n",
       "      <th>pos</th>\n",
       "      <th>birthYear</th>\n",
       "      <th>birthMon</th>\n",
       "      <th>birthDay</th>\n",
       "      <th>birthCountry</th>\n",
       "      <th>birthState</th>\n",
       "      <th>birthCity</th>\n",
       "      <th>firstName_y</th>\n",
       "      <th>lastName_y</th>\n",
       "    </tr>\n",
       "    <tr>\n",
       "      <th>year</th>\n",
       "      <th>playerID</th>\n",
       "      <th></th>\n",
       "      <th></th>\n",
       "      <th></th>\n",
       "      <th></th>\n",
       "      <th></th>\n",
       "      <th></th>\n",
       "      <th></th>\n",
       "      <th></th>\n",
       "      <th></th>\n",
       "      <th></th>\n",
       "      <th></th>\n",
       "      <th></th>\n",
       "      <th></th>\n",
       "      <th></th>\n",
       "      <th></th>\n",
       "      <th></th>\n",
       "      <th></th>\n",
       "    </tr>\n",
       "  </thead>\n",
       "  <tbody>\n",
       "    <tr>\n",
       "      <th>1997</th>\n",
       "      <th>aaltoan01</th>\n",
       "      <td>ANA</td>\n",
       "      <td>3.0</td>\n",
       "      <td>0.0</td>\n",
       "      <td>0.0</td>\n",
       "      <td>0.0</td>\n",
       "      <td>1.0</td>\n",
       "      <td>Antti</td>\n",
       "      <td>Aalto</td>\n",
       "      <td>C</td>\n",
       "      <td>1975.0</td>\n",
       "      <td>3.0</td>\n",
       "      <td>4.0</td>\n",
       "      <td>Finland</td>\n",
       "      <td>NaN</td>\n",
       "      <td>Lappeenranta</td>\n",
       "      <td>Antti</td>\n",
       "      <td>Aalto</td>\n",
       "    </tr>\n",
       "    <tr>\n",
       "      <th>1998</th>\n",
       "      <th>aaltoan01</th>\n",
       "      <td>ANA</td>\n",
       "      <td>73.0</td>\n",
       "      <td>3.0</td>\n",
       "      <td>5.0</td>\n",
       "      <td>8.0</td>\n",
       "      <td>61.0</td>\n",
       "      <td>Antti</td>\n",
       "      <td>Aalto</td>\n",
       "      <td>C</td>\n",
       "      <td>1975.0</td>\n",
       "      <td>3.0</td>\n",
       "      <td>4.0</td>\n",
       "      <td>Finland</td>\n",
       "      <td>NaN</td>\n",
       "      <td>Lappeenranta</td>\n",
       "      <td>Antti</td>\n",
       "      <td>Aalto</td>\n",
       "    </tr>\n",
       "    <tr>\n",
       "      <th>1999</th>\n",
       "      <th>aaltoan01</th>\n",
       "      <td>ANA</td>\n",
       "      <td>63.0</td>\n",
       "      <td>7.0</td>\n",
       "      <td>11.0</td>\n",
       "      <td>18.0</td>\n",
       "      <td>102.0</td>\n",
       "      <td>Antti</td>\n",
       "      <td>Aalto</td>\n",
       "      <td>C</td>\n",
       "      <td>1975.0</td>\n",
       "      <td>3.0</td>\n",
       "      <td>4.0</td>\n",
       "      <td>Finland</td>\n",
       "      <td>NaN</td>\n",
       "      <td>Lappeenranta</td>\n",
       "      <td>Antti</td>\n",
       "      <td>Aalto</td>\n",
       "    </tr>\n",
       "    <tr>\n",
       "      <th>2000</th>\n",
       "      <th>aaltoan01</th>\n",
       "      <td>ANA</td>\n",
       "      <td>12.0</td>\n",
       "      <td>1.0</td>\n",
       "      <td>1.0</td>\n",
       "      <td>2.0</td>\n",
       "      <td>18.0</td>\n",
       "      <td>Antti</td>\n",
       "      <td>Aalto</td>\n",
       "      <td>C</td>\n",
       "      <td>1975.0</td>\n",
       "      <td>3.0</td>\n",
       "      <td>4.0</td>\n",
       "      <td>Finland</td>\n",
       "      <td>NaN</td>\n",
       "      <td>Lappeenranta</td>\n",
       "      <td>Antti</td>\n",
       "      <td>Aalto</td>\n",
       "    </tr>\n",
       "    <tr>\n",
       "      <th>2007</th>\n",
       "      <th>abdelju01</th>\n",
       "      <td>DET</td>\n",
       "      <td>2.0</td>\n",
       "      <td>0.0</td>\n",
       "      <td>0.0</td>\n",
       "      <td>0.0</td>\n",
       "      <td>6.0</td>\n",
       "      <td>Justin</td>\n",
       "      <td>Abdelkader</td>\n",
       "      <td>L</td>\n",
       "      <td>1987.0</td>\n",
       "      <td>2.0</td>\n",
       "      <td>25.0</td>\n",
       "      <td>USA</td>\n",
       "      <td>MI</td>\n",
       "      <td>Muskegon</td>\n",
       "      <td>Justin</td>\n",
       "      <td>Abdelkader</td>\n",
       "    </tr>\n",
       "  </tbody>\n",
       "</table>\n",
       "</div>"
      ],
      "text/plain": [
       "               tmID    GP    G     A   Pts    SOG firstName_x  lastName_x pos  \\\n",
       "year playerID                                                                   \n",
       "1997 aaltoan01  ANA   3.0  0.0   0.0   0.0    1.0       Antti       Aalto   C   \n",
       "1998 aaltoan01  ANA  73.0  3.0   5.0   8.0   61.0       Antti       Aalto   C   \n",
       "1999 aaltoan01  ANA  63.0  7.0  11.0  18.0  102.0       Antti       Aalto   C   \n",
       "2000 aaltoan01  ANA  12.0  1.0   1.0   2.0   18.0       Antti       Aalto   C   \n",
       "2007 abdelju01  DET   2.0  0.0   0.0   0.0    6.0      Justin  Abdelkader   L   \n",
       "\n",
       "                birthYear  birthMon  birthDay birthCountry birthState  \\\n",
       "year playerID                                                           \n",
       "1997 aaltoan01     1975.0       3.0       4.0      Finland        NaN   \n",
       "1998 aaltoan01     1975.0       3.0       4.0      Finland        NaN   \n",
       "1999 aaltoan01     1975.0       3.0       4.0      Finland        NaN   \n",
       "2000 aaltoan01     1975.0       3.0       4.0      Finland        NaN   \n",
       "2007 abdelju01     1987.0       2.0      25.0          USA         MI   \n",
       "\n",
       "                   birthCity firstName_y  lastName_y  \n",
       "year playerID                                         \n",
       "1997 aaltoan01  Lappeenranta       Antti       Aalto  \n",
       "1998 aaltoan01  Lappeenranta       Antti       Aalto  \n",
       "1999 aaltoan01  Lappeenranta       Antti       Aalto  \n",
       "2000 aaltoan01  Lappeenranta       Antti       Aalto  \n",
       "2007 abdelju01      Muskegon      Justin  Abdelkader  "
      ]
     },
     "execution_count": 91,
     "metadata": {},
     "output_type": "execute_result"
    }
   ],
   "source": [
    "# change level of the idx\n",
    "mi.swaplevel().head()"
   ]
  },
  {
   "cell_type": "code",
   "execution_count": 92,
   "metadata": {},
   "outputs": [
    {
     "data": {
      "text/plain": [
       "2"
      ]
     },
     "execution_count": 92,
     "metadata": {},
     "output_type": "execute_result"
    }
   ],
   "source": [
    "mi.index.nlevels"
   ]
  },
  {
   "cell_type": "code",
   "execution_count": 93,
   "metadata": {},
   "outputs": [],
   "source": [
    "teams_split_df = teams_split_df.set_index(['year', 'tmID'])"
   ]
  },
  {
   "cell_type": "code",
   "execution_count": 94,
   "metadata": {},
   "outputs": [
    {
     "data": {
      "text/html": [
       "<div>\n",
       "<style scoped>\n",
       "    .dataframe tbody tr th:only-of-type {\n",
       "        vertical-align: middle;\n",
       "    }\n",
       "\n",
       "    .dataframe tbody tr th {\n",
       "        vertical-align: top;\n",
       "    }\n",
       "\n",
       "    .dataframe thead th {\n",
       "        text-align: right;\n",
       "    }\n",
       "</style>\n",
       "<table border=\"1\" class=\"dataframe\">\n",
       "  <thead>\n",
       "    <tr style=\"text-align: right;\">\n",
       "      <th></th>\n",
       "      <th></th>\n",
       "      <th>SepW</th>\n",
       "      <th>SepL</th>\n",
       "      <th>SepT</th>\n",
       "      <th>SepOL</th>\n",
       "      <th>OctW</th>\n",
       "      <th>OctL</th>\n",
       "      <th>OctT</th>\n",
       "      <th>OctOL</th>\n",
       "      <th>NovW</th>\n",
       "      <th>NovL</th>\n",
       "      <th>...</th>\n",
       "      <th>FebT</th>\n",
       "      <th>FebOL</th>\n",
       "      <th>MarW</th>\n",
       "      <th>MarL</th>\n",
       "      <th>MarT</th>\n",
       "      <th>MarOL</th>\n",
       "      <th>AprW</th>\n",
       "      <th>AprL</th>\n",
       "      <th>AprT</th>\n",
       "      <th>AprOL</th>\n",
       "    </tr>\n",
       "    <tr>\n",
       "      <th>year</th>\n",
       "      <th>tmID</th>\n",
       "      <th></th>\n",
       "      <th></th>\n",
       "      <th></th>\n",
       "      <th></th>\n",
       "      <th></th>\n",
       "      <th></th>\n",
       "      <th></th>\n",
       "      <th></th>\n",
       "      <th></th>\n",
       "      <th></th>\n",
       "      <th></th>\n",
       "      <th></th>\n",
       "      <th></th>\n",
       "      <th></th>\n",
       "      <th></th>\n",
       "      <th></th>\n",
       "      <th></th>\n",
       "      <th></th>\n",
       "      <th></th>\n",
       "      <th></th>\n",
       "      <th></th>\n",
       "    </tr>\n",
       "  </thead>\n",
       "  <tbody>\n",
       "    <tr>\n",
       "      <th rowspan=\"5\" valign=\"top\">1981</th>\n",
       "      <th>BOS</th>\n",
       "      <td>NaN</td>\n",
       "      <td>NaN</td>\n",
       "      <td>NaN</td>\n",
       "      <td>NaN</td>\n",
       "      <td>6.0</td>\n",
       "      <td>2.0</td>\n",
       "      <td>3.0</td>\n",
       "      <td>NaN</td>\n",
       "      <td>7.0</td>\n",
       "      <td>5.0</td>\n",
       "      <td>...</td>\n",
       "      <td>1.0</td>\n",
       "      <td>NaN</td>\n",
       "      <td>7.0</td>\n",
       "      <td>5.0</td>\n",
       "      <td>2.0</td>\n",
       "      <td>NaN</td>\n",
       "      <td>2.0</td>\n",
       "      <td>1.0</td>\n",
       "      <td>0.0</td>\n",
       "      <td>NaN</td>\n",
       "    </tr>\n",
       "    <tr>\n",
       "      <th>BUF</th>\n",
       "      <td>NaN</td>\n",
       "      <td>NaN</td>\n",
       "      <td>NaN</td>\n",
       "      <td>NaN</td>\n",
       "      <td>5.0</td>\n",
       "      <td>3.0</td>\n",
       "      <td>3.0</td>\n",
       "      <td>NaN</td>\n",
       "      <td>7.0</td>\n",
       "      <td>2.0</td>\n",
       "      <td>...</td>\n",
       "      <td>3.0</td>\n",
       "      <td>NaN</td>\n",
       "      <td>5.0</td>\n",
       "      <td>6.0</td>\n",
       "      <td>3.0</td>\n",
       "      <td>NaN</td>\n",
       "      <td>1.0</td>\n",
       "      <td>1.0</td>\n",
       "      <td>0.0</td>\n",
       "      <td>NaN</td>\n",
       "    </tr>\n",
       "    <tr>\n",
       "      <th>CAL</th>\n",
       "      <td>NaN</td>\n",
       "      <td>NaN</td>\n",
       "      <td>NaN</td>\n",
       "      <td>NaN</td>\n",
       "      <td>2.0</td>\n",
       "      <td>7.0</td>\n",
       "      <td>2.0</td>\n",
       "      <td>NaN</td>\n",
       "      <td>5.0</td>\n",
       "      <td>5.0</td>\n",
       "      <td>...</td>\n",
       "      <td>3.0</td>\n",
       "      <td>NaN</td>\n",
       "      <td>5.0</td>\n",
       "      <td>6.0</td>\n",
       "      <td>2.0</td>\n",
       "      <td>NaN</td>\n",
       "      <td>1.0</td>\n",
       "      <td>1.0</td>\n",
       "      <td>0.0</td>\n",
       "      <td>NaN</td>\n",
       "    </tr>\n",
       "    <tr>\n",
       "      <th>CHI</th>\n",
       "      <td>NaN</td>\n",
       "      <td>NaN</td>\n",
       "      <td>NaN</td>\n",
       "      <td>NaN</td>\n",
       "      <td>3.0</td>\n",
       "      <td>3.0</td>\n",
       "      <td>5.0</td>\n",
       "      <td>NaN</td>\n",
       "      <td>6.0</td>\n",
       "      <td>4.0</td>\n",
       "      <td>...</td>\n",
       "      <td>0.0</td>\n",
       "      <td>NaN</td>\n",
       "      <td>5.0</td>\n",
       "      <td>6.0</td>\n",
       "      <td>2.0</td>\n",
       "      <td>NaN</td>\n",
       "      <td>2.0</td>\n",
       "      <td>0.0</td>\n",
       "      <td>0.0</td>\n",
       "      <td>NaN</td>\n",
       "    </tr>\n",
       "    <tr>\n",
       "      <th>COR</th>\n",
       "      <td>NaN</td>\n",
       "      <td>NaN</td>\n",
       "      <td>NaN</td>\n",
       "      <td>NaN</td>\n",
       "      <td>2.0</td>\n",
       "      <td>7.0</td>\n",
       "      <td>2.0</td>\n",
       "      <td>NaN</td>\n",
       "      <td>1.0</td>\n",
       "      <td>10.0</td>\n",
       "      <td>...</td>\n",
       "      <td>3.0</td>\n",
       "      <td>NaN</td>\n",
       "      <td>3.0</td>\n",
       "      <td>8.0</td>\n",
       "      <td>2.0</td>\n",
       "      <td>NaN</td>\n",
       "      <td>1.0</td>\n",
       "      <td>1.0</td>\n",
       "      <td>0.0</td>\n",
       "      <td>NaN</td>\n",
       "    </tr>\n",
       "  </tbody>\n",
       "</table>\n",
       "<p>5 rows × 32 columns</p>\n",
       "</div>"
      ],
      "text/plain": [
       "           SepW  SepL  SepT  SepOL  OctW  OctL  OctT  OctOL  NovW  NovL  ...  \\\n",
       "year tmID                                                                ...   \n",
       "1981 BOS    NaN   NaN   NaN    NaN   6.0   2.0   3.0    NaN   7.0   5.0  ...   \n",
       "     BUF    NaN   NaN   NaN    NaN   5.0   3.0   3.0    NaN   7.0   2.0  ...   \n",
       "     CAL    NaN   NaN   NaN    NaN   2.0   7.0   2.0    NaN   5.0   5.0  ...   \n",
       "     CHI    NaN   NaN   NaN    NaN   3.0   3.0   5.0    NaN   6.0   4.0  ...   \n",
       "     COR    NaN   NaN   NaN    NaN   2.0   7.0   2.0    NaN   1.0  10.0  ...   \n",
       "\n",
       "           FebT  FebOL  MarW  MarL  MarT  MarOL  AprW  AprL  AprT  AprOL  \n",
       "year tmID                                                                 \n",
       "1981 BOS    1.0    NaN   7.0   5.0   2.0    NaN   2.0   1.0   0.0    NaN  \n",
       "     BUF    3.0    NaN   5.0   6.0   3.0    NaN   1.0   1.0   0.0    NaN  \n",
       "     CAL    3.0    NaN   5.0   6.0   2.0    NaN   1.0   1.0   0.0    NaN  \n",
       "     CHI    0.0    NaN   5.0   6.0   2.0    NaN   2.0   0.0   0.0    NaN  \n",
       "     COR    3.0    NaN   3.0   8.0   2.0    NaN   1.0   1.0   0.0    NaN  \n",
       "\n",
       "[5 rows x 32 columns]"
      ]
     },
     "execution_count": 94,
     "metadata": {},
     "output_type": "execute_result"
    }
   ],
   "source": [
    "teams_split_df.head()"
   ]
  },
  {
   "cell_type": "code",
   "execution_count": null,
   "metadata": {},
   "outputs": [],
   "source": [
    "months = teams_split_df.columns.map(lambda x: x[:3])\n",
    "metrics =  teams_split_df.columns.map(lambda x: x[3:])"
   ]
  },
  {
   "cell_type": "code",
   "execution_count": null,
   "metadata": {},
   "outputs": [],
   "source": [
    "midx = pd.MultiIndex.from_arrays([months, metrics])\n",
    "midx"
   ]
  },
  {
   "cell_type": "markdown",
   "metadata": {},
   "source": [
    "# Time series"
   ]
  },
  {
   "cell_type": "code",
   "execution_count": 96,
   "metadata": {},
   "outputs": [],
   "source": [
    "ts = pd.Timestamp('1997-03-04 14:25:54')"
   ]
  },
  {
   "cell_type": "code",
   "execution_count": 99,
   "metadata": {},
   "outputs": [
    {
     "data": {
      "text/plain": [
       "1997"
      ]
     },
     "execution_count": 99,
     "metadata": {},
     "output_type": "execute_result"
    }
   ],
   "source": [
    "ts.year"
   ]
  },
  {
   "cell_type": "code",
   "execution_count": 102,
   "metadata": {},
   "outputs": [
    {
     "data": {
      "text/plain": [
       "'Tuesday'"
      ]
     },
     "execution_count": 102,
     "metadata": {},
     "output_type": "execute_result"
    }
   ],
   "source": [
    "ts.day_name()"
   ]
  },
  {
   "cell_type": "code",
   "execution_count": 103,
   "metadata": {},
   "outputs": [],
   "source": [
    "tp = pd.Period('2Q2010', 'Q')"
   ]
  },
  {
   "cell_type": "code",
   "execution_count": 111,
   "metadata": {},
   "outputs": [
    {
     "data": {
      "text/plain": [
       "26"
      ]
     },
     "execution_count": 111,
     "metadata": {},
     "output_type": "execute_result"
    }
   ],
   "source": [
    "tp.weekofyear"
   ]
  },
  {
   "cell_type": "code",
   "execution_count": 120,
   "metadata": {},
   "outputs": [],
   "source": [
    "# players_df_trim_df_copy = players_df_trim_df.copy()\n",
    "players_df_trim_df =players_df_trim_df_copy"
   ]
  },
  {
   "cell_type": "code",
   "execution_count": 124,
   "metadata": {},
   "outputs": [],
   "source": [
    "players_df_trim_df = players_df_trim_df.assign(birthdate = pd.to_datetime({\n",
    "    'year': players_df_trim_df.birthYear,\n",
    "    'month': players_df_trim_df.birthMon,\n",
    "    'day': players_df_trim_df.birthDay\n",
    "}))\n",
    "players_df_trim_df.drop(columns=['birthYear', 'birthMon', 'birthDay'], inplace=True)"
   ]
  },
  {
   "cell_type": "code",
   "execution_count": 129,
   "metadata": {},
   "outputs": [
    {
     "data": {
      "text/html": [
       "<div>\n",
       "<style scoped>\n",
       "    .dataframe tbody tr th:only-of-type {\n",
       "        vertical-align: middle;\n",
       "    }\n",
       "\n",
       "    .dataframe tbody tr th {\n",
       "        vertical-align: top;\n",
       "    }\n",
       "\n",
       "    .dataframe thead th {\n",
       "        text-align: right;\n",
       "    }\n",
       "</style>\n",
       "<table border=\"1\" class=\"dataframe\">\n",
       "  <thead>\n",
       "    <tr style=\"text-align: right;\">\n",
       "      <th></th>\n",
       "      <th>firstName</th>\n",
       "      <th>lastName</th>\n",
       "      <th>pos</th>\n",
       "      <th>birthCountry</th>\n",
       "      <th>birthState</th>\n",
       "      <th>birthCity</th>\n",
       "      <th>birthdate</th>\n",
       "    </tr>\n",
       "    <tr>\n",
       "      <th>playerID</th>\n",
       "      <th></th>\n",
       "      <th></th>\n",
       "      <th></th>\n",
       "      <th></th>\n",
       "      <th></th>\n",
       "      <th></th>\n",
       "      <th></th>\n",
       "    </tr>\n",
       "  </thead>\n",
       "  <tbody>\n",
       "    <tr>\n",
       "      <th>aaltoan01</th>\n",
       "      <td>Antti</td>\n",
       "      <td>Aalto</td>\n",
       "      <td>C</td>\n",
       "      <td>Finland</td>\n",
       "      <td>NaN</td>\n",
       "      <td>Lappeenranta</td>\n",
       "      <td>1975-03-04</td>\n",
       "    </tr>\n",
       "    <tr>\n",
       "      <th>abdelju01</th>\n",
       "      <td>Justin</td>\n",
       "      <td>Abdelkader</td>\n",
       "      <td>L</td>\n",
       "      <td>USA</td>\n",
       "      <td>MI</td>\n",
       "      <td>Muskegon</td>\n",
       "      <td>1987-02-25</td>\n",
       "    </tr>\n",
       "  </tbody>\n",
       "</table>\n",
       "</div>"
      ],
      "text/plain": [
       "          firstName    lastName pos birthCountry birthState     birthCity  \\\n",
       "playerID                                                                    \n",
       "aaltoan01     Antti       Aalto   C      Finland        NaN  Lappeenranta   \n",
       "abdelju01    Justin  Abdelkader   L          USA         MI      Muskegon   \n",
       "\n",
       "           birthdate  \n",
       "playerID              \n",
       "aaltoan01 1975-03-04  \n",
       "abdelju01 1987-02-25  "
      ]
     },
     "execution_count": 129,
     "metadata": {},
     "output_type": "execute_result"
    }
   ],
   "source": [
    "players_df_trim_df.head(2)"
   ]
  },
  {
   "cell_type": "code",
   "execution_count": 132,
   "metadata": {},
   "outputs": [
    {
     "data": {
      "text/plain": [
       "birthdate\n",
       "1940-01-27    harpete01\n",
       "1940-03-22     keonda01\n",
       "1940-10-03    ratelje01\n",
       "1942-02-20    esposph01\n",
       "1943-04-23    esposto01\n",
       "Name: playerID, dtype: object"
      ]
     },
     "execution_count": 132,
     "metadata": {},
     "output_type": "execute_result"
    }
   ],
   "source": [
    "birth_dates = pd.Series(players_df_trim_df.index, index=players_df_trim_df['birthdate'])\n",
    "birth_dates = birth_dates.sort_index()\n",
    "birth_dates.head()"
   ]
  },
  {
   "cell_type": "code",
   "execution_count": 136,
   "metadata": {},
   "outputs": [
    {
     "data": {
      "text/plain": [
       "<bound method NDFrame.head of birthdate\n",
       "1980-12-02     wardjo02\n",
       "1980-12-09    baydary01\n",
       "1980-12-30    lysakbr01\n",
       "Name: playerID, dtype: object>"
      ]
     },
     "execution_count": 136,
     "metadata": {},
     "output_type": "execute_result"
    }
   ],
   "source": [
    "birth_dates['1980-12'].head"
   ]
  },
  {
   "cell_type": "code",
   "execution_count": 139,
   "metadata": {},
   "outputs": [],
   "source": [
    "birth_dates= birth_dates.to_period(freq='D')"
   ]
  },
  {
   "cell_type": "code",
   "execution_count": 145,
   "metadata": {},
   "outputs": [
    {
     "data": {
      "text/plain": [
       "PeriodIndex(['1940-01-27', '1940-03-22', '1940-10-03', '1942-02-20',\n",
       "             '1943-04-23', '1944-03-14', '1945-01-08', '1945-01-29',\n",
       "             '1945-03-28', '1945-06-24',\n",
       "             ...\n",
       "             '1992-07-31', '1992-09-08', '1992-10-05', '1992-10-27',\n",
       "             '1992-11-12', '1992-11-23', '1992-12-07', '1993-03-15',\n",
       "             '1993-04-12', '1993-04-18'],\n",
       "            dtype='period[D]', name='birthdate', length=4627, freq='D')"
      ]
     },
     "execution_count": 145,
     "metadata": {},
     "output_type": "execute_result"
    }
   ],
   "source": [
    "birth_dates.index"
   ]
  },
  {
   "cell_type": "code",
   "execution_count": 163,
   "metadata": {},
   "outputs": [
    {
     "data": {
      "text/plain": [
       "birthdate\n",
       "1940Q1    2\n",
       "1940Q2    0\n",
       "1940Q3    0\n",
       "1940Q4    1\n",
       "1941Q1    0\n",
       "Freq: Q-DEC, Name: playerID, dtype: int64"
      ]
     },
     "execution_count": 163,
     "metadata": {},
     "output_type": "execute_result"
    }
   ],
   "source": [
    "birth_dates.resample('1Q').count().head() # resample actually creates a value for each period even if not in the rec"
   ]
  },
  {
   "cell_type": "markdown",
   "metadata": {},
   "source": [
    "## Windows, Rolling and Expanding"
   ]
  },
  {
   "cell_type": "code",
   "execution_count": 149,
   "metadata": {},
   "outputs": [],
   "source": [
    "new_score = score_df.drop(columns=['firstName_y', 'lastName_y'])"
   ]
  },
  {
   "cell_type": "code",
   "execution_count": 150,
   "metadata": {},
   "outputs": [
    {
     "data": {
      "text/plain": [
       "Index(['year', 'tmID', 'GP', 'G', 'A', 'Pts', 'SOG', 'firstName_x',\n",
       "       'lastName_x', 'pos', 'birthYear', 'birthMon', 'birthDay',\n",
       "       'birthCountry', 'birthState', 'birthCity'],\n",
       "      dtype='object')"
      ]
     },
     "execution_count": 150,
     "metadata": {},
     "output_type": "execute_result"
    }
   ],
   "source": [
    "new_score.columns"
   ]
  },
  {
   "cell_type": "code",
   "execution_count": 155,
   "metadata": {},
   "outputs": [],
   "source": [
    "wayne_df = new_score.loc[new_score.index=='gretzwa01']"
   ]
  },
  {
   "cell_type": "code",
   "execution_count": 158,
   "metadata": {},
   "outputs": [],
   "source": [
    "wayne_sums = wayne_df.groupby('year')['G', 'A'].sum()"
   ]
  },
  {
   "cell_type": "code",
   "execution_count": 160,
   "metadata": {},
   "outputs": [
    {
     "data": {
      "text/plain": [
       "year\n",
       "1980          NaN\n",
       "1981          NaN\n",
       "1982    72.666667\n",
       "1983    83.333333\n",
       "1984    77.000000\n",
       "1985    70.666667\n",
       "1986    62.333333\n",
       "1987    51.333333\n",
       "1988    52.000000\n",
       "1989    44.666667\n",
       "1990    45.000000\n",
       "1991    37.333333\n",
       "1992    29.333333\n",
       "1993    28.333333\n",
       "1994    21.666667\n",
       "1995    24.000000\n",
       "1996    19.666667\n",
       "1997    23.666667\n",
       "1998    19.000000\n",
       "Name: G, dtype: float64"
      ]
     },
     "execution_count": 160,
     "metadata": {},
     "output_type": "execute_result"
    }
   ],
   "source": [
    "# rolling 3 year average \n",
    "wayne_sums.rolling(3)['G'].mean()"
   ]
  },
  {
   "cell_type": "code",
   "execution_count": 195,
   "metadata": {},
   "outputs": [
    {
     "data": {
      "text/plain": [
       "<matplotlib.axes._subplots.AxesSubplot at 0x1214aa9e8>"
      ]
     },
     "execution_count": 195,
     "metadata": {},
     "output_type": "execute_result"
    },
    {
     "data": {
      "image/png": "[encoded data removed]",
      "text/plain": [
       "<Figure size 432x288 with 1 Axes>"
      ]
     },
     "metadata": {
      "needs_background": "light"
     },
     "output_type": "display_data"
    }
   ],
   "source": [
    "%matplotlib inline\n",
    "wayne_sums.assign(roll_mean = wayne_sums.rolling(3)['G'].mean()).plot()"
   ]
  },
  {
   "cell_type": "code",
   "execution_count": 189,
   "metadata": {},
   "outputs": [
    {
     "data": {
      "text/plain": [
       "birthdate\n",
       "1940Q1    NaN\n",
       "1940Q2    NaN\n",
       "1940Q3    NaN\n",
       "1940Q4    3.0\n",
       "1941Q1    1.0\n",
       "1941Q2    1.0\n",
       "1941Q3    1.0\n",
       "1941Q4    0.0\n",
       "1942Q1    1.0\n",
       "1942Q2    1.0\n",
       "Freq: Q-DEC, Name: playerID, dtype: float64"
      ]
     },
     "execution_count": 189,
     "metadata": {},
     "output_type": "execute_result"
    }
   ],
   "source": [
    "quarter_counts = birth_dates.resample('1Q').count()\n",
    "quarter_counts.rolling(4).sum().head(10)"
   ]
  },
  {
   "cell_type": "code",
   "execution_count": 190,
   "metadata": {},
   "outputs": [
    {
     "data": {
      "text/plain": [
       "count    214.000000\n",
       "mean      21.621495\n",
       "std       14.381186\n",
       "min        0.000000\n",
       "25%        8.000000\n",
       "50%       22.500000\n",
       "75%       33.000000\n",
       "max       60.000000\n",
       "Name: playerID, dtype: float64"
      ]
     },
     "execution_count": 190,
     "metadata": {},
     "output_type": "execute_result"
    }
   ],
   "source": [
    "quarter_counts.describe()"
   ]
  },
  {
   "cell_type": "code",
   "execution_count": 191,
   "metadata": {},
   "outputs": [],
   "source": [
    "a = quarter_counts.expanding().sum()/ quarter_counts.sum()"
   ]
  },
  {
   "cell_type": "code",
   "execution_count": 193,
   "metadata": {},
   "outputs": [
    {
     "data": {
      "text/plain": [
       "<matplotlib.axes._subplots.AxesSubplot at 0x12127ce48>"
      ]
     },
     "execution_count": 193,
     "metadata": {},
     "output_type": "execute_result"
    },
    {
     "data": {
      "image/png": "[encoded data removed]",
      "text/plain": [
       "<Figure size 432x288 with 1 Axes>"
      ]
     },
     "metadata": {
      "needs_background": "light"
     },
     "output_type": "display_data"
    }
   ],
   "source": [
    "a.plot()"
   ]
  },
  {
   "cell_type": "code",
   "execution_count": 197,
   "metadata": {},
   "outputs": [
    {
     "data": {
      "text/plain": [
       "<matplotlib.axes._subplots.AxesSubplot at 0x121549cc0>"
      ]
     },
     "execution_count": 197,
     "metadata": {},
     "output_type": "execute_result"
    },
    {
     "data": {
      "image/png": "[encoded data removed]",
      "text/plain": [
       "<Figure size 432x288 with 1 Axes>"
      ]
     },
     "metadata": {
      "needs_background": "light"
     },
     "output_type": "display_data"
    }
   ],
   "source": [
    "wayne_sums.expanding().sum().plot()"
   ]
  },
  {
   "cell_type": "code",
   "execution_count": 198,
   "metadata": {},
   "outputs": [
    {
     "data": {
      "text/plain": [
       "<matplotlib.axes._subplots.AxesSubplot at 0x12162c9b0>"
      ]
     },
     "execution_count": 198,
     "metadata": {},
     "output_type": "execute_result"
    },
    {
     "data": {
      "image/png": "[encoded data removed]",
      "text/plain": [
       "<Figure size 432x288 with 1 Axes>"
      ]
     },
     "metadata": {
      "needs_background": "light"
     },
     "output_type": "display_data"
    }
   ],
   "source": [
    "wayne_sums.expanding().max().plot()"
   ]
  },
  {
   "cell_type": "code",
   "execution_count": 199,
   "metadata": {},
   "outputs": [],
   "source": [
    "totals = wayne_sums.sum()"
   ]
  },
  {
   "cell_type": "code",
   "execution_count": 200,
   "metadata": {},
   "outputs": [
    {
     "data": {
      "text/plain": [
       "<matplotlib.axes._subplots.AxesSubplot at 0x122596828>"
      ]
     },
     "execution_count": 200,
     "metadata": {},
     "output_type": "execute_result"
    },
    {
     "data": {
      "image/png": "[encoded data removed]",
      "text/plain": [
       "<Figure size 432x288 with 1 Axes>"
      ]
     },
     "metadata": {
      "needs_background": "light"
     },
     "output_type": "display_data"
    }
   ],
   "source": [
    "total_part = wayne_sums['G'].expanding().aggregate(lambda x: x.sum()/ totals['G'])\n",
    "total_part.plot()"
   ]
  }
 ],
 "metadata": {
  "kernelspec": {
   "display_name": "Python 3",
   "language": "python",
   "name": "python3"
  },
  "language_info": {
   "codemirror_mode": {
    "name": "ipython",
    "version": 3
   },
   "file_extension": ".py",
   "mimetype": "text/x-python",
   "name": "python",
   "nbconvert_exporter": "python",
   "pygments_lexer": "ipython3",
   "version": "3.7.3"
  }
 },
 "nbformat": 4,
 "nbformat_minor": 2
}
