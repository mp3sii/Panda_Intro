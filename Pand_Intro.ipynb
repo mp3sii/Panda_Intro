{
 "cells": [
  {
   "cell_type": "markdown",
   "metadata": {},
   "source": [
    "# Pandas Course"
   ]
  },
  {
   "cell_type": "code",
   "execution_count": 1,
   "metadata": {
    "slideshow": {
     "slide_type": "fragment"
    }
   },
   "outputs": [],
   "source": [
    "import numpy as np\n",
    "import pandas as pd"
   ]
  },
  {
   "cell_type": "markdown",
   "metadata": {},
   "source": [
    "## 1. Array\n",
    "A array can be a one dimensional array (row), or an ndimensional array"
   ]
  },
  {
   "cell_type": "code",
   "execution_count": 2,
   "metadata": {
    "slideshow": {
     "slide_type": "skip"
    }
   },
   "outputs": [
    {
     "data": {
      "text/plain": [
       "array([0.34133224, 0.17746337, 0.67271822])"
      ]
     },
     "execution_count": 2,
     "metadata": {},
     "output_type": "execute_result"
    }
   ],
   "source": [
    "sample_array = np.random.rand(3)\n",
    "sample_array"
   ]
  },
  {
   "cell_type": "markdown",
   "metadata": {},
   "source": [
    "## 2. Series\n",
    "Series is a one-dimensional labeled array capable of holding any data type (integers, strings, floating point numbers, Python objects, etc.). The axis labels are collectively referred to as the index. The basic method to create a Series is to call:\n",
    "\n",
    "```python\n",
    "s = pd.Series(data, index=index)\n",
    "```"
   ]
  },
  {
   "cell_type": "markdown",
   "metadata": {},
   "source": [
    "### 2.1 Series data\n",
    "Here, data can be many different things:\n",
    "\n",
    "* a Python dict\n",
    "* an ndarray\n",
    "* a scalar value (like 5)"
   ]
  },
  {
   "cell_type": "markdown",
   "metadata": {},
   "source": [
    "#### 2.1.1 Array"
   ]
  },
  {
   "cell_type": "code",
   "execution_count": 3,
   "metadata": {},
   "outputs": [
    {
     "data": {
      "text/plain": [
       "0    1\n",
       "1    2\n",
       "2    3\n",
       "dtype: int64"
      ]
     },
     "execution_count": 3,
     "metadata": {},
     "output_type": "execute_result"
    }
   ],
   "source": [
    "sample_series = pd.Series([1,2,3])\n",
    "sample_series"
   ]
  },
  {
   "cell_type": "code",
   "execution_count": 4,
   "metadata": {},
   "outputs": [
    {
     "data": {
      "text/plain": [
       "0    0.341332\n",
       "1    0.177463\n",
       "2    0.672718\n",
       "dtype: float64"
      ]
     },
     "execution_count": 4,
     "metadata": {},
     "output_type": "execute_result"
    }
   ],
   "source": [
    "sample_series_array = pd.Series(sample_array)\n",
    "sample_series_array"
   ]
  },
  {
   "cell_type": "markdown",
   "metadata": {},
   "source": [
    "#### 2.1.2 Dict"
   ]
  },
  {
   "cell_type": "code",
   "execution_count": 5,
   "metadata": {},
   "outputs": [
    {
     "data": {
      "text/plain": [
       "a1    2\n",
       "a2    b\n",
       "dtype: object"
      ]
     },
     "execution_count": 5,
     "metadata": {},
     "output_type": "execute_result"
    }
   ],
   "source": [
    "sample_series_dict = pd.Series({'a1': 2, 'a2': 'b'})\n",
    "sample_series_dict"
   ]
  },
  {
   "cell_type": "markdown",
   "metadata": {},
   "source": [
    "#### 2.1.3 Scalar"
   ]
  },
  {
   "cell_type": "code",
   "execution_count": 6,
   "metadata": {},
   "outputs": [
    {
     "data": {
      "text/plain": [
       "a    5.1\n",
       "b    5.1\n",
       "c    5.1\n",
       "d    5.1\n",
       "e    5.1\n",
       "dtype: float64"
      ]
     },
     "execution_count": 6,
     "metadata": {},
     "output_type": "execute_result"
    }
   ],
   "source": [
    "sample_series_scalar = pd.Series(5.1, index=['a', 'b', 'c', 'd', 'e'])\n",
    "sample_series_scalar"
   ]
  },
  {
   "cell_type": "markdown",
   "metadata": {},
   "source": [
    "### 2.2 Index"
   ]
  },
  {
   "cell_type": "code",
   "execution_count": 7,
   "metadata": {},
   "outputs": [
    {
     "data": {
      "text/plain": [
       "a    1\n",
       "b    2\n",
       "c    3\n",
       "dtype: int64"
      ]
     },
     "execution_count": 7,
     "metadata": {},
     "output_type": "execute_result"
    }
   ],
   "source": [
    "sample_series = pd.Series([1,2,3], index=['a', 'b', 'c'])\n",
    "sample_series"
   ]
  },
  {
   "cell_type": "markdown",
   "metadata": {},
   "source": [
    "## 2.3 Slicing"
   ]
  },
  {
   "cell_type": "code",
   "execution_count": 8,
   "metadata": {},
   "outputs": [
    {
     "data": {
      "text/plain": [
       "1"
      ]
     },
     "execution_count": 8,
     "metadata": {},
     "output_type": "execute_result"
    }
   ],
   "source": [
    "sample_series[0]"
   ]
  },
  {
   "cell_type": "markdown",
   "metadata": {},
   "source": [
    "_Slicing more than one record, also slices the index_"
   ]
  },
  {
   "cell_type": "code",
   "execution_count": 9,
   "metadata": {},
   "outputs": [
    {
     "data": {
      "text/plain": [
       "b    2\n",
       "c    3\n",
       "dtype: int64"
      ]
     },
     "execution_count": 9,
     "metadata": {},
     "output_type": "execute_result"
    }
   ],
   "source": [
    "sample_series[1:]"
   ]
  },
  {
   "cell_type": "markdown",
   "metadata": {},
   "source": [
    "As the series is indexed, it also behaves like a dictionary"
   ]
  },
  {
   "cell_type": "code",
   "execution_count": 10,
   "metadata": {},
   "outputs": [
    {
     "data": {
      "text/plain": [
       "2"
      ]
     },
     "execution_count": 10,
     "metadata": {},
     "output_type": "execute_result"
    }
   ],
   "source": [
    "sample_series['b']"
   ]
  },
  {
   "cell_type": "code",
   "execution_count": 11,
   "metadata": {},
   "outputs": [
    {
     "data": {
      "text/plain": [
       "2"
      ]
     },
     "execution_count": 11,
     "metadata": {},
     "output_type": "execute_result"
    }
   ],
   "source": [
    "sample_series.get('b')"
   ]
  },
  {
   "cell_type": "code",
   "execution_count": 12,
   "metadata": {},
   "outputs": [
    {
     "data": {
      "text/plain": [
       "nan"
      ]
     },
     "execution_count": 12,
     "metadata": {},
     "output_type": "execute_result"
    }
   ],
   "source": [
    "sample_series.get('d', np.nan)"
   ]
  },
  {
   "cell_type": "markdown",
   "metadata": {},
   "source": [
    "## 2.4 Basic Operations"
   ]
  },
  {
   "cell_type": "markdown",
   "metadata": {},
   "source": [
    "Basic operations can be done in series without the need of iterating through each element"
   ]
  },
  {
   "cell_type": "code",
   "execution_count": 13,
   "metadata": {},
   "outputs": [
    {
     "data": {
      "text/plain": [
       "a    2\n",
       "b    4\n",
       "c    6\n",
       "dtype: int64"
      ]
     },
     "execution_count": 13,
     "metadata": {},
     "output_type": "execute_result"
    }
   ],
   "source": [
    "sample_series + sample_series"
   ]
  },
  {
   "cell_type": "code",
   "execution_count": 14,
   "metadata": {},
   "outputs": [
    {
     "data": {
      "text/plain": [
       "a    6\n",
       "b    7\n",
       "c    8\n",
       "dtype: int64"
      ]
     },
     "execution_count": 14,
     "metadata": {},
     "output_type": "execute_result"
    }
   ],
   "source": [
    "sample_series + 5"
   ]
  },
  {
   "cell_type": "markdown",
   "metadata": {},
   "source": [
    "---\n",
    "## 3. DataFrames\n",
    "DataFrame is a 2-dimensional labeled data structure with columns of potentially different types. You can think of it like a spreadsheet or SQL table, or a dict of Series objects. It is generally the most commonly used pandas object. Like Series, DataFrame accepts many different kinds of input:\n",
    "\n",
    "Dict of 1D ndarrays, lists, dicts, or Series\n",
    "- 2-D numpy.ndarray\n",
    "- Structured or record ndarray\n",
    "- A Series\n",
    "- Another DataFrame\n",
    "Along with the data, you can optionally pass index (row labels) and columns (column labels) arguments. If you pass an index and / or columns, you are guaranteeing the index and / or columns of the resulting DataFrame. Thus, a dict of Series plus a specific index will discard all data not matching up to the passed index."
   ]
  },
  {
   "cell_type": "markdown",
   "metadata": {},
   "source": [
    "## 3.1 Data\n",
    "### 3.1.1 Union of 2 dictionaries of series"
   ]
  },
  {
   "cell_type": "code",
   "execution_count": 15,
   "metadata": {},
   "outputs": [
    {
     "data": {
      "text/html": [
       "<div>\n",
       "<style scoped>\n",
       "    .dataframe tbody tr th:only-of-type {\n",
       "        vertical-align: middle;\n",
       "    }\n",
       "\n",
       "    .dataframe tbody tr th {\n",
       "        vertical-align: top;\n",
       "    }\n",
       "\n",
       "    .dataframe thead th {\n",
       "        text-align: right;\n",
       "    }\n",
       "</style>\n",
       "<table border=\"1\" class=\"dataframe\">\n",
       "  <thead>\n",
       "    <tr style=\"text-align: right;\">\n",
       "      <th></th>\n",
       "      <th>one</th>\n",
       "      <th>two</th>\n",
       "    </tr>\n",
       "  </thead>\n",
       "  <tbody>\n",
       "    <tr>\n",
       "      <th>a</th>\n",
       "      <td>1.0</td>\n",
       "      <td>1.0</td>\n",
       "    </tr>\n",
       "    <tr>\n",
       "      <th>b</th>\n",
       "      <td>2.0</td>\n",
       "      <td>2.0</td>\n",
       "    </tr>\n",
       "    <tr>\n",
       "      <th>c</th>\n",
       "      <td>3.0</td>\n",
       "      <td>3.0</td>\n",
       "    </tr>\n",
       "    <tr>\n",
       "      <th>d</th>\n",
       "      <td>NaN</td>\n",
       "      <td>4.0</td>\n",
       "    </tr>\n",
       "  </tbody>\n",
       "</table>\n",
       "</div>"
      ],
      "text/plain": [
       "   one  two\n",
       "a  1.0  1.0\n",
       "b  2.0  2.0\n",
       "c  3.0  3.0\n",
       "d  NaN  4.0"
      ]
     },
     "execution_count": 15,
     "metadata": {},
     "output_type": "execute_result"
    }
   ],
   "source": [
    "# Union of 2 dict of Series \n",
    "d = {\n",
    "    'one': pd.Series([1., 2., 3.], index=['a', 'b', 'c']),\n",
    "    'two': pd.Series([1., 2., 3., 4.], index=['a', 'b', 'c', 'd'])\n",
    "}\n",
    "sample_pd_df=pd.DataFrame(d)\n",
    "sample_pd_df"
   ]
  },
  {
   "cell_type": "markdown",
   "metadata": {},
   "source": [
    "### 3.1.2 Union of Dictionary of Dictionaries"
   ]
  },
  {
   "cell_type": "code",
   "execution_count": 16,
   "metadata": {},
   "outputs": [
    {
     "data": {
      "text/html": [
       "<div>\n",
       "<style scoped>\n",
       "    .dataframe tbody tr th:only-of-type {\n",
       "        vertical-align: middle;\n",
       "    }\n",
       "\n",
       "    .dataframe tbody tr th {\n",
       "        vertical-align: top;\n",
       "    }\n",
       "\n",
       "    .dataframe thead th {\n",
       "        text-align: right;\n",
       "    }\n",
       "</style>\n",
       "<table border=\"1\" class=\"dataframe\">\n",
       "  <thead>\n",
       "    <tr style=\"text-align: right;\">\n",
       "      <th></th>\n",
       "      <th>one</th>\n",
       "      <th>two</th>\n",
       "    </tr>\n",
       "  </thead>\n",
       "  <tbody>\n",
       "    <tr>\n",
       "      <th>a</th>\n",
       "      <td>1.0</td>\n",
       "      <td>1</td>\n",
       "    </tr>\n",
       "    <tr>\n",
       "      <th>b</th>\n",
       "      <td>2.0</td>\n",
       "      <td>NaN</td>\n",
       "    </tr>\n",
       "    <tr>\n",
       "      <th>c</th>\n",
       "      <td>NaN</td>\n",
       "      <td>d</td>\n",
       "    </tr>\n",
       "  </tbody>\n",
       "</table>\n",
       "</div>"
      ],
      "text/plain": [
       "   one  two\n",
       "a  1.0    1\n",
       "b  2.0  NaN\n",
       "c  NaN    d"
      ]
     },
     "execution_count": 16,
     "metadata": {},
     "output_type": "execute_result"
    }
   ],
   "source": [
    "# Union of 2 Dict or dicts\n",
    "d = {\n",
    "    'one': {'a':1, 'b':2}, 'two': {'a':1, 'c':'d'}\n",
    "}\n",
    "sample_pd_df2=pd.DataFrame(d)\n",
    "sample_pd_df2"
   ]
  },
  {
   "cell_type": "markdown",
   "metadata": {},
   "source": [
    "### 3.1.3 Union of Dictionary of Arrays"
   ]
  },
  {
   "cell_type": "code",
   "execution_count": 17,
   "metadata": {},
   "outputs": [
    {
     "data": {
      "text/html": [
       "<div>\n",
       "<style scoped>\n",
       "    .dataframe tbody tr th:only-of-type {\n",
       "        vertical-align: middle;\n",
       "    }\n",
       "\n",
       "    .dataframe tbody tr th {\n",
       "        vertical-align: top;\n",
       "    }\n",
       "\n",
       "    .dataframe thead th {\n",
       "        text-align: right;\n",
       "    }\n",
       "</style>\n",
       "<table border=\"1\" class=\"dataframe\">\n",
       "  <thead>\n",
       "    <tr style=\"text-align: right;\">\n",
       "      <th></th>\n",
       "      <th>one</th>\n",
       "      <th>two</th>\n",
       "    </tr>\n",
       "  </thead>\n",
       "  <tbody>\n",
       "    <tr>\n",
       "      <th>0</th>\n",
       "      <td>1.0</td>\n",
       "      <td>4.0</td>\n",
       "    </tr>\n",
       "    <tr>\n",
       "      <th>1</th>\n",
       "      <td>2.0</td>\n",
       "      <td>3.0</td>\n",
       "    </tr>\n",
       "    <tr>\n",
       "      <th>2</th>\n",
       "      <td>3.0</td>\n",
       "      <td>2.0</td>\n",
       "    </tr>\n",
       "    <tr>\n",
       "      <th>3</th>\n",
       "      <td>4.0</td>\n",
       "      <td>1.0</td>\n",
       "    </tr>\n",
       "  </tbody>\n",
       "</table>\n",
       "</div>"
      ],
      "text/plain": [
       "   one  two\n",
       "0  1.0  4.0\n",
       "1  2.0  3.0\n",
       "2  3.0  2.0\n",
       "3  4.0  1.0"
      ]
     },
     "execution_count": 17,
     "metadata": {},
     "output_type": "execute_result"
    }
   ],
   "source": [
    "d = {'one': [1., 2., 3., 4.],'two': [4., 3., 2., 1.]}\n",
    "pd.DataFrame(d)"
   ]
  },
  {
   "cell_type": "code",
   "execution_count": 18,
   "metadata": {},
   "outputs": [
    {
     "data": {
      "text/html": [
       "<div>\n",
       "<style scoped>\n",
       "    .dataframe tbody tr th:only-of-type {\n",
       "        vertical-align: middle;\n",
       "    }\n",
       "\n",
       "    .dataframe tbody tr th {\n",
       "        vertical-align: top;\n",
       "    }\n",
       "\n",
       "    .dataframe thead th {\n",
       "        text-align: right;\n",
       "    }\n",
       "</style>\n",
       "<table border=\"1\" class=\"dataframe\">\n",
       "  <thead>\n",
       "    <tr style=\"text-align: right;\">\n",
       "      <th></th>\n",
       "      <th>one</th>\n",
       "      <th>two</th>\n",
       "    </tr>\n",
       "  </thead>\n",
       "  <tbody>\n",
       "    <tr>\n",
       "      <th>a</th>\n",
       "      <td>1.0</td>\n",
       "      <td>4.0</td>\n",
       "    </tr>\n",
       "    <tr>\n",
       "      <th>b</th>\n",
       "      <td>2.0</td>\n",
       "      <td>3.0</td>\n",
       "    </tr>\n",
       "    <tr>\n",
       "      <th>c</th>\n",
       "      <td>3.0</td>\n",
       "      <td>2.0</td>\n",
       "    </tr>\n",
       "    <tr>\n",
       "      <th>d</th>\n",
       "      <td>4.0</td>\n",
       "      <td>1.0</td>\n",
       "    </tr>\n",
       "  </tbody>\n",
       "</table>\n",
       "</div>"
      ],
      "text/plain": [
       "   one  two\n",
       "a  1.0  4.0\n",
       "b  2.0  3.0\n",
       "c  3.0  2.0\n",
       "d  4.0  1.0"
      ]
     },
     "execution_count": 18,
     "metadata": {},
     "output_type": "execute_result"
    }
   ],
   "source": [
    "pd.DataFrame(d, index=['a', 'b', 'c', 'd']) # Adding Index"
   ]
  },
  {
   "cell_type": "markdown",
   "metadata": {},
   "source": [
    "### 3.1.3 Appending series"
   ]
  },
  {
   "cell_type": "code",
   "execution_count": 19,
   "metadata": {},
   "outputs": [],
   "source": [
    "data = np.zeros((2, ), dtype=[('A', 'i4'), ('B', 'f4'), ('C', 'a10')])"
   ]
  },
  {
   "cell_type": "code",
   "execution_count": 20,
   "metadata": {},
   "outputs": [
    {
     "data": {
      "text/plain": [
       "array([(1, 2., b'Hello'), (2, 3., b'World')],\n",
       "      dtype=[('A', '<i4'), ('B', '<f4'), ('C', 'S10')])"
      ]
     },
     "execution_count": 20,
     "metadata": {},
     "output_type": "execute_result"
    }
   ],
   "source": [
    "data[:] = [(1, 2., 'Hello'), (2, 3., \"World\")]\n",
    "data"
   ]
  },
  {
   "cell_type": "code",
   "execution_count": 21,
   "metadata": {},
   "outputs": [
    {
     "data": {
      "text/html": [
       "<div>\n",
       "<style scoped>\n",
       "    .dataframe tbody tr th:only-of-type {\n",
       "        vertical-align: middle;\n",
       "    }\n",
       "\n",
       "    .dataframe tbody tr th {\n",
       "        vertical-align: top;\n",
       "    }\n",
       "\n",
       "    .dataframe thead th {\n",
       "        text-align: right;\n",
       "    }\n",
       "</style>\n",
       "<table border=\"1\" class=\"dataframe\">\n",
       "  <thead>\n",
       "    <tr style=\"text-align: right;\">\n",
       "      <th></th>\n",
       "      <th>A</th>\n",
       "      <th>B</th>\n",
       "      <th>C</th>\n",
       "    </tr>\n",
       "  </thead>\n",
       "  <tbody>\n",
       "    <tr>\n",
       "      <th>a</th>\n",
       "      <td>1</td>\n",
       "      <td>2.0</td>\n",
       "      <td>b'Hello'</td>\n",
       "    </tr>\n",
       "    <tr>\n",
       "      <th>b</th>\n",
       "      <td>2</td>\n",
       "      <td>3.0</td>\n",
       "      <td>b'World'</td>\n",
       "    </tr>\n",
       "  </tbody>\n",
       "</table>\n",
       "</div>"
      ],
      "text/plain": [
       "   A    B         C\n",
       "a  1  2.0  b'Hello'\n",
       "b  2  3.0  b'World'"
      ]
     },
     "execution_count": 21,
     "metadata": {},
     "output_type": "execute_result"
    }
   ],
   "source": [
    "pd.DataFrame(data, index=['a', 'b'])"
   ]
  },
  {
   "cell_type": "markdown",
   "metadata": {},
   "source": [
    "---\n",
    "## Importing Data"
   ]
  },
  {
   "cell_type": "code",
   "execution_count": 22,
   "metadata": {},
   "outputs": [
    {
     "data": {
      "text/html": [
       "<div>\n",
       "<style scoped>\n",
       "    .dataframe tbody tr th:only-of-type {\n",
       "        vertical-align: middle;\n",
       "    }\n",
       "\n",
       "    .dataframe tbody tr th {\n",
       "        vertical-align: top;\n",
       "    }\n",
       "\n",
       "    .dataframe thead th {\n",
       "        text-align: right;\n",
       "    }\n",
       "</style>\n",
       "<table border=\"1\" class=\"dataframe\">\n",
       "  <thead>\n",
       "    <tr style=\"text-align: right;\">\n",
       "      <th></th>\n",
       "      <th>accession_number</th>\n",
       "      <th>artist</th>\n",
       "      <th>artistRole</th>\n",
       "      <th>artistId</th>\n",
       "      <th>title</th>\n",
       "      <th>dateText</th>\n",
       "      <th>medium</th>\n",
       "      <th>creditLine</th>\n",
       "      <th>year</th>\n",
       "      <th>acquisitionYear</th>\n",
       "      <th>dimensions</th>\n",
       "      <th>width</th>\n",
       "      <th>height</th>\n",
       "      <th>depth</th>\n",
       "      <th>units</th>\n",
       "      <th>inscription</th>\n",
       "      <th>thumbnailCopyright</th>\n",
       "      <th>thumbnailUrl</th>\n",
       "      <th>url</th>\n",
       "    </tr>\n",
       "    <tr>\n",
       "      <th>id</th>\n",
       "      <th></th>\n",
       "      <th></th>\n",
       "      <th></th>\n",
       "      <th></th>\n",
       "      <th></th>\n",
       "      <th></th>\n",
       "      <th></th>\n",
       "      <th></th>\n",
       "      <th></th>\n",
       "      <th></th>\n",
       "      <th></th>\n",
       "      <th></th>\n",
       "      <th></th>\n",
       "      <th></th>\n",
       "      <th></th>\n",
       "      <th></th>\n",
       "      <th></th>\n",
       "      <th></th>\n",
       "      <th></th>\n",
       "    </tr>\n",
       "  </thead>\n",
       "  <tbody>\n",
       "    <tr>\n",
       "      <th>1035</th>\n",
       "      <td>A00001</td>\n",
       "      <td>Blake, Robert</td>\n",
       "      <td>artist</td>\n",
       "      <td>38</td>\n",
       "      <td>A Figure Bowing before a Seated Old Man with h...</td>\n",
       "      <td>date not known</td>\n",
       "      <td>Watercolour, ink, chalk and graphite on paper....</td>\n",
       "      <td>Presented by Mrs John Richmond 1922</td>\n",
       "      <td>NaN</td>\n",
       "      <td>1922</td>\n",
       "      <td>support: 394 x 419 mm</td>\n",
       "      <td>394</td>\n",
       "      <td>419</td>\n",
       "      <td>NaN</td>\n",
       "      <td>mm</td>\n",
       "      <td>NaN</td>\n",
       "      <td>NaN</td>\n",
       "      <td>http://www.tate.org.uk/art/images/work/A/A00/A...</td>\n",
       "      <td>http://www.tate.org.uk/art/artworks/blake-a-fi...</td>\n",
       "    </tr>\n",
       "    <tr>\n",
       "      <th>1036</th>\n",
       "      <td>A00002</td>\n",
       "      <td>Blake, Robert</td>\n",
       "      <td>artist</td>\n",
       "      <td>38</td>\n",
       "      <td>Two Drawings of Frightened Figures, Probably f...</td>\n",
       "      <td>date not known</td>\n",
       "      <td>Graphite on paper</td>\n",
       "      <td>Presented by Mrs John Richmond 1922</td>\n",
       "      <td>NaN</td>\n",
       "      <td>1922</td>\n",
       "      <td>support: 311 x 213 mm</td>\n",
       "      <td>311</td>\n",
       "      <td>213</td>\n",
       "      <td>NaN</td>\n",
       "      <td>mm</td>\n",
       "      <td>NaN</td>\n",
       "      <td>NaN</td>\n",
       "      <td>http://www.tate.org.uk/art/images/work/A/A00/A...</td>\n",
       "      <td>http://www.tate.org.uk/art/artworks/blake-two-...</td>\n",
       "    </tr>\n",
       "    <tr>\n",
       "      <th>1037</th>\n",
       "      <td>A00003</td>\n",
       "      <td>Blake, Robert</td>\n",
       "      <td>artist</td>\n",
       "      <td>38</td>\n",
       "      <td>The Preaching of Warning. Verso: An Old Man En...</td>\n",
       "      <td>?c.1785</td>\n",
       "      <td>Graphite on paper. Verso: graphite on paper</td>\n",
       "      <td>Presented by Mrs John Richmond 1922</td>\n",
       "      <td>1785.0</td>\n",
       "      <td>1922</td>\n",
       "      <td>support: 343 x 467 mm</td>\n",
       "      <td>343</td>\n",
       "      <td>467</td>\n",
       "      <td>NaN</td>\n",
       "      <td>mm</td>\n",
       "      <td>NaN</td>\n",
       "      <td>NaN</td>\n",
       "      <td>http://www.tate.org.uk/art/images/work/A/A00/A...</td>\n",
       "      <td>http://www.tate.org.uk/art/artworks/blake-the-...</td>\n",
       "    </tr>\n",
       "    <tr>\n",
       "      <th>1038</th>\n",
       "      <td>A00004</td>\n",
       "      <td>Blake, Robert</td>\n",
       "      <td>artist</td>\n",
       "      <td>38</td>\n",
       "      <td>Six Drawings of Figures with Outstretched Arms</td>\n",
       "      <td>date not known</td>\n",
       "      <td>Graphite on paper</td>\n",
       "      <td>Presented by Mrs John Richmond 1922</td>\n",
       "      <td>NaN</td>\n",
       "      <td>1922</td>\n",
       "      <td>support: 318 x 394 mm</td>\n",
       "      <td>318</td>\n",
       "      <td>394</td>\n",
       "      <td>NaN</td>\n",
       "      <td>mm</td>\n",
       "      <td>NaN</td>\n",
       "      <td>NaN</td>\n",
       "      <td>http://www.tate.org.uk/art/images/work/A/A00/A...</td>\n",
       "      <td>http://www.tate.org.uk/art/artworks/blake-six-...</td>\n",
       "    </tr>\n",
       "    <tr>\n",
       "      <th>1039</th>\n",
       "      <td>A00005</td>\n",
       "      <td>Blake, William</td>\n",
       "      <td>artist</td>\n",
       "      <td>39</td>\n",
       "      <td>The Circle of the Lustful: Francesca da Rimini...</td>\n",
       "      <td>1826–7, reprinted 1892</td>\n",
       "      <td>Line engraving on paper</td>\n",
       "      <td>Purchased with the assistance of a special gra...</td>\n",
       "      <td>1826.0</td>\n",
       "      <td>1919</td>\n",
       "      <td>image: 243 x 335 mm</td>\n",
       "      <td>243</td>\n",
       "      <td>335</td>\n",
       "      <td>NaN</td>\n",
       "      <td>mm</td>\n",
       "      <td>NaN</td>\n",
       "      <td>NaN</td>\n",
       "      <td>http://www.tate.org.uk/art/images/work/A/A00/A...</td>\n",
       "      <td>http://www.tate.org.uk/art/artworks/blake-the-...</td>\n",
       "    </tr>\n",
       "  </tbody>\n",
       "</table>\n",
       "</div>"
      ],
      "text/plain": [
       "     accession_number          artist artistRole  artistId  \\\n",
       "id                                                           \n",
       "1035           A00001   Blake, Robert     artist        38   \n",
       "1036           A00002   Blake, Robert     artist        38   \n",
       "1037           A00003   Blake, Robert     artist        38   \n",
       "1038           A00004   Blake, Robert     artist        38   \n",
       "1039           A00005  Blake, William     artist        39   \n",
       "\n",
       "                                                  title  \\\n",
       "id                                                        \n",
       "1035  A Figure Bowing before a Seated Old Man with h...   \n",
       "1036  Two Drawings of Frightened Figures, Probably f...   \n",
       "1037  The Preaching of Warning. Verso: An Old Man En...   \n",
       "1038     Six Drawings of Figures with Outstretched Arms   \n",
       "1039  The Circle of the Lustful: Francesca da Rimini...   \n",
       "\n",
       "                    dateText  \\\n",
       "id                             \n",
       "1035          date not known   \n",
       "1036          date not known   \n",
       "1037                 ?c.1785   \n",
       "1038          date not known   \n",
       "1039  1826–7, reprinted 1892   \n",
       "\n",
       "                                                 medium  \\\n",
       "id                                                        \n",
       "1035  Watercolour, ink, chalk and graphite on paper....   \n",
       "1036                                  Graphite on paper   \n",
       "1037        Graphite on paper. Verso: graphite on paper   \n",
       "1038                                  Graphite on paper   \n",
       "1039                            Line engraving on paper   \n",
       "\n",
       "                                             creditLine    year  \\\n",
       "id                                                                \n",
       "1035                Presented by Mrs John Richmond 1922     NaN   \n",
       "1036                Presented by Mrs John Richmond 1922     NaN   \n",
       "1037                Presented by Mrs John Richmond 1922  1785.0   \n",
       "1038                Presented by Mrs John Richmond 1922     NaN   \n",
       "1039  Purchased with the assistance of a special gra...  1826.0   \n",
       "\n",
       "      acquisitionYear             dimensions  width  height  depth units  \\\n",
       "id                                                                         \n",
       "1035             1922  support: 394 x 419 mm    394     419    NaN    mm   \n",
       "1036             1922  support: 311 x 213 mm    311     213    NaN    mm   \n",
       "1037             1922  support: 343 x 467 mm    343     467    NaN    mm   \n",
       "1038             1922  support: 318 x 394 mm    318     394    NaN    mm   \n",
       "1039             1919    image: 243 x 335 mm    243     335    NaN    mm   \n",
       "\n",
       "      inscription  thumbnailCopyright  \\\n",
       "id                                      \n",
       "1035          NaN                 NaN   \n",
       "1036          NaN                 NaN   \n",
       "1037          NaN                 NaN   \n",
       "1038          NaN                 NaN   \n",
       "1039          NaN                 NaN   \n",
       "\n",
       "                                           thumbnailUrl  \\\n",
       "id                                                        \n",
       "1035  http://www.tate.org.uk/art/images/work/A/A00/A...   \n",
       "1036  http://www.tate.org.uk/art/images/work/A/A00/A...   \n",
       "1037  http://www.tate.org.uk/art/images/work/A/A00/A...   \n",
       "1038  http://www.tate.org.uk/art/images/work/A/A00/A...   \n",
       "1039  http://www.tate.org.uk/art/images/work/A/A00/A...   \n",
       "\n",
       "                                                    url  \n",
       "id                                                       \n",
       "1035  http://www.tate.org.uk/art/artworks/blake-a-fi...  \n",
       "1036  http://www.tate.org.uk/art/artworks/blake-two-...  \n",
       "1037  http://www.tate.org.uk/art/artworks/blake-the-...  \n",
       "1038  http://www.tate.org.uk/art/artworks/blake-six-...  \n",
       "1039  http://www.tate.org.uk/art/artworks/blake-the-...  "
      ]
     },
     "execution_count": 22,
     "metadata": {},
     "output_type": "execute_result"
    }
   ],
   "source": [
    "import os\n",
    "df_sample =pd.read_csv(os.path.join('.', 'collection-master', 'artwork_data.csv'), nrows=5, index_col='id'\n",
    "                      )\n",
    "df_sample\n",
    "# pd.read_csv(os.path.join('.', 'collection-master', 'artwork_data.csv'))"
   ]
  },
  {
   "cell_type": "code",
   "execution_count": 23,
   "metadata": {},
   "outputs": [
    {
     "name": "stderr",
     "output_type": "stream",
     "text": [
      "/Users/angelsaiz/anaconda3/lib/python3.7/site-packages/IPython/core/interactiveshell.py:3020: DtypeWarning: Columns (9,13) have mixed types. Specify dtype option on import or set low_memory=False.\n",
      "  interactivity=interactivity, compiler=compiler, result=result)\n"
     ]
    }
   ],
   "source": [
    "columns_to_use = ['id', 'title', 'artist', 'medium', 'year', 'acquisitionYear', 'height', 'width', 'units']\n",
    "df_sample_c =pd.read_csv(os.path.join('.', 'collection-master', 'artwork_data.csv'), nrows=5, index_col='id', \n",
    "                       usecols=columns_to_use\n",
    "                      )\n",
    "df_sample_c\n",
    "df =pd.read_csv(os.path.join('.', 'collection-master', 'artwork_data.csv'), index_col='id', \n",
    "                       usecols=columns_to_use\n",
    "                      )"
   ]
  },
  {
   "cell_type": "code",
   "execution_count": 24,
   "metadata": {},
   "outputs": [],
   "source": [
    "df.to_pickle('df.pickle') ## save for later"
   ]
  },
  {
   "cell_type": "code",
   "execution_count": 25,
   "metadata": {},
   "outputs": [
    {
     "data": {
      "text/html": [
       "<div>\n",
       "<style scoped>\n",
       "    .dataframe tbody tr th:only-of-type {\n",
       "        vertical-align: middle;\n",
       "    }\n",
       "\n",
       "    .dataframe tbody tr th {\n",
       "        vertical-align: top;\n",
       "    }\n",
       "\n",
       "    .dataframe thead th {\n",
       "        text-align: right;\n",
       "    }\n",
       "</style>\n",
       "<table border=\"1\" class=\"dataframe\">\n",
       "  <thead>\n",
       "    <tr style=\"text-align: right;\">\n",
       "      <th></th>\n",
       "      <th>Value</th>\n",
       "    </tr>\n",
       "    <tr>\n",
       "      <th>Item</th>\n",
       "      <th></th>\n",
       "    </tr>\n",
       "  </thead>\n",
       "  <tbody>\n",
       "    <tr>\n",
       "      <th>Expresso</th>\n",
       "      <td>5$</td>\n",
       "    </tr>\n",
       "    <tr>\n",
       "      <th>Flat White</th>\n",
       "      <td>$6</td>\n",
       "    </tr>\n",
       "  </tbody>\n",
       "</table>\n",
       "</div>"
      ],
      "text/plain": [
       "           Value\n",
       "Item            \n",
       "Expresso      5$\n",
       "Flat White    $6"
      ]
     },
     "execution_count": 25,
     "metadata": {},
     "output_type": "execute_result"
    }
   ],
   "source": [
    "import json\n",
    "records  = [('Expresso', '5$'), ('Flat White', '$6')]\n",
    "pd.DataFrame.from_records(records, columns=['Item', 'Value'], index='Item')"
   ]
  },
  {
   "cell_type": "code",
   "execution_count": 26,
   "metadata": {},
   "outputs": [],
   "source": [
    "keys_to_use = ['id', 'all_artists', 'title', 'medium', 'acquisitionYear', 'height', 'width']\n",
    "def get_record_from_file (filepath, keys_to_use):\n",
    "    \"\"\"Outputs tuple with record data given a json\"\"\"\n",
    "    with open(filepath) as artwork_files:\n",
    "        content= json.load(artwork_files)\n",
    "    record = []\n",
    "    for key in keys_to_use:\n",
    "        record.append(content[key])\n",
    "    return tuple(record)\n",
    "\n",
    "sample_json = os.path.join('collection-master','artworks', 'a', '000', 'a00001-1035.json')"
   ]
  },
  {
   "cell_type": "code",
   "execution_count": 27,
   "metadata": {},
   "outputs": [
    {
     "data": {
      "text/plain": [
       "(1035,\n",
       " 'Robert Blake',\n",
       " 'A Figure Bowing before a Seated Old Man with his Arm Outstretched in Benediction. Verso: Indecipherable Sketch',\n",
       " 'Watercolour, ink, chalk and graphite on paper. Verso: graphite on paper',\n",
       " 1922,\n",
       " '419',\n",
       " '394')"
      ]
     },
     "execution_count": 27,
     "metadata": {},
     "output_type": "execute_result"
    }
   ],
   "source": [
    "get_record_from_file(sample_json, keys_to_use)"
   ]
  },
  {
   "cell_type": "code",
   "execution_count": 28,
   "metadata": {},
   "outputs": [
    {
     "data": {
      "text/html": [
       "<div>\n",
       "<style scoped>\n",
       "    .dataframe tbody tr th:only-of-type {\n",
       "        vertical-align: middle;\n",
       "    }\n",
       "\n",
       "    .dataframe tbody tr th {\n",
       "        vertical-align: top;\n",
       "    }\n",
       "\n",
       "    .dataframe thead th {\n",
       "        text-align: right;\n",
       "    }\n",
       "</style>\n",
       "<table border=\"1\" class=\"dataframe\">\n",
       "  <thead>\n",
       "    <tr style=\"text-align: right;\">\n",
       "      <th></th>\n",
       "      <th>all_artists</th>\n",
       "      <th>title</th>\n",
       "      <th>medium</th>\n",
       "      <th>acquisitionYear</th>\n",
       "      <th>height</th>\n",
       "      <th>width</th>\n",
       "    </tr>\n",
       "    <tr>\n",
       "      <th>id</th>\n",
       "      <th></th>\n",
       "      <th></th>\n",
       "      <th></th>\n",
       "      <th></th>\n",
       "      <th></th>\n",
       "      <th></th>\n",
       "    </tr>\n",
       "  </thead>\n",
       "  <tbody>\n",
       "    <tr>\n",
       "      <th>6620</th>\n",
       "      <td>William Hogarth</td>\n",
       "      <td>A Scene from ‘The Beggar’s Opera’ VI</td>\n",
       "      <td>Oil paint on canvas</td>\n",
       "      <td>1909</td>\n",
       "      <td>762</td>\n",
       "      <td>572</td>\n",
       "    </tr>\n",
       "    <tr>\n",
       "      <th>5837</th>\n",
       "      <td>Thomas Hand</td>\n",
       "      <td>Cottage and Hilly Landscape</td>\n",
       "      <td>Oil paint on canvas</td>\n",
       "      <td>1909</td>\n",
       "      <td>908</td>\n",
       "      <td>711</td>\n",
       "    </tr>\n",
       "    <tr>\n",
       "      <th>7843</th>\n",
       "      <td>Charles Samuel Keene</td>\n",
       "      <td>Drawing for ‘Punch’</td>\n",
       "      <td>Ink on paper</td>\n",
       "      <td>1909</td>\n",
       "      <td></td>\n",
       "      <td></td>\n",
       "    </tr>\n",
       "    <tr>\n",
       "      <th>7833</th>\n",
       "      <td>Charles Samuel Keene</td>\n",
       "      <td>Drawing for ‘Punch’</td>\n",
       "      <td>Ink on paper</td>\n",
       "      <td>1909</td>\n",
       "      <td></td>\n",
       "      <td></td>\n",
       "    </tr>\n",
       "    <tr>\n",
       "      <th>1586</th>\n",
       "      <td>Ford Madox Brown</td>\n",
       "      <td>Design for Badge for Gillum’s Homes</td>\n",
       "      <td>Ink and graphite on paper</td>\n",
       "      <td>1898</td>\n",
       "      <td>178</td>\n",
       "      <td>114</td>\n",
       "    </tr>\n",
       "    <tr>\n",
       "      <th>7831</th>\n",
       "      <td>Charles Samuel Keene</td>\n",
       "      <td>Drawing for ‘Punch’</td>\n",
       "      <td>Ink on paper</td>\n",
       "      <td>1909</td>\n",
       "      <td></td>\n",
       "      <td></td>\n",
       "    </tr>\n",
       "  </tbody>\n",
       "</table>\n",
       "</div>"
      ],
      "text/plain": [
       "               all_artists                                 title  \\\n",
       "id                                                                 \n",
       "6620       William Hogarth  A Scene from ‘The Beggar’s Opera’ VI   \n",
       "5837           Thomas Hand           Cottage and Hilly Landscape   \n",
       "7843  Charles Samuel Keene                   Drawing for ‘Punch’   \n",
       "7833  Charles Samuel Keene                   Drawing for ‘Punch’   \n",
       "1586      Ford Madox Brown   Design for Badge for Gillum’s Homes   \n",
       "7831  Charles Samuel Keene                   Drawing for ‘Punch’   \n",
       "\n",
       "                         medium  acquisitionYear height width  \n",
       "id                                                             \n",
       "6620        Oil paint on canvas             1909    762   572  \n",
       "5837        Oil paint on canvas             1909    908   711  \n",
       "7843               Ink on paper             1909               \n",
       "7833               Ink on paper             1909               \n",
       "1586  Ink and graphite on paper             1898    178   114  \n",
       "7831               Ink on paper             1909               "
      ]
     },
     "execution_count": 28,
     "metadata": {},
     "output_type": "execute_result"
    }
   ],
   "source": [
    "def read_artworks_from_json(keys_to_use):\n",
    "    root = os.path.join('collection-master', 'artworks')\n",
    "    \n",
    "    artworks=[]\n",
    "    \n",
    "    for dirpath, dirnames, filenames in os.walk(root):\n",
    "        '''check if json'''\n",
    "        for file in filenames:\n",
    "            if len(artworks)<=5:  \n",
    "                if file.endswith('json'):\n",
    "                    artworks.append(get_record_from_file(os.path.join(dirpath, file), keys_to_use))\n",
    "            else:\n",
    "                break\n",
    "    return artworks\n",
    "        \n",
    "\n",
    "pd.DataFrame.from_records(read_artworks_from_json(keys_to_use), columns=keys_to_use, index='id')"
   ]
  },
  {
   "cell_type": "code",
   "execution_count": 29,
   "metadata": {},
   "outputs": [
    {
     "data": {
      "text/html": [
       "<div>\n",
       "<style scoped>\n",
       "    .dataframe tbody tr th:only-of-type {\n",
       "        vertical-align: middle;\n",
       "    }\n",
       "\n",
       "    .dataframe tbody tr th {\n",
       "        vertical-align: top;\n",
       "    }\n",
       "\n",
       "    .dataframe thead th {\n",
       "        text-align: right;\n",
       "    }\n",
       "</style>\n",
       "<table border=\"1\" class=\"dataframe\">\n",
       "  <thead>\n",
       "    <tr style=\"text-align: right;\">\n",
       "      <th></th>\n",
       "      <th>artist</th>\n",
       "      <th>title</th>\n",
       "      <th>medium</th>\n",
       "      <th>year</th>\n",
       "      <th>acquisitionYear</th>\n",
       "      <th>width</th>\n",
       "      <th>height</th>\n",
       "      <th>units</th>\n",
       "    </tr>\n",
       "    <tr>\n",
       "      <th>id</th>\n",
       "      <th></th>\n",
       "      <th></th>\n",
       "      <th></th>\n",
       "      <th></th>\n",
       "      <th></th>\n",
       "      <th></th>\n",
       "      <th></th>\n",
       "      <th></th>\n",
       "    </tr>\n",
       "  </thead>\n",
       "  <tbody>\n",
       "    <tr>\n",
       "      <th>1035</th>\n",
       "      <td>Blake, Robert</td>\n",
       "      <td>A Figure Bowing before a Seated Old Man with h...</td>\n",
       "      <td>Watercolour, ink, chalk and graphite on paper....</td>\n",
       "      <td>NaN</td>\n",
       "      <td>1922.0</td>\n",
       "      <td>394</td>\n",
       "      <td>419</td>\n",
       "      <td>mm</td>\n",
       "    </tr>\n",
       "    <tr>\n",
       "      <th>1036</th>\n",
       "      <td>Blake, Robert</td>\n",
       "      <td>Two Drawings of Frightened Figures, Probably f...</td>\n",
       "      <td>Graphite on paper</td>\n",
       "      <td>NaN</td>\n",
       "      <td>1922.0</td>\n",
       "      <td>311</td>\n",
       "      <td>213</td>\n",
       "      <td>mm</td>\n",
       "    </tr>\n",
       "    <tr>\n",
       "      <th>1037</th>\n",
       "      <td>Blake, Robert</td>\n",
       "      <td>The Preaching of Warning. Verso: An Old Man En...</td>\n",
       "      <td>Graphite on paper. Verso: graphite on paper</td>\n",
       "      <td>1785</td>\n",
       "      <td>1922.0</td>\n",
       "      <td>343</td>\n",
       "      <td>467</td>\n",
       "      <td>mm</td>\n",
       "    </tr>\n",
       "    <tr>\n",
       "      <th>1038</th>\n",
       "      <td>Blake, Robert</td>\n",
       "      <td>Six Drawings of Figures with Outstretched Arms</td>\n",
       "      <td>Graphite on paper</td>\n",
       "      <td>NaN</td>\n",
       "      <td>1922.0</td>\n",
       "      <td>318</td>\n",
       "      <td>394</td>\n",
       "      <td>mm</td>\n",
       "    </tr>\n",
       "    <tr>\n",
       "      <th>1039</th>\n",
       "      <td>Blake, William</td>\n",
       "      <td>The Circle of the Lustful: Francesca da Rimini...</td>\n",
       "      <td>Line engraving on paper</td>\n",
       "      <td>1826</td>\n",
       "      <td>1919.0</td>\n",
       "      <td>243</td>\n",
       "      <td>335</td>\n",
       "      <td>mm</td>\n",
       "    </tr>\n",
       "  </tbody>\n",
       "</table>\n",
       "</div>"
      ],
      "text/plain": [
       "              artist                                              title  \\\n",
       "id                                                                        \n",
       "1035   Blake, Robert  A Figure Bowing before a Seated Old Man with h...   \n",
       "1036   Blake, Robert  Two Drawings of Frightened Figures, Probably f...   \n",
       "1037   Blake, Robert  The Preaching of Warning. Verso: An Old Man En...   \n",
       "1038   Blake, Robert     Six Drawings of Figures with Outstretched Arms   \n",
       "1039  Blake, William  The Circle of the Lustful: Francesca da Rimini...   \n",
       "\n",
       "                                                 medium  year  \\\n",
       "id                                                              \n",
       "1035  Watercolour, ink, chalk and graphite on paper....   NaN   \n",
       "1036                                  Graphite on paper   NaN   \n",
       "1037        Graphite on paper. Verso: graphite on paper  1785   \n",
       "1038                                  Graphite on paper   NaN   \n",
       "1039                            Line engraving on paper  1826   \n",
       "\n",
       "      acquisitionYear width height units  \n",
       "id                                        \n",
       "1035           1922.0   394    419    mm  \n",
       "1036           1922.0   311    213    mm  \n",
       "1037           1922.0   343    467    mm  \n",
       "1038           1922.0   318    394    mm  \n",
       "1039           1919.0   243    335    mm  "
      ]
     },
     "execution_count": 29,
     "metadata": {},
     "output_type": "execute_result"
    }
   ],
   "source": [
    "df = pd.read_pickle('df.pickle')\n",
    "df.head()"
   ]
  },
  {
   "cell_type": "markdown",
   "metadata": {},
   "source": [
    "## Manipulations\n",
    "### Select and count unique"
   ]
  },
  {
   "cell_type": "code",
   "execution_count": 30,
   "metadata": {},
   "outputs": [
    {
     "data": {
      "text/plain": [
       "3336"
      ]
     },
     "execution_count": 30,
     "metadata": {},
     "output_type": "execute_result"
    }
   ],
   "source": [
    "artists = df['artist']\n",
    "len(artists.unique())"
   ]
  },
  {
   "cell_type": "markdown",
   "metadata": {},
   "source": [
    "## Filtering"
   ]
  },
  {
   "cell_type": "markdown",
   "metadata": {},
   "source": [
    "Filtering can be done as shown in [SQL vs Pandas](https://pandas.pydata.org/pandas-docs/stable/getting_started/comparison/comparison_with_sql.html)\n",
    "\n",
    "1. Using [Boolean indexing](https://pandas.pydata.org/pandas-docs/stable/indexing.html#boolean-indexing)"
   ]
  },
  {
   "cell_type": "code",
   "execution_count": 31,
   "metadata": {},
   "outputs": [
    {
     "data": {
      "text/html": [
       "<div>\n",
       "<style scoped>\n",
       "    .dataframe tbody tr th:only-of-type {\n",
       "        vertical-align: middle;\n",
       "    }\n",
       "\n",
       "    .dataframe tbody tr th {\n",
       "        vertical-align: top;\n",
       "    }\n",
       "\n",
       "    .dataframe thead th {\n",
       "        text-align: right;\n",
       "    }\n",
       "</style>\n",
       "<table border=\"1\" class=\"dataframe\">\n",
       "  <thead>\n",
       "    <tr style=\"text-align: right;\">\n",
       "      <th></th>\n",
       "      <th>artist</th>\n",
       "      <th>title</th>\n",
       "      <th>medium</th>\n",
       "      <th>year</th>\n",
       "      <th>acquisitionYear</th>\n",
       "      <th>width</th>\n",
       "      <th>height</th>\n",
       "      <th>units</th>\n",
       "    </tr>\n",
       "    <tr>\n",
       "      <th>id</th>\n",
       "      <th></th>\n",
       "      <th></th>\n",
       "      <th></th>\n",
       "      <th></th>\n",
       "      <th></th>\n",
       "      <th></th>\n",
       "      <th></th>\n",
       "      <th></th>\n",
       "    </tr>\n",
       "  </thead>\n",
       "  <tbody>\n",
       "    <tr>\n",
       "      <th>672</th>\n",
       "      <td>Bacon, Francis</td>\n",
       "      <td>Figure in a Landscape</td>\n",
       "      <td>Oil paint on canvas</td>\n",
       "      <td>1945</td>\n",
       "      <td>1950.0</td>\n",
       "      <td>1448</td>\n",
       "      <td>1283</td>\n",
       "      <td>mm</td>\n",
       "    </tr>\n",
       "    <tr>\n",
       "      <th>673</th>\n",
       "      <td>Bacon, Francis</td>\n",
       "      <td>Study of a Dog</td>\n",
       "      <td>Oil paint on canvas</td>\n",
       "      <td>1952</td>\n",
       "      <td>1952.0</td>\n",
       "      <td>1981</td>\n",
       "      <td>1372</td>\n",
       "      <td>mm</td>\n",
       "    </tr>\n",
       "    <tr>\n",
       "      <th>674</th>\n",
       "      <td>Bacon, Francis</td>\n",
       "      <td>Three Studies for Figures at the Base of a Cru...</td>\n",
       "      <td>Oil paint on 3 boards</td>\n",
       "      <td>1944</td>\n",
       "      <td>1953.0</td>\n",
       "      <td>NaN</td>\n",
       "      <td>NaN</td>\n",
       "      <td>NaN</td>\n",
       "    </tr>\n",
       "    <tr>\n",
       "      <th>677</th>\n",
       "      <td>Bacon, Francis</td>\n",
       "      <td>Study for a Portrait of Van Gogh IV</td>\n",
       "      <td>Oil paint on canvas</td>\n",
       "      <td>1957</td>\n",
       "      <td>1958.0</td>\n",
       "      <td>1524</td>\n",
       "      <td>1168</td>\n",
       "      <td>mm</td>\n",
       "    </tr>\n",
       "    <tr>\n",
       "      <th>678</th>\n",
       "      <td>Bacon, Francis</td>\n",
       "      <td>Reclining Woman</td>\n",
       "      <td>Oil paint on canvas</td>\n",
       "      <td>1961</td>\n",
       "      <td>1961.0</td>\n",
       "      <td>1988</td>\n",
       "      <td>1416</td>\n",
       "      <td>mm</td>\n",
       "    </tr>\n",
       "  </tbody>\n",
       "</table>\n",
       "</div>"
      ],
      "text/plain": [
       "             artist                                              title  \\\n",
       "id                                                                       \n",
       "672  Bacon, Francis                              Figure in a Landscape   \n",
       "673  Bacon, Francis                                     Study of a Dog   \n",
       "674  Bacon, Francis  Three Studies for Figures at the Base of a Cru...   \n",
       "677  Bacon, Francis                Study for a Portrait of Van Gogh IV   \n",
       "678  Bacon, Francis                                    Reclining Woman   \n",
       "\n",
       "                    medium  year  acquisitionYear width height units  \n",
       "id                                                                    \n",
       "672    Oil paint on canvas  1945           1950.0  1448   1283    mm  \n",
       "673    Oil paint on canvas  1952           1952.0  1981   1372    mm  \n",
       "674  Oil paint on 3 boards  1944           1953.0   NaN    NaN   NaN  \n",
       "677    Oil paint on canvas  1957           1958.0  1524   1168    mm  \n",
       "678    Oil paint on canvas  1961           1961.0  1988   1416    mm  "
      ]
     },
     "execution_count": 31,
     "metadata": {},
     "output_type": "execute_result"
    }
   ],
   "source": [
    "df[df['artist']=='Bacon, Francis'].head(5)"
   ]
  },
  {
   "cell_type": "markdown",
   "metadata": {},
   "source": [
    "2. Creating a series, true/false for all that meet the condition, and then calling that series in the dataframe (this will only return the ids that meet the condition)"
   ]
  },
  {
   "cell_type": "code",
   "execution_count": 32,
   "metadata": {},
   "outputs": [
    {
     "data": {
      "text/plain": [
       "id\n",
       "1035    False\n",
       "1036    False\n",
       "1037    False\n",
       "1038    False\n",
       "1039    False\n",
       "Name: artist, dtype: bool"
      ]
     },
     "execution_count": 32,
     "metadata": {},
     "output_type": "execute_result"
    }
   ],
   "source": [
    "is_bacon = df['artist']=='Bacon, Francis'\n",
    "# df[is_bacon]\n",
    "is_bacon.head()"
   ]
  },
  {
   "cell_type": "code",
   "execution_count": 33,
   "metadata": {},
   "outputs": [
    {
     "data": {
      "text/html": [
       "<div>\n",
       "<style scoped>\n",
       "    .dataframe tbody tr th:only-of-type {\n",
       "        vertical-align: middle;\n",
       "    }\n",
       "\n",
       "    .dataframe tbody tr th {\n",
       "        vertical-align: top;\n",
       "    }\n",
       "\n",
       "    .dataframe thead th {\n",
       "        text-align: right;\n",
       "    }\n",
       "</style>\n",
       "<table border=\"1\" class=\"dataframe\">\n",
       "  <thead>\n",
       "    <tr style=\"text-align: right;\">\n",
       "      <th></th>\n",
       "      <th>artist</th>\n",
       "      <th>title</th>\n",
       "      <th>medium</th>\n",
       "      <th>year</th>\n",
       "      <th>acquisitionYear</th>\n",
       "      <th>width</th>\n",
       "      <th>height</th>\n",
       "      <th>units</th>\n",
       "    </tr>\n",
       "    <tr>\n",
       "      <th>id</th>\n",
       "      <th></th>\n",
       "      <th></th>\n",
       "      <th></th>\n",
       "      <th></th>\n",
       "      <th></th>\n",
       "      <th></th>\n",
       "      <th></th>\n",
       "      <th></th>\n",
       "    </tr>\n",
       "  </thead>\n",
       "  <tbody>\n",
       "    <tr>\n",
       "      <th>672</th>\n",
       "      <td>Bacon, Francis</td>\n",
       "      <td>Figure in a Landscape</td>\n",
       "      <td>Oil paint on canvas</td>\n",
       "      <td>1945</td>\n",
       "      <td>1950.0</td>\n",
       "      <td>1448</td>\n",
       "      <td>1283</td>\n",
       "      <td>mm</td>\n",
       "    </tr>\n",
       "    <tr>\n",
       "      <th>673</th>\n",
       "      <td>Bacon, Francis</td>\n",
       "      <td>Study of a Dog</td>\n",
       "      <td>Oil paint on canvas</td>\n",
       "      <td>1952</td>\n",
       "      <td>1952.0</td>\n",
       "      <td>1981</td>\n",
       "      <td>1372</td>\n",
       "      <td>mm</td>\n",
       "    </tr>\n",
       "    <tr>\n",
       "      <th>674</th>\n",
       "      <td>Bacon, Francis</td>\n",
       "      <td>Three Studies for Figures at the Base of a Cru...</td>\n",
       "      <td>Oil paint on 3 boards</td>\n",
       "      <td>1944</td>\n",
       "      <td>1953.0</td>\n",
       "      <td>NaN</td>\n",
       "      <td>NaN</td>\n",
       "      <td>NaN</td>\n",
       "    </tr>\n",
       "    <tr>\n",
       "      <th>677</th>\n",
       "      <td>Bacon, Francis</td>\n",
       "      <td>Study for a Portrait of Van Gogh IV</td>\n",
       "      <td>Oil paint on canvas</td>\n",
       "      <td>1957</td>\n",
       "      <td>1958.0</td>\n",
       "      <td>1524</td>\n",
       "      <td>1168</td>\n",
       "      <td>mm</td>\n",
       "    </tr>\n",
       "    <tr>\n",
       "      <th>678</th>\n",
       "      <td>Bacon, Francis</td>\n",
       "      <td>Reclining Woman</td>\n",
       "      <td>Oil paint on canvas</td>\n",
       "      <td>1961</td>\n",
       "      <td>1961.0</td>\n",
       "      <td>1988</td>\n",
       "      <td>1416</td>\n",
       "      <td>mm</td>\n",
       "    </tr>\n",
       "  </tbody>\n",
       "</table>\n",
       "</div>"
      ],
      "text/plain": [
       "             artist                                              title  \\\n",
       "id                                                                       \n",
       "672  Bacon, Francis                              Figure in a Landscape   \n",
       "673  Bacon, Francis                                     Study of a Dog   \n",
       "674  Bacon, Francis  Three Studies for Figures at the Base of a Cru...   \n",
       "677  Bacon, Francis                Study for a Portrait of Van Gogh IV   \n",
       "678  Bacon, Francis                                    Reclining Woman   \n",
       "\n",
       "                    medium  year  acquisitionYear width height units  \n",
       "id                                                                    \n",
       "672    Oil paint on canvas  1945           1950.0  1448   1283    mm  \n",
       "673    Oil paint on canvas  1952           1952.0  1981   1372    mm  \n",
       "674  Oil paint on 3 boards  1944           1953.0   NaN    NaN   NaN  \n",
       "677    Oil paint on canvas  1957           1958.0  1524   1168    mm  \n",
       "678    Oil paint on canvas  1961           1961.0  1988   1416    mm  "
      ]
     },
     "execution_count": 33,
     "metadata": {},
     "output_type": "execute_result"
    }
   ],
   "source": [
    "df[is_bacon].head()"
   ]
  },
  {
   "cell_type": "markdown",
   "metadata": {},
   "source": [
    "Value counts can be used to determine in a given series, the distinct values and their counts"
   ]
  },
  {
   "cell_type": "code",
   "execution_count": 34,
   "metadata": {},
   "outputs": [
    {
     "data": {
      "text/plain": [
       "False    69151\n",
       "True        50\n",
       "Name: artist, dtype: int64"
      ]
     },
     "execution_count": 34,
     "metadata": {},
     "output_type": "execute_result"
    }
   ],
   "source": [
    "is_bacon.value_counts()"
   ]
  },
  {
   "cell_type": "code",
   "execution_count": 35,
   "metadata": {},
   "outputs": [
    {
     "data": {
      "text/plain": [
       "Turner, Joseph Mallord William    39389\n",
       "Jones, George                      1046\n",
       "Moore, Henry, OM, CH                623\n",
       "Daniell, William                    612\n",
       "Beuys, Joseph                       578\n",
       "Name: artist, dtype: int64"
      ]
     },
     "execution_count": 35,
     "metadata": {},
     "output_type": "execute_result"
    }
   ],
   "source": [
    "df['artist'].value_counts().head()"
   ]
  },
  {
   "cell_type": "markdown",
   "metadata": {},
   "source": [
    "Whereas Count will return all columns on the data frame that are not na "
   ]
  },
  {
   "cell_type": "code",
   "execution_count": 36,
   "metadata": {},
   "outputs": [
    {
     "data": {
      "text/plain": [
       "artist             50\n",
       "title              50\n",
       "medium             50\n",
       "year               50\n",
       "acquisitionYear    50\n",
       "width              47\n",
       "height             47\n",
       "units              47\n",
       "dtype: int64"
      ]
     },
     "execution_count": 36,
     "metadata": {},
     "output_type": "execute_result"
    }
   ],
   "source": [
    "df[is_bacon].count()"
   ]
  },
  {
   "cell_type": "markdown",
   "metadata": {},
   "source": [
    "#### Traverse through the df to retrieve the artist with index, id=1035"
   ]
  },
  {
   "cell_type": "code",
   "execution_count": 37,
   "metadata": {},
   "outputs": [
    {
     "data": {
      "text/plain": [
       "'Blake, Robert'"
      ]
     },
     "execution_count": 37,
     "metadata": {},
     "output_type": "execute_result"
    }
   ],
   "source": [
    "df.loc[1035, 'artist']"
   ]
  },
  {
   "cell_type": "code",
   "execution_count": 38,
   "metadata": {},
   "outputs": [
    {
     "data": {
      "text/plain": [
       "artist                                                 Blake, Robert\n",
       "title              A Figure Bowing before a Seated Old Man with h...\n",
       "medium             Watercolour, ink, chalk and graphite on paper....\n",
       "year                                                             NaN\n",
       "acquisitionYear                                                 1922\n",
       "width                                                            394\n",
       "height                                                           419\n",
       "units                                                             mm\n",
       "Name: 1035, dtype: object"
      ]
     },
     "execution_count": 38,
     "metadata": {},
     "output_type": "execute_result"
    }
   ],
   "source": [
    "df.loc[1035]"
   ]
  },
  {
   "cell_type": "code",
   "execution_count": 39,
   "metadata": {},
   "outputs": [
    {
     "data": {
      "text/html": [
       "<div>\n",
       "<style scoped>\n",
       "    .dataframe tbody tr th:only-of-type {\n",
       "        vertical-align: middle;\n",
       "    }\n",
       "\n",
       "    .dataframe tbody tr th {\n",
       "        vertical-align: top;\n",
       "    }\n",
       "\n",
       "    .dataframe thead th {\n",
       "        text-align: right;\n",
       "    }\n",
       "</style>\n",
       "<table border=\"1\" class=\"dataframe\">\n",
       "  <thead>\n",
       "    <tr style=\"text-align: right;\">\n",
       "      <th></th>\n",
       "      <th>artist</th>\n",
       "      <th>title</th>\n",
       "      <th>medium</th>\n",
       "      <th>year</th>\n",
       "      <th>acquisitionYear</th>\n",
       "      <th>width</th>\n",
       "      <th>height</th>\n",
       "      <th>units</th>\n",
       "    </tr>\n",
       "    <tr>\n",
       "      <th>id</th>\n",
       "      <th></th>\n",
       "      <th></th>\n",
       "      <th></th>\n",
       "      <th></th>\n",
       "      <th></th>\n",
       "      <th></th>\n",
       "      <th></th>\n",
       "      <th></th>\n",
       "    </tr>\n",
       "  </thead>\n",
       "  <tbody>\n",
       "    <tr>\n",
       "      <th>672</th>\n",
       "      <td>Bacon, Francis</td>\n",
       "      <td>Figure in a Landscape</td>\n",
       "      <td>Oil paint on canvas</td>\n",
       "      <td>1945</td>\n",
       "      <td>1950.0</td>\n",
       "      <td>1448</td>\n",
       "      <td>1283</td>\n",
       "      <td>mm</td>\n",
       "    </tr>\n",
       "    <tr>\n",
       "      <th>673</th>\n",
       "      <td>Bacon, Francis</td>\n",
       "      <td>Study of a Dog</td>\n",
       "      <td>Oil paint on canvas</td>\n",
       "      <td>1952</td>\n",
       "      <td>1952.0</td>\n",
       "      <td>1981</td>\n",
       "      <td>1372</td>\n",
       "      <td>mm</td>\n",
       "    </tr>\n",
       "    <tr>\n",
       "      <th>674</th>\n",
       "      <td>Bacon, Francis</td>\n",
       "      <td>Three Studies for Figures at the Base of a Cru...</td>\n",
       "      <td>Oil paint on 3 boards</td>\n",
       "      <td>1944</td>\n",
       "      <td>1953.0</td>\n",
       "      <td>NaN</td>\n",
       "      <td>NaN</td>\n",
       "      <td>NaN</td>\n",
       "    </tr>\n",
       "    <tr>\n",
       "      <th>677</th>\n",
       "      <td>Bacon, Francis</td>\n",
       "      <td>Study for a Portrait of Van Gogh IV</td>\n",
       "      <td>Oil paint on canvas</td>\n",
       "      <td>1957</td>\n",
       "      <td>1958.0</td>\n",
       "      <td>1524</td>\n",
       "      <td>1168</td>\n",
       "      <td>mm</td>\n",
       "    </tr>\n",
       "    <tr>\n",
       "      <th>678</th>\n",
       "      <td>Bacon, Francis</td>\n",
       "      <td>Reclining Woman</td>\n",
       "      <td>Oil paint on canvas</td>\n",
       "      <td>1961</td>\n",
       "      <td>1961.0</td>\n",
       "      <td>1988</td>\n",
       "      <td>1416</td>\n",
       "      <td>mm</td>\n",
       "    </tr>\n",
       "  </tbody>\n",
       "</table>\n",
       "</div>"
      ],
      "text/plain": [
       "             artist                                              title  \\\n",
       "id                                                                       \n",
       "672  Bacon, Francis                              Figure in a Landscape   \n",
       "673  Bacon, Francis                                     Study of a Dog   \n",
       "674  Bacon, Francis  Three Studies for Figures at the Base of a Cru...   \n",
       "677  Bacon, Francis                Study for a Portrait of Van Gogh IV   \n",
       "678  Bacon, Francis                                    Reclining Woman   \n",
       "\n",
       "                    medium  year  acquisitionYear width height units  \n",
       "id                                                                    \n",
       "672    Oil paint on canvas  1945           1950.0  1448   1283    mm  \n",
       "673    Oil paint on canvas  1952           1952.0  1981   1372    mm  \n",
       "674  Oil paint on 3 boards  1944           1953.0   NaN    NaN   NaN  \n",
       "677    Oil paint on canvas  1957           1958.0  1524   1168    mm  \n",
       "678    Oil paint on canvas  1961           1961.0  1988   1416    mm  "
      ]
     },
     "execution_count": 39,
     "metadata": {},
     "output_type": "execute_result"
    }
   ],
   "source": [
    "df.loc[df['artist']=='Bacon, Francis'].head()"
   ]
  },
  {
   "cell_type": "code",
   "execution_count": 40,
   "metadata": {},
   "outputs": [
    {
     "data": {
      "text/plain": [
       "pandas.core.series.Series"
      ]
     },
     "execution_count": 40,
     "metadata": {},
     "output_type": "execute_result"
    }
   ],
   "source": [
    "type(df['width'])"
   ]
  },
  {
   "cell_type": "code",
   "execution_count": 41,
   "metadata": {},
   "outputs": [
    {
     "data": {
      "text/plain": [
       "pandas.core.series.Series"
      ]
     },
     "execution_count": 41,
     "metadata": {},
     "output_type": "execute_result"
    }
   ],
   "source": [
    "type(df['height'])"
   ]
  },
  {
   "cell_type": "code",
   "execution_count": 42,
   "metadata": {},
   "outputs": [
    {
     "data": {
      "text/plain": [
       "id\n",
       "20822            (1):\n",
       "105337    (diameter):\n",
       "98671         (each):\n",
       "76420         (each):\n",
       "91391        (image):\n",
       "Name: width, dtype: object"
      ]
     },
     "execution_count": 42,
     "metadata": {},
     "output_type": "execute_result"
    }
   ],
   "source": [
    "# df['height']* df['width'] cannot be executed as this elements contain non numeric values\n",
    "df['width'].sort_values().head()"
   ]
  },
  {
   "cell_type": "code",
   "execution_count": 43,
   "metadata": {},
   "outputs": [
    {
     "data": {
      "text/plain": [
       "id\n",
       "121283    NaN\n",
       "117863    NaN\n",
       "120549    NaN\n",
       "122900    NaN\n",
       "112306    NaN\n",
       "Name: width, dtype: object"
      ]
     },
     "execution_count": 43,
     "metadata": {},
     "output_type": "execute_result"
    }
   ],
   "source": [
    "df['width'].sort_values().tail()"
   ]
  },
  {
   "cell_type": "code",
   "execution_count": 44,
   "metadata": {},
   "outputs": [
    {
     "data": {
      "text/plain": [
       "id\n",
       "1035    419\n",
       "1036    213\n",
       "1037    467\n",
       "1038    394\n",
       "1039    335\n",
       "Name: height, dtype: object"
      ]
     },
     "execution_count": 44,
     "metadata": {},
     "output_type": "execute_result"
    }
   ],
   "source": [
    "df['height'].head()"
   ]
  },
  {
   "cell_type": "markdown",
   "metadata": {},
   "source": [
    "Try to convert"
   ]
  },
  {
   "cell_type": "code",
   "execution_count": 45,
   "metadata": {},
   "outputs": [
    {
     "data": {
      "text/plain": [
       "id\n",
       "1035    394.0\n",
       "1036    311.0\n",
       "1037    343.0\n",
       "1038    318.0\n",
       "1039    243.0\n",
       "Name: width, dtype: float64"
      ]
     },
     "execution_count": 45,
     "metadata": {},
     "output_type": "execute_result"
    }
   ],
   "source": [
    "pd.to_numeric(df['width'], errors='coerce').head()"
   ]
  },
  {
   "cell_type": "code",
   "execution_count": 46,
   "metadata": {},
   "outputs": [
    {
     "name": "stdout",
     "output_type": "stream",
     "text": [
      "<class 'pandas.core.frame.DataFrame'>\n",
      "Int64Index: 69201 entries, 1035 to 127035\n",
      "Data columns (total 8 columns):\n",
      "artist             69201 non-null object\n",
      "title              69201 non-null object\n",
      "medium             62817 non-null object\n",
      "year               63823 non-null object\n",
      "acquisitionYear    69156 non-null float64\n",
      "width              65834 non-null float64\n",
      "height             65860 non-null object\n",
      "units              65860 non-null object\n",
      "dtypes: float64(2), object(6)\n",
      "memory usage: 7.3+ MB\n"
     ]
    }
   ],
   "source": [
    "df['width']= pd.to_numeric(df['width'], errors='coerce')\n",
    "df.info()"
   ]
  },
  {
   "cell_type": "code",
   "execution_count": 47,
   "metadata": {},
   "outputs": [],
   "source": [
    "df['height']=pd.to_numeric(df['height'], errors='coerce')"
   ]
  },
  {
   "cell_type": "code",
   "execution_count": 48,
   "metadata": {},
   "outputs": [],
   "source": [
    "df['size']=df['height']* df['width']"
   ]
  },
  {
   "cell_type": "code",
   "execution_count": 49,
   "metadata": {},
   "outputs": [
    {
     "data": {
      "text/plain": [
       "id\n",
       "78661     54315000.0\n",
       "82481     60000000.0\n",
       "20200     64000000.0\n",
       "69085     91253940.0\n",
       "98367    132462000.0\n",
       "Name: size, dtype: float64"
      ]
     },
     "execution_count": 49,
     "metadata": {},
     "output_type": "execute_result"
    }
   ],
   "source": [
    "df['size'].sort_values(na_position='first').tail()"
   ]
  },
  {
   "cell_type": "code",
   "execution_count": 50,
   "metadata": {},
   "outputs": [
    {
     "data": {
      "text/html": [
       "<div>\n",
       "<style scoped>\n",
       "    .dataframe tbody tr th:only-of-type {\n",
       "        vertical-align: middle;\n",
       "    }\n",
       "\n",
       "    .dataframe tbody tr th {\n",
       "        vertical-align: top;\n",
       "    }\n",
       "\n",
       "    .dataframe thead th {\n",
       "        text-align: right;\n",
       "    }\n",
       "</style>\n",
       "<table border=\"1\" class=\"dataframe\">\n",
       "  <thead>\n",
       "    <tr style=\"text-align: right;\">\n",
       "      <th></th>\n",
       "      <th>artist</th>\n",
       "      <th>title</th>\n",
       "      <th>medium</th>\n",
       "      <th>year</th>\n",
       "      <th>acquisitionYear</th>\n",
       "      <th>width</th>\n",
       "      <th>height</th>\n",
       "      <th>units</th>\n",
       "      <th>size</th>\n",
       "    </tr>\n",
       "    <tr>\n",
       "      <th>id</th>\n",
       "      <th></th>\n",
       "      <th></th>\n",
       "      <th></th>\n",
       "      <th></th>\n",
       "      <th></th>\n",
       "      <th></th>\n",
       "      <th></th>\n",
       "      <th></th>\n",
       "      <th></th>\n",
       "    </tr>\n",
       "  </thead>\n",
       "  <tbody>\n",
       "    <tr>\n",
       "      <th>98367</th>\n",
       "      <td>Therrien, Robert</td>\n",
       "      <td>No Title (Table and Four Chairs)</td>\n",
       "      <td>Aluminium, steel, wood and plastic</td>\n",
       "      <td>2003</td>\n",
       "      <td>2008.0</td>\n",
       "      <td>8920.0</td>\n",
       "      <td>14850.0</td>\n",
       "      <td>mm</td>\n",
       "      <td>132462000.0</td>\n",
       "    </tr>\n",
       "  </tbody>\n",
       "</table>\n",
       "</div>"
      ],
      "text/plain": [
       "                 artist                             title  \\\n",
       "id                                                          \n",
       "98367  Therrien, Robert  No Title (Table and Four Chairs)   \n",
       "\n",
       "                                   medium  year  acquisitionYear   width  \\\n",
       "id                                                                         \n",
       "98367  Aluminium, steel, wood and plastic  2003           2008.0  8920.0   \n",
       "\n",
       "        height units         size  \n",
       "id                                 \n",
       "98367  14850.0    mm  132462000.0  "
      ]
     },
     "execution_count": 50,
     "metadata": {},
     "output_type": "execute_result"
    }
   ],
   "source": [
    "df.sort_values(by='size', na_position='first').tail(1)"
   ]
  },
  {
   "cell_type": "code",
   "execution_count": 51,
   "metadata": {},
   "outputs": [
    {
     "data": {
      "text/plain": [
       "98367"
      ]
     },
     "execution_count": 51,
     "metadata": {},
     "output_type": "execute_result"
    }
   ],
   "source": [
    "df['size'].idxmax()"
   ]
  },
  {
   "cell_type": "code",
   "execution_count": 52,
   "metadata": {},
   "outputs": [
    {
     "data": {
      "text/plain": [
       "artist                               Therrien, Robert\n",
       "title                No Title (Table and Four Chairs)\n",
       "medium             Aluminium, steel, wood and plastic\n",
       "year                                             2003\n",
       "acquisitionYear                                  2008\n",
       "width                                            8920\n",
       "height                                          14850\n",
       "units                                              mm\n",
       "size                                      1.32462e+08\n",
       "Name: 98367, dtype: object"
      ]
     },
     "execution_count": 52,
     "metadata": {},
     "output_type": "execute_result"
    }
   ],
   "source": [
    "df.loc[df['size'].idxmax()]"
   ]
  },
  {
   "cell_type": "code",
   "execution_count": 53,
   "metadata": {},
   "outputs": [
    {
     "data": {
      "text/plain": [
       "artist    Blake, Robert\n",
       "Name: 1035, dtype: object"
      ]
     },
     "execution_count": 53,
     "metadata": {},
     "output_type": "execute_result"
    }
   ],
   "source": [
    "df.iloc[0, 0:1]"
   ]
  },
  {
   "cell_type": "code",
   "execution_count": 54,
   "metadata": {},
   "outputs": [
    {
     "data": {
      "text/plain": [
       "<pandas.core.groupby.groupby.DataFrameGroupBy object at 0x11c019d30>"
      ]
     },
     "execution_count": 54,
     "metadata": {},
     "output_type": "execute_result"
    }
   ],
   "source": [
    "df.groupby('artist')"
   ]
  },
  {
   "cell_type": "code",
   "execution_count": 55,
   "metadata": {},
   "outputs": [],
   "source": [
    "def fill_values(series):\n",
    "    '''Fills na values on a series with the most repeated value on such series\n",
    "    if empty, does nothing... \n",
    "    '''\n",
    "    value_counts = series.value_counts()\n",
    "    if value_counts.empty:\n",
    "        return series\n",
    "    most_frequent = value_counts.index[0]\n",
    "    new_value = series.fillna(most_frequent)\n",
    "    return new_value     "
   ]
  },
  {
   "cell_type": "code",
   "execution_count": 56,
   "metadata": {},
   "outputs": [],
   "source": [
    "def transform_df(source_df):\n",
    "    '''takes a dataframe, groups by artist, and then for each group, copies it, and replaces\n",
    "    the column medium with a new column where the NaN values have been replaced by the most \n",
    "    repeated value\n",
    "    '''\n",
    "    group_dfs=[]\n",
    "    for name, group_df in source_df.groupby('artist'):\n",
    "        filled_df=group_df.copy()\n",
    "        filled_df['medium']=fill_values(group_df['medium'])\n",
    "        group_dfs.append(filled_df)\n",
    "        \n",
    "    new_df=pd.concat(group_dfs)\n",
    "    return new_df\n",
    "    "
   ]
  },
  {
   "cell_type": "code",
   "execution_count": 57,
   "metadata": {},
   "outputs": [
    {
     "name": "stdout",
     "output_type": "stream",
     "text": [
      "<class 'pandas.core.frame.DataFrame'>\n",
      "Int64Index: 1000 entries, 29528 to 30528\n",
      "Data columns (total 9 columns):\n",
      "artist             1000 non-null object\n",
      "title              1000 non-null object\n",
      "medium             717 non-null object\n",
      "year               1000 non-null object\n",
      "acquisitionYear    1000 non-null float64\n",
      "width              999 non-null float64\n",
      "height             999 non-null float64\n",
      "units              999 non-null object\n",
      "size               999 non-null float64\n",
      "dtypes: float64(4), object(5)\n",
      "memory usage: 78.1+ KB\n"
     ]
    }
   ],
   "source": [
    "sample_df = df.iloc[5000:6000, :].copy()\n",
    "sample_df.info()"
   ]
  },
  {
   "cell_type": "markdown",
   "metadata": {},
   "source": [
    "There are 717 records in the sample without a medium... \n",
    "Selection of a record with Nan"
   ]
  },
  {
   "cell_type": "code",
   "execution_count": 58,
   "metadata": {},
   "outputs": [
    {
     "data": {
      "text/html": [
       "<div>\n",
       "<style scoped>\n",
       "    .dataframe tbody tr th:only-of-type {\n",
       "        vertical-align: middle;\n",
       "    }\n",
       "\n",
       "    .dataframe tbody tr th {\n",
       "        vertical-align: top;\n",
       "    }\n",
       "\n",
       "    .dataframe thead th {\n",
       "        text-align: right;\n",
       "    }\n",
       "</style>\n",
       "<table border=\"1\" class=\"dataframe\">\n",
       "  <thead>\n",
       "    <tr style=\"text-align: right;\">\n",
       "      <th></th>\n",
       "      <th>artist</th>\n",
       "      <th>title</th>\n",
       "      <th>medium</th>\n",
       "      <th>year</th>\n",
       "      <th>acquisitionYear</th>\n",
       "      <th>width</th>\n",
       "      <th>height</th>\n",
       "      <th>units</th>\n",
       "      <th>size</th>\n",
       "    </tr>\n",
       "    <tr>\n",
       "      <th>id</th>\n",
       "      <th></th>\n",
       "      <th></th>\n",
       "      <th></th>\n",
       "      <th></th>\n",
       "      <th></th>\n",
       "      <th></th>\n",
       "      <th></th>\n",
       "      <th></th>\n",
       "      <th></th>\n",
       "    </tr>\n",
       "  </thead>\n",
       "  <tbody>\n",
       "    <tr>\n",
       "      <th>29528</th>\n",
       "      <td>Turner, Joseph Mallord William</td>\n",
       "      <td>[blank]</td>\n",
       "      <td>NaN</td>\n",
       "      <td>1799</td>\n",
       "      <td>1856.0</td>\n",
       "      <td>131.0</td>\n",
       "      <td>78.0</td>\n",
       "      <td>mm</td>\n",
       "      <td>10218.0</td>\n",
       "    </tr>\n",
       "    <tr>\n",
       "      <th>29529</th>\n",
       "      <td>Turner, Joseph Mallord William</td>\n",
       "      <td>[blank]</td>\n",
       "      <td>NaN</td>\n",
       "      <td>1799</td>\n",
       "      <td>1856.0</td>\n",
       "      <td>131.0</td>\n",
       "      <td>78.0</td>\n",
       "      <td>mm</td>\n",
       "      <td>10218.0</td>\n",
       "    </tr>\n",
       "    <tr>\n",
       "      <th>29530</th>\n",
       "      <td>Turner, Joseph Mallord William</td>\n",
       "      <td>[blank]</td>\n",
       "      <td>NaN</td>\n",
       "      <td>1799</td>\n",
       "      <td>1856.0</td>\n",
       "      <td>131.0</td>\n",
       "      <td>78.0</td>\n",
       "      <td>mm</td>\n",
       "      <td>10218.0</td>\n",
       "    </tr>\n",
       "    <tr>\n",
       "      <th>29535</th>\n",
       "      <td>Turner, Joseph Mallord William</td>\n",
       "      <td>[blank]</td>\n",
       "      <td>NaN</td>\n",
       "      <td>1799</td>\n",
       "      <td>1856.0</td>\n",
       "      <td>131.0</td>\n",
       "      <td>78.0</td>\n",
       "      <td>mm</td>\n",
       "      <td>10218.0</td>\n",
       "    </tr>\n",
       "    <tr>\n",
       "      <th>29536</th>\n",
       "      <td>Turner, Joseph Mallord William</td>\n",
       "      <td>[blank]</td>\n",
       "      <td>NaN</td>\n",
       "      <td>1799</td>\n",
       "      <td>1856.0</td>\n",
       "      <td>131.0</td>\n",
       "      <td>78.0</td>\n",
       "      <td>mm</td>\n",
       "      <td>10218.0</td>\n",
       "    </tr>\n",
       "  </tbody>\n",
       "</table>\n",
       "</div>"
      ],
      "text/plain": [
       "                               artist    title medium  year  acquisitionYear  \\\n",
       "id                                                                             \n",
       "29528  Turner, Joseph Mallord William  [blank]    NaN  1799           1856.0   \n",
       "29529  Turner, Joseph Mallord William  [blank]    NaN  1799           1856.0   \n",
       "29530  Turner, Joseph Mallord William  [blank]    NaN  1799           1856.0   \n",
       "29535  Turner, Joseph Mallord William  [blank]    NaN  1799           1856.0   \n",
       "29536  Turner, Joseph Mallord William  [blank]    NaN  1799           1856.0   \n",
       "\n",
       "       width  height units     size  \n",
       "id                                   \n",
       "29528  131.0    78.0    mm  10218.0  \n",
       "29529  131.0    78.0    mm  10218.0  \n",
       "29530  131.0    78.0    mm  10218.0  \n",
       "29535  131.0    78.0    mm  10218.0  \n",
       "29536  131.0    78.0    mm  10218.0  "
      ]
     },
     "execution_count": 58,
     "metadata": {},
     "output_type": "execute_result"
    }
   ],
   "source": [
    "sample_df[sample_df['medium'].isnull()].head()"
   ]
  },
  {
   "cell_type": "code",
   "execution_count": 59,
   "metadata": {},
   "outputs": [
    {
     "name": "stdout",
     "output_type": "stream",
     "text": [
      "<class 'pandas.core.frame.DataFrame'>\n",
      "Int64Index: 1000 entries, 29528 to 30528\n",
      "Data columns (total 9 columns):\n",
      "artist             1000 non-null object\n",
      "title              1000 non-null object\n",
      "medium             1000 non-null object\n",
      "year               1000 non-null object\n",
      "acquisitionYear    1000 non-null float64\n",
      "width              999 non-null float64\n",
      "height             999 non-null float64\n",
      "units              999 non-null object\n",
      "size               999 non-null float64\n",
      "dtypes: float64(4), object(5)\n",
      "memory usage: 78.1+ KB\n"
     ]
    }
   ],
   "source": [
    "transformed_df =transform_df(sample_df)\n",
    "transformed_df.info()"
   ]
  },
  {
   "cell_type": "code",
   "execution_count": 60,
   "metadata": {
    "slideshow": {
     "slide_type": "-"
    }
   },
   "outputs": [
    {
     "data": {
      "text/plain": [
       "Series([], Name: artist, dtype: object)"
      ]
     },
     "execution_count": 60,
     "metadata": {},
     "output_type": "execute_result"
    }
   ],
   "source": [
    "# transformed_df[transformed_df['medium'].insnull()].head()\n",
    "transformed_df[transformed_df['medium'].isnull()]['artist']"
   ]
  },
  {
   "cell_type": "markdown",
   "metadata": {},
   "source": [
    "Now medium has been filled ....\n"
   ]
  },
  {
   "cell_type": "code",
   "execution_count": 61,
   "metadata": {},
   "outputs": [
    {
     "data": {
      "text/html": [
       "<div>\n",
       "<style scoped>\n",
       "    .dataframe tbody tr th:only-of-type {\n",
       "        vertical-align: middle;\n",
       "    }\n",
       "\n",
       "    .dataframe tbody tr th {\n",
       "        vertical-align: top;\n",
       "    }\n",
       "\n",
       "    .dataframe thead th {\n",
       "        text-align: right;\n",
       "    }\n",
       "</style>\n",
       "<table border=\"1\" class=\"dataframe\">\n",
       "  <thead>\n",
       "    <tr style=\"text-align: right;\">\n",
       "      <th></th>\n",
       "      <th>artist</th>\n",
       "      <th>title</th>\n",
       "      <th>medium</th>\n",
       "      <th>year</th>\n",
       "      <th>acquisitionYear</th>\n",
       "      <th>width</th>\n",
       "      <th>height</th>\n",
       "      <th>units</th>\n",
       "      <th>size</th>\n",
       "    </tr>\n",
       "    <tr>\n",
       "      <th>id</th>\n",
       "      <th></th>\n",
       "      <th></th>\n",
       "      <th></th>\n",
       "      <th></th>\n",
       "      <th></th>\n",
       "      <th></th>\n",
       "      <th></th>\n",
       "      <th></th>\n",
       "      <th></th>\n",
       "    </tr>\n",
       "  </thead>\n",
       "  <tbody>\n",
       "    <tr>\n",
       "      <th>29528</th>\n",
       "      <td>Turner, Joseph Mallord William</td>\n",
       "      <td>[blank]</td>\n",
       "      <td>Graphite on paper</td>\n",
       "      <td>1799</td>\n",
       "      <td>1856.0</td>\n",
       "      <td>131.0</td>\n",
       "      <td>78.0</td>\n",
       "      <td>mm</td>\n",
       "      <td>10218.0</td>\n",
       "    </tr>\n",
       "    <tr>\n",
       "      <th>29529</th>\n",
       "      <td>Turner, Joseph Mallord William</td>\n",
       "      <td>[blank]</td>\n",
       "      <td>Graphite on paper</td>\n",
       "      <td>1799</td>\n",
       "      <td>1856.0</td>\n",
       "      <td>131.0</td>\n",
       "      <td>78.0</td>\n",
       "      <td>mm</td>\n",
       "      <td>10218.0</td>\n",
       "    </tr>\n",
       "    <tr>\n",
       "      <th>29530</th>\n",
       "      <td>Turner, Joseph Mallord William</td>\n",
       "      <td>[blank]</td>\n",
       "      <td>Graphite on paper</td>\n",
       "      <td>1799</td>\n",
       "      <td>1856.0</td>\n",
       "      <td>131.0</td>\n",
       "      <td>78.0</td>\n",
       "      <td>mm</td>\n",
       "      <td>10218.0</td>\n",
       "    </tr>\n",
       "    <tr>\n",
       "      <th>29531</th>\n",
       "      <td>Turner, Joseph Mallord William</td>\n",
       "      <td>A Ruined Castle</td>\n",
       "      <td>Graphite on paper</td>\n",
       "      <td>1799</td>\n",
       "      <td>1856.0</td>\n",
       "      <td>131.0</td>\n",
       "      <td>78.0</td>\n",
       "      <td>mm</td>\n",
       "      <td>10218.0</td>\n",
       "    </tr>\n",
       "    <tr>\n",
       "      <th>29532</th>\n",
       "      <td>Turner, Joseph Mallord William</td>\n",
       "      <td>Ruins in a Landscape</td>\n",
       "      <td>Graphite on paper</td>\n",
       "      <td>1799</td>\n",
       "      <td>1856.0</td>\n",
       "      <td>131.0</td>\n",
       "      <td>78.0</td>\n",
       "      <td>mm</td>\n",
       "      <td>10218.0</td>\n",
       "    </tr>\n",
       "  </tbody>\n",
       "</table>\n",
       "</div>"
      ],
      "text/plain": [
       "                               artist                 title  \\\n",
       "id                                                            \n",
       "29528  Turner, Joseph Mallord William               [blank]   \n",
       "29529  Turner, Joseph Mallord William               [blank]   \n",
       "29530  Turner, Joseph Mallord William               [blank]   \n",
       "29531  Turner, Joseph Mallord William       A Ruined Castle   \n",
       "29532  Turner, Joseph Mallord William  Ruins in a Landscape   \n",
       "\n",
       "                  medium  year  acquisitionYear  width  height units     size  \n",
       "id                                                                             \n",
       "29528  Graphite on paper  1799           1856.0  131.0    78.0    mm  10218.0  \n",
       "29529  Graphite on paper  1799           1856.0  131.0    78.0    mm  10218.0  \n",
       "29530  Graphite on paper  1799           1856.0  131.0    78.0    mm  10218.0  \n",
       "29531  Graphite on paper  1799           1856.0  131.0    78.0    mm  10218.0  \n",
       "29532  Graphite on paper  1799           1856.0  131.0    78.0    mm  10218.0  "
      ]
     },
     "execution_count": 61,
     "metadata": {},
     "output_type": "execute_result"
    }
   ],
   "source": [
    "transformed_df[transformed_df['artist']=='Turner, Joseph Mallord William'].head()"
   ]
  },
  {
   "cell_type": "markdown",
   "metadata": {},
   "source": [
    "and the artist Mallord William has Graphite on paper instead of NaN"
   ]
  },
  {
   "cell_type": "code",
   "execution_count": 62,
   "metadata": {},
   "outputs": [],
   "source": [
    "new_df = transform_df(df)"
   ]
  },
  {
   "cell_type": "code",
   "execution_count": 63,
   "metadata": {},
   "outputs": [
    {
     "name": "stdout",
     "output_type": "stream",
     "text": [
      "<class 'pandas.core.frame.DataFrame'>\n",
      "Int64Index: 69201 entries, 1035 to 127035\n",
      "Data columns (total 9 columns):\n",
      "artist             69201 non-null object\n",
      "title              69201 non-null object\n",
      "medium             62817 non-null object\n",
      "year               63823 non-null object\n",
      "acquisitionYear    69156 non-null float64\n",
      "width              65834 non-null float64\n",
      "height             65859 non-null float64\n",
      "units              65860 non-null object\n",
      "size               65833 non-null float64\n",
      "dtypes: float64(4), object(5)\n",
      "memory usage: 7.8+ MB\n"
     ]
    }
   ],
   "source": [
    "df.info()"
   ]
  },
  {
   "cell_type": "code",
   "execution_count": 64,
   "metadata": {},
   "outputs": [
    {
     "name": "stdout",
     "output_type": "stream",
     "text": [
      "<class 'pandas.core.frame.DataFrame'>\n",
      "Int64Index: 69201 entries, 6652 to 93563\n",
      "Data columns (total 9 columns):\n",
      "artist             69201 non-null object\n",
      "title              69201 non-null object\n",
      "medium             69201 non-null object\n",
      "year               63823 non-null object\n",
      "acquisitionYear    69156 non-null float64\n",
      "width              65834 non-null float64\n",
      "height             65859 non-null float64\n",
      "units              65860 non-null object\n",
      "size               65833 non-null float64\n",
      "dtypes: float64(4), object(5)\n",
      "memory usage: 5.3+ MB\n"
     ]
    }
   ],
   "source": [
    "new_df.info()"
   ]
  },
  {
   "cell_type": "markdown",
   "metadata": {},
   "source": [
    "# Transform"
   ]
  },
  {
   "cell_type": "code",
   "execution_count": 65,
   "metadata": {},
   "outputs": [
    {
     "name": "stdout",
     "output_type": "stream",
     "text": [
      "<class 'pandas.core.frame.DataFrame'>\n",
      "Int64Index: 69201 entries, 1035 to 127035\n",
      "Data columns (total 9 columns):\n",
      "artist             69201 non-null object\n",
      "title              69201 non-null object\n",
      "medium             62817 non-null object\n",
      "year               63823 non-null object\n",
      "acquisitionYear    69156 non-null float64\n",
      "width              65834 non-null float64\n",
      "height             65859 non-null float64\n",
      "units              65860 non-null object\n",
      "size               65833 non-null float64\n",
      "dtypes: float64(4), object(5)\n",
      "memory usage: 5.3+ MB\n"
     ]
    }
   ],
   "source": [
    "new_df_2 = df.copy()\n",
    "new_df_2.info()"
   ]
  },
  {
   "cell_type": "code",
   "execution_count": 66,
   "metadata": {},
   "outputs": [
    {
     "name": "stdout",
     "output_type": "stream",
     "text": [
      "<class 'pandas.core.frame.DataFrame'>\n",
      "Int64Index: 69201 entries, 1035 to 127035\n",
      "Data columns (total 9 columns):\n",
      "artist             69201 non-null object\n",
      "title              69201 non-null object\n",
      "medium             69201 non-null object\n",
      "year               63823 non-null object\n",
      "acquisitionYear    69156 non-null float64\n",
      "width              65834 non-null float64\n",
      "height             65859 non-null float64\n",
      "units              65860 non-null object\n",
      "size               65833 non-null float64\n",
      "dtypes: float64(4), object(5)\n",
      "memory usage: 5.3+ MB\n"
     ]
    }
   ],
   "source": [
    "new_df_2['medium']= new_df_2['medium'].transform(fill_values)\n",
    "new_df_2.info()\n",
    "# grouped_medium.transfrom(fill_values)"
   ]
  },
  {
   "cell_type": "markdown",
   "metadata": {},
   "source": [
    "## Aggregation"
   ]
  },
  {
   "cell_type": "code",
   "execution_count": 67,
   "metadata": {},
   "outputs": [
    {
     "data": {
      "text/plain": [
       "artist\n",
       "?British School           1927.0\n",
       "Abakanowicz, Magdalena    2009.0\n",
       "Abbey, Edwin Austin       1924.0\n",
       "Abbott, Berenice          2010.0\n",
       "Abbott, Lemuel Francis    1885.0\n",
       "Name: acquisitionYear, dtype: float64"
      ]
     },
     "execution_count": 67,
     "metadata": {},
     "output_type": "execute_result"
    }
   ],
   "source": [
    "artist_aYear_grp_df = new_df_2.groupby('artist')['acquisitionYear']\n",
    "min_acquisitionYear = artist_aYear_grp_df.agg(np.min)\n",
    "min_acquisitionYear.head()"
   ]
  },
  {
   "cell_type": "code",
   "execution_count": 68,
   "metadata": {},
   "outputs": [
    {
     "data": {
      "text/plain": [
       "artist\n",
       "?British School           1927.0\n",
       "Abakanowicz, Magdalena    2009.0\n",
       "Abbey, Edwin Austin       1924.0\n",
       "Abbott, Berenice          2010.0\n",
       "Abbott, Lemuel Francis    1885.0\n",
       "Name: acquisitionYear, dtype: float64"
      ]
     },
     "execution_count": 68,
     "metadata": {},
     "output_type": "execute_result"
    }
   ],
   "source": [
    "artist_aYear_grp_df.min().head()"
   ]
  },
  {
   "cell_type": "markdown",
   "metadata": {},
   "source": [
    "## Filtering"
   ]
  },
  {
   "cell_type": "code",
   "execution_count": 69,
   "metadata": {},
   "outputs": [],
   "source": [
    "grouped_titles = df.groupby('title')\n",
    "filtered_df = grouped_titles.filter(lambda x: len(x) > 1) "
   ]
  },
  {
   "cell_type": "code",
   "execution_count": 70,
   "metadata": {},
   "outputs": [
    {
     "name": "stdout",
     "output_type": "stream",
     "text": [
      "<class 'pandas.core.frame.DataFrame'>\n",
      "Int64Index: 31210 entries, 1039 to 122545\n",
      "Data columns (total 9 columns):\n",
      "artist             31210 non-null object\n",
      "title              31210 non-null object\n",
      "medium             25296 non-null object\n",
      "year               28077 non-null object\n",
      "acquisitionYear    31189 non-null float64\n",
      "width              29470 non-null float64\n",
      "height             29473 non-null float64\n",
      "units              29473 non-null object\n",
      "size               29470 non-null float64\n",
      "dtypes: float64(4), object(5)\n",
      "memory usage: 2.4+ MB\n"
     ]
    }
   ],
   "source": [
    "filtered_df.info()"
   ]
  },
  {
   "cell_type": "code",
   "execution_count": 71,
   "metadata": {},
   "outputs": [
    {
     "data": {
      "text/plain": [
       "10"
      ]
     },
     "execution_count": 71,
     "metadata": {},
     "output_type": "execute_result"
    }
   ],
   "source": [
    "5+5"
   ]
  },
  {
   "cell_type": "markdown",
   "metadata": {},
   "source": [
    "## Data"
   ]
  },
  {
   "cell_type": "code",
   "execution_count": 84,
   "metadata": {},
   "outputs": [],
   "source": [
    "\n",
    "# You can change the backend used by matplotlib by including:\n",
    "\n",
    "import matplotlib\n",
    "matplotlib.use('TkAgg')"
   ]
  },
  {
   "cell_type": "code",
   "execution_count": 85,
   "metadata": {},
   "outputs": [
    {
     "data": {
      "text/plain": [
       "['artist',\n",
       " 'title',\n",
       " 'medium',\n",
       " 'year',\n",
       " 'acquisitionYear',\n",
       " 'width',\n",
       " 'height',\n",
       " 'units',\n",
       " 'size']"
      ]
     },
     "execution_count": 85,
     "metadata": {},
     "output_type": "execute_result"
    }
   ],
   "source": [
    "list(df)"
   ]
  },
  {
   "cell_type": "code",
   "execution_count": 86,
   "metadata": {},
   "outputs": [],
   "source": [
    "acquisition_years = df.groupby('acquisitionYear').size()"
   ]
  },
  {
   "cell_type": "code",
   "execution_count": 87,
   "metadata": {},
   "outputs": [
    {
     "data": {
      "text/plain": [
       "acquisitionYear\n",
       "1823.0    1\n",
       "1824.0    2\n",
       "1826.0    4\n",
       "1827.0    1\n",
       "1828.0    3\n",
       "dtype: int64"
      ]
     },
     "execution_count": 87,
     "metadata": {},
     "output_type": "execute_result"
    }
   ],
   "source": [
    "acquisition_years.head()"
   ]
  },
  {
   "cell_type": "code",
   "execution_count": 88,
   "metadata": {},
   "outputs": [
    {
     "name": "stderr",
     "output_type": "stream",
     "text": [
      "/Users/angelsaiz/anaconda3/lib/python3.7/site-packages/matplotlib/figure.py:2366: UserWarning: This figure includes Axes that are not compatible with tight_layout, so results might be incorrect.\n",
      "  warnings.warn(\"This figure includes Axes that are not compatible \"\n"
     ]
    },
    {
     "data": {
      "image/png": "[encoded data removed]",
      "text/plain": [
       "<Figure size 432x288 with 1 Axes>"
      ]
     },
     "metadata": {
      "needs_background": "light"
     },
     "output_type": "display_data"
    }
   ],
   "source": [
    "pl =acquisition_years.plot()"
   ]
  },
  {
   "cell_type": "code",
   "execution_count": 89,
   "metadata": {},
   "outputs": [],
   "source": [
    "import matplotlib.pyplot as plt\n",
    "from matplotlib import rcParams"
   ]
  },
  {
   "cell_type": "code",
   "execution_count": 90,
   "metadata": {},
   "outputs": [],
   "source": [
    "rcParams.update({'figure.autolayout':True,\n",
    "                'axes.titlepad':20})"
   ]
  },
  {
   "cell_type": "code",
   "execution_count": 91,
   "metadata": {},
   "outputs": [
    {
     "data": {
      "text/plain": [
       "<Figure size 432x288 with 0 Axes>"
      ]
     },
     "metadata": {},
     "output_type": "display_data"
    }
   ],
   "source": [
    "fig = plt.figure()"
   ]
  },
  {
   "cell_type": "code",
   "execution_count": 92,
   "metadata": {},
   "outputs": [],
   "source": [
    "subplot = fig.add_subplot(1,1,1)"
   ]
  },
  {
   "cell_type": "code",
   "execution_count": 95,
   "metadata": {},
   "outputs": [],
   "source": [
    "fig.savefig('f.png')"
   ]
  },
  {
   "cell_type": "code",
   "execution_count": 98,
   "metadata": {},
   "outputs": [
    {
     "data": {
      "text/plain": [
       "<matplotlib.axes._subplots.AxesSubplot at 0x1218b46a0>"
      ]
     },
     "execution_count": 98,
     "metadata": {},
     "output_type": "execute_result"
    }
   ],
   "source": [
    "acquisition_years.plot(ax=subplot)"
   ]
  },
  {
   "cell_type": "code",
   "execution_count": 99,
   "metadata": {},
   "outputs": [
    {
     "data": {
      "text/plain": [
       "Text(20.800000000000004, 0.5, 'Artworks Acquired')"
      ]
     },
     "execution_count": 99,
     "metadata": {},
     "output_type": "execute_result"
    }
   ],
   "source": [
    "subplot.set_xlabel('Acquisition Years')\n",
    "subplot.set_ylabel('Artworks Acquired')"
   ]
  },
  {
   "cell_type": "code",
   "execution_count": 100,
   "metadata": {},
   "outputs": [],
   "source": [
    "fig.savefig('f.png')"
   ]
  },
  {
   "cell_type": "markdown",
   "metadata": {},
   "source": [
    "![alt text](./f.png \"Logo Title Text 1\")"
   ]
  }
 ],
 "metadata": {
  "kernelspec": {
   "display_name": "Python 3",
   "language": "python",
   "name": "python3"
  },
  "language_info": {
   "codemirror_mode": {
    "name": "ipython",
    "version": 3
   },
   "file_extension": ".py",
   "mimetype": "text/x-python",
   "name": "python",
   "nbconvert_exporter": "python",
   "pygments_lexer": "ipython3",
   "version": "3.7.1"
  }
 },
 "nbformat": 4,
 "nbformat_minor": 2
}
